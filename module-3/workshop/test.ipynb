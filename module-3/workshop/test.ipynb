{
 "cells": [
  {
   "cell_type": "code",
   "execution_count": 2,
   "metadata": {},
   "outputs": [],
   "source": [
    "from langchain_ollama import ChatOllama\n",
    "\n",
    "llm = ChatOllama(model='llama3.2')"
   ]
  },
  {
   "cell_type": "code",
   "execution_count": 5,
   "metadata": {},
   "outputs": [
    {
     "data": {
      "text/plain": [
       "AIMessage(content=\"Hello Stephen! It's nice to meet you. Is there something I can help you with, or would you like to chat for a bit?\", additional_kwargs={}, response_metadata={'model': 'llama3.2', 'created_at': '2024-10-23T03:56:20.5856843Z', 'message': {'role': 'assistant', 'content': ''}, 'done_reason': 'stop', 'done': True, 'total_duration': 638791900, 'load_duration': 23387600, 'prompt_eval_count': 31, 'prompt_eval_duration': 20479000, 'eval_count': 30, 'eval_duration': 593418000}, id='run-670d508d-cc0c-4422-94a7-614d35701cb8-0', usage_metadata={'input_tokens': 31, 'output_tokens': 30, 'total_tokens': 61})"
      ]
     },
     "execution_count": 5,
     "metadata": {},
     "output_type": "execute_result"
    }
   ],
   "source": [
    "# INVOKE\n",
    "msg = \"Hi my name is Stephen!\"\n",
    "llm.invoke(msg)"
   ]
  },
  {
   "cell_type": "code",
   "execution_count": 28,
   "metadata": {},
   "outputs": [],
   "source": [
    "stream = llm.stream(msg)\n",
    "\n",
    "astream = llm.astream(msg)\n",
    "\n",
    "astream_events = llm.astream_events(msg, version='v2')\n"
   ]
  },
  {
   "cell_type": "code",
   "execution_count": 45,
   "metadata": {},
   "outputs": [
    {
     "data": {
      "text/plain": [
       "AIMessageChunk(content=' nice', additional_kwargs={}, response_metadata={}, id='run-4c2a2b87-04fe-4715-b790-6ce496ec72ab')"
      ]
     },
     "execution_count": 45,
     "metadata": {},
     "output_type": "execute_result"
    }
   ],
   "source": [
    "next(stream)"
   ]
  },
  {
   "cell_type": "code",
   "execution_count": 46,
   "metadata": {},
   "outputs": [
    {
     "data": {
      "text/plain": [
       "AIMessageChunk(content=' nice', additional_kwargs={}, response_metadata={}, id='run-d7cd5ac7-7960-47d2-98d6-77408c6ee1b5')"
      ]
     },
     "execution_count": 46,
     "metadata": {},
     "output_type": "execute_result"
    }
   ],
   "source": [
    "await astream.__anext__()"
   ]
  },
  {
   "cell_type": "code",
   "execution_count": 47,
   "metadata": {},
   "outputs": [
    {
     "data": {
      "text/plain": [
       "{'event': 'on_chat_model_stream',\n",
       " 'run_id': 'af20b452-b720-430b-b4e9-991de6e009e2',\n",
       " 'name': 'ChatOllama',\n",
       " 'tags': [],\n",
       " 'metadata': {'ls_provider': 'ollama',\n",
       "  'ls_model_name': 'llama3.2',\n",
       "  'ls_model_type': 'chat',\n",
       "  'ls_temperature': None},\n",
       " 'data': {'chunk': AIMessageChunk(content=' nice', additional_kwargs={}, response_metadata={}, id='run-af20b452-b720-430b-b4e9-991de6e009e2')},\n",
       " 'parent_ids': []}"
      ]
     },
     "execution_count": 47,
     "metadata": {},
     "output_type": "execute_result"
    }
   ],
   "source": [
    "await astream_events.__anext__()"
   ]
  }
 ],
 "metadata": {
  "kernelspec": {
   "display_name": "langgraph-course",
   "language": "python",
   "name": "python3"
  },
  "language_info": {
   "codemirror_mode": {
    "name": "ipython",
    "version": 3
   },
   "file_extension": ".py",
   "mimetype": "text/x-python",
   "name": "python",
   "nbconvert_exporter": "python",
   "pygments_lexer": "ipython3",
   "version": "3.11.10"
  }
 },
 "nbformat": 4,
 "nbformat_minor": 2
}
