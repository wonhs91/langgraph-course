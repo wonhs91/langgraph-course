{
 "cells": [
  {
   "cell_type": "code",
   "execution_count": 133,
   "metadata": {},
   "outputs": [
    {
     "data": {
      "text/plain": [
       "True"
      ]
     },
     "execution_count": 133,
     "metadata": {},
     "output_type": "execute_result"
    }
   ],
   "source": [
    "from dotenv import load_dotenv\n",
    "load_dotenv()"
   ]
  },
  {
   "cell_type": "code",
   "execution_count": 134,
   "metadata": {},
   "outputs": [],
   "source": [
    "# from langchain_ollama import ChatOllama\n",
    "\n",
    "# llm = ChatOllama(model=\"llama3.2\")\n",
    "from langchain_groq import ChatGroq\n",
    "llm = ChatGroq(model=\"llama-3.2-90b-vision-preview\")"
   ]
  },
  {
   "cell_type": "code",
   "execution_count": 135,
   "metadata": {},
   "outputs": [],
   "source": [
    "# Tools\n",
    "import random\n",
    "\n",
    "from langchain_core.messages import SystemMessage, HumanMessage\n",
    "\n",
    "def createAnagram(a: str, b: str) -> str:\n",
    "  \"\"\"This functiton creates an anangram using the the words wrapped around in single quotets. \n",
    "\n",
    "  Args:\n",
    "      a: First word wrapped around in single quotes; exclude the single quotes when passing in\n",
    "      b: Second word wrapped around in single quotes; exclude the single quotes when passing in\n",
    "  \"\"\"\n",
    "  list_chars = list(a + b)\n",
    "  random.shuffle(list_chars)\n",
    "  return ''.join(list_chars)\n",
    "\n",
    "def boxTheWord(a: str) -> str:\n",
    "  \"\"\"This function will add '|' at the beginning and the end of the word\n",
    "\n",
    "  Args:\n",
    "      a: Word  that is wrapped around in single quotes; exclude the single quotes when passing in\n",
    "\n",
    "  \"\"\"\n",
    "  \n",
    "  return \"|\" + a + \"|\"\n",
    "\n",
    "def generateExplanation(korean_message: str) -> str:\n",
    "  \"\"\"This function is going to translate the Korean message into English\n",
    "\n",
    "  Args:\n",
    "      korean_message: Korean message\n",
    "  \"\"\"\n",
    "  \n",
    "  sys_msg = \"\"\"\n",
    "  You are a Korean-English translator. Translate Korean message into English as accurately as possible. \n",
    "  Also, you are a cute translator. Add cute and sweet sentiment when traslating Korean message into English.\n",
    "  \"\"\"\n",
    "  \n",
    "  response = llm.invoke([SystemMessage(content=sys_msg), HumanMessage(content=korean_message)] )\n",
    "  return response.content\n",
    "\n",
    "\n",
    "tools = [createAnagram, boxTheWord, generateExplanation]\n",
    "\n",
    "llm_with_tools = llm.bind_tools(tools)"
   ]
  },
  {
   "cell_type": "code",
   "execution_count": 136,
   "metadata": {},
   "outputs": [],
   "source": [
    "# State\n",
    "from typing import TypedDict, Annotated\n",
    "from langchain_core.messages import AnyMessage, RemoveMessage\n",
    "from langgraph.graph import add_messages\n",
    "\n",
    "class State(TypedDict):\n",
    "  messages: Annotated[list[AnyMessage], add_messages]\n",
    "  summary: str\n",
    "  "
   ]
  },
  {
   "cell_type": "code",
   "execution_count": 137,
   "metadata": {},
   "outputs": [],
   "source": [
    "# Node\n",
    "\n",
    "def tool_calling_llm(state):\n",
    "  sys_msg = (\"You are a helpful assistant that helps with the user requests.\\n\")\n",
    "  \n",
    "  if state.get('summary'):\n",
    "    sys_msg += (\"Use the following summary of the earlier conversation for the context.\\n\"\n",
    "                f\"Summary of the earlier conversation: {state['summary']}\")\n",
    "  return {\n",
    "    \"messages\": llm_with_tools.invoke([SystemMessage(content=sys_msg)] + state['messages'])\n",
    "  }\n",
    "  \n",
    "def summarizing_llm(state):\n",
    "  if state.get('summary'):\n",
    "    request = f\"\"\"\n",
    "    Summary of the earlier conversation: {state['summary']}\n",
    "    \n",
    "    Summarize the new conversations of above and extend the summary.\n",
    "    \"\"\"\n",
    "  else:\n",
    "    request = \"\"\"Summarize the above conversation\"\"\"\n",
    "    \n",
    "  response = llm.invoke(state['messages'] + [HumanMessage(content=request)])\n",
    "  \n",
    "  return {\n",
    "    'messages': [RemoveMessage(id=m.id) for m in state['messages'][:-2]],\n",
    "    'summary': response.content\n",
    "  }\n",
    "    "
   ]
  },
  {
   "cell_type": "code",
   "execution_count": 138,
   "metadata": {},
   "outputs": [
    {
     "data": {
      "image/jpeg": "[encoded data removed]",
      "text/plain": [
       "<IPython.core.display.Image object>"
      ]
     },
     "metadata": {},
     "output_type": "display_data"
    }
   ],
   "source": [
    "# builder\n",
    "from langgraph.graph import StateGraph, START, END\n",
    "from langgraph.checkpoint.sqlite import SqliteSaver\n",
    "from langgraph.prebuilt import ToolNode\n",
    "\n",
    "builder = StateGraph(State)\n",
    "builder.add_node(tool_calling_llm)\n",
    "builder.add_node(ToolNode(tools))\n",
    "builder.add_node(summarizing_llm)\n",
    "\n",
    "# edge\n",
    "def summarize_and_react_conditional(state):\n",
    "  if len(state['messages']) > 6:\n",
    "    return \"summarizing_llm\"\n",
    "  else:\n",
    "    return _react_tool_condititonal(state)\n",
    "  \n",
    "def _react_tool_condititonal(state):\n",
    "    if isinstance(state, list):\n",
    "        ai_message = state[-1]\n",
    "    elif isinstance(state, dict) and (messages := state.get(\"messages\", [])):\n",
    "        ai_message = messages[-1]\n",
    "    elif messages := getattr(state, \"messages\", []):\n",
    "        ai_message = messages[-1]\n",
    "    else:\n",
    "        raise ValueError(f\"No messages found in input state to tool_edge: {state}\")\n",
    "    if hasattr(ai_message, \"tool_calls\") and len(ai_message.tool_calls) > 0:\n",
    "        return \"tools\"\n",
    "    return \"__end__\"\n",
    "\n",
    "builder.add_edge(START, 'tool_calling_llm')\n",
    "builder.add_conditional_edges('tool_calling_llm', summarize_and_react_conditional)\n",
    "builder.add_edge('tools', 'tool_calling_llm')\n",
    "builder.add_edge('summarizing_llm', 'tool_calling_llm')\n",
    "\n",
    "from sqlite3 import connect\n",
    "db_path = 'db/breakpoint.db'\n",
    "conn = connect(db_path, check_same_thread=False)\n",
    "memory = SqliteSaver(conn)\n",
    "graph = builder.compile(memory, interrupt_before=['tools'])\n",
    "\n",
    "from IPython.display import display, Image\n",
    "display(Image(graph.get_graph().draw_mermaid_png()))"
   ]
  },
  {
   "cell_type": "code",
   "execution_count": 139,
   "metadata": {},
   "outputs": [],
   "source": [
    "config = {'configurable': {'thread_id': 1}}\n",
    "\n",
    "input = \"hmm now translate this: 나는 천재입니다. 하지만 이건 너무 어렵네요\"\n",
    "state = {\n",
    "  \"messages\": [HumanMessage(input)]\n",
    "}\n",
    "\n",
    "stream = graph.stream(state, config, stream_mode='updates')"
   ]
  },
  {
   "cell_type": "code",
   "execution_count": 140,
   "metadata": {},
   "outputs": [
    {
     "name": "stdout",
     "output_type": "stream",
     "text": [
      "<built-in method values of AddableUpdatesDict object at 0x000001C2E29A9910>\n",
      "---------------------------------------------------------------------------\n",
      "<built-in method values of AddableUpdatesDict object at 0x000001C2E2A600B0>\n",
      "---------------------------------------------------------------------------\n",
      "<built-in method values of AddableUpdatesDict object at 0x000001C2E29A9910>\n",
      "---------------------------------------------------------------------------\n"
     ]
    }
   ],
   "source": [
    "for m in stream: \n",
    "  print(m.values)\n",
    "  print('---' * 25)"
   ]
  },
  {
   "cell_type": "code",
   "execution_count": 141,
   "metadata": {},
   "outputs": [
    {
     "name": "stdout",
     "output_type": "stream",
     "text": [
      "['__add__', '__annotations__', '__class__', '__class_getitem__', '__contains__', '__delattr__', '__dir__', '__doc__', '__eq__', '__format__', '__ge__', '__getattribute__', '__getitem__', '__getnewargs__', '__getstate__', '__gt__', '__hash__', '__init__', '__init_subclass__', '__iter__', '__le__', '__len__', '__lt__', '__match_args__', '__module__', '__mul__', '__ne__', '__new__', '__orig_bases__', '__reduce__', '__reduce_ex__', '__repr__', '__rmul__', '__setattr__', '__sizeof__', '__slots__', '__str__', '__subclasshook__', '_asdict', '_field_defaults', '_fields', '_make', '_replace', 'config', 'count', 'created_at', 'index', 'metadata', 'next', 'parent_config', 'tasks', 'values']\n",
      "================================\u001b[1m Human Message \u001b[0m=================================\n",
      "\n",
      "hmm now translate this: 나는 천재입니다. 하지만 이건 너무 어렵네요\n",
      "==================================\u001b[1m Ai Message \u001b[0m==================================\n",
      "Tool Calls:\n",
      "  generateExplanation (call_x8qw)\n",
      " Call ID: call_x8qw\n",
      "  Args:\n",
      "    korean_message: 나 천집입력주세요. 었나 을 올량린력주세요다.\n",
      "==================================\u001b[1m Ai Message \u001b[0m==================================\n"
     ]
    },
    {
     "data": {
      "text/plain": [
       "{'source': 'loop',\n",
       " 'writes': {'tool_calling_llm': {'messages': AIMessage(content='', additional_kwargs={}, response_metadata={'token_usage': {'completion_tokens': 1, 'prompt_tokens': 832, 'total_tokens': 833, 'completion_time': 0.007635792, 'prompt_time': 0.097340863, 'queue_time': -9223372036.952118, 'total_time': 0.104976655}, 'model_name': 'llama-3.2-90b-vision-preview', 'system_fingerprint': 'fp_9c2a937c92', 'finish_reason': 'stop', 'logprobs': None}, id='run-508a1b64-dc29-4955-b3cc-a7274d7fa010-0', usage_metadata={'input_tokens': 832, 'output_tokens': 1, 'total_tokens': 833})}},\n",
       " 'step': 45,\n",
       " 'parents': {}}"
      ]
     },
     "execution_count": 141,
     "metadata": {},
     "output_type": "execute_result"
    }
   ],
   "source": [
    "\n",
    "snapshot = graph.get_state(config)\n",
    "print(dir(snapshot))\n",
    "\n",
    "\n",
    "for m in snapshot.values['messages']:\n",
    "  m.pretty_print()\n",
    "  \n",
    "snapshot.metadata\n"
   ]
  },
  {
   "cell_type": "code",
   "execution_count": 142,
   "metadata": {},
   "outputs": [],
   "source": [
    "# snapshot_history = graph.get_state_history(config)\n",
    "\n",
    "# for snapshot in snapshot_history:\n",
    "#   print(snapshot.metadata)\n",
    "#   print('---' * 25)"
   ]
  },
  {
   "cell_type": "code",
   "execution_count": 143,
   "metadata": {},
   "outputs": [
    {
     "data": {
      "text/plain": [
       "<generator object Pregel.stream at 0x000001C2E283D9A0>"
      ]
     },
     "execution_count": 143,
     "metadata": {},
     "output_type": "execute_result"
    }
   ],
   "source": [
    "new_stream = graph.stream(None, config)\n",
    "new_stream"
   ]
  },
  {
   "cell_type": "code",
   "execution_count": 144,
   "metadata": {},
   "outputs": [],
   "source": [
    "for info in new_stream:\n",
    "  print(info)\n",
    "  print('---' * 25)"
   ]
  }
 ],
 "metadata": {
  "kernelspec": {
   "display_name": "langgraph-course",
   "language": "python",
   "name": "python3"
  },
  "language_info": {
   "codemirror_mode": {
    "name": "ipython",
    "version": 3
   },
   "file_extension": ".py",
   "mimetype": "text/x-python",
   "name": "python",
   "nbconvert_exporter": "python",
   "pygments_lexer": "ipython3",
   "version": "3.11.10"
  }
 },
 "nbformat": 4,
 "nbformat_minor": 2
}
