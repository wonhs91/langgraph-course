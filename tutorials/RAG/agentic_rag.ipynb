{
 "cells": [
  {
   "cell_type": "code",
   "execution_count": 22,
   "metadata": {},
   "outputs": [
    {
     "data": {
      "text/plain": [
       "True"
      ]
     },
     "execution_count": 22,
     "metadata": {},
     "output_type": "execute_result"
    }
   ],
   "source": [
    "from dotenv import load_dotenv\n",
    "\n",
    "load_dotenv()"
   ]
  },
  {
   "cell_type": "code",
   "execution_count": 23,
   "metadata": {},
   "outputs": [],
   "source": [
    "# populate vectorstore\n",
    "from langchain_community.document_loaders import WebBaseLoader\n",
    "from langchain_text_splitters import RecursiveCharacterTextSplitter\n",
    "from langchain_community.vectorstores import Chroma\n",
    "from langchain_openai import OpenAIEmbeddings\n",
    "from langchain.tools.retriever import create_retriever_tool\n",
    "\n",
    "urls = [\n",
    "    \"https://lilianweng.github.io/posts/2023-06-23-agent/\",\n",
    "    \"https://lilianweng.github.io/posts/2023-03-15-prompt-engineering/\",\n",
    "    \"https://lilianweng.github.io/posts/2023-10-25-adv-attack-llm/\",\n",
    "]\n",
    "\n",
    "# load documents\n",
    "docs = [WebBaseLoader(url).load() for url in urls]\n",
    "individual_docs = [item for doc in docs for item in doc]\n",
    "\n",
    "# split text\n",
    "splitter = RecursiveCharacterTextSplitter.from_tiktoken_encoder(chunk_size=254, chunk_overlap=50)\n",
    "doc_split = splitter.split_documents(individual_docs)\n",
    "\n",
    "# store in vectorstore\n",
    "vectorstore = Chroma.from_documents(\n",
    "  documents=doc_split,\n",
    "  embedding=OpenAIEmbeddings(),\n",
    "  collection_name=\"blog-posts\"\n",
    ")\n",
    "\n",
    "retriever = vectorstore.as_retriever()\n",
    "\n",
    "retriever_tool = create_retriever_tool(\n",
    "  retriever,\n",
    "  name=\"retrieve_blog_posts\",\n",
    "  description=\"Search and return information about blog posts on LLM agents, prompt engineering, and adversarial attacks on LLMs\")\n",
    "tools = [retriever_tool]"
   ]
  },
  {
   "cell_type": "code",
   "execution_count": 24,
   "metadata": {},
   "outputs": [],
   "source": [
    "from typing import Annotated, Literal\n",
    "from typing_extensions import TypedDict\n",
    "from langchain_core.messages import AnyMessage\n",
    "from langgraph.graph import add_messages\n",
    "\n",
    "class AgentState(TypedDict):\n",
    "  messages = Annotated[list[AnyMessage], add_messages]"
   ]
  },
  {
   "cell_type": "code",
   "execution_count": 25,
   "metadata": {},
   "outputs": [],
   "source": [
    "from langchain_ollama import ChatOllama\n",
    "\n",
    "llm = ChatOllama(model=\"llama3.2\")\n",
    "tools = [retriever_tool]"
   ]
  },
  {
   "cell_type": "code",
   "execution_count": null,
   "metadata": {},
   "outputs": [
    {
     "ename": "",
     "evalue": "",
     "output_type": "error",
     "traceback": [
      "\u001b[1;31mThe Kernel crashed while executing code in the current cell or a previous cell. \n",
      "\u001b[1;31mPlease review the code in the cell(s) to identify a possible cause of the failure. \n",
      "\u001b[1;31mClick <a href='https://aka.ms/vscodeJupyterKernelCrash'>here</a> for more info. \n",
      "\u001b[1;31mView Jupyter <a href='command:jupyter.viewOutput'>log</a> for further details."
     ]
    }
   ],
   "source": [
    "from langchain_core.messages import HumanMessage, SystemMessage\n",
    "\n",
    "def agent(state):\n",
    "  \"\"\"\n",
    "  Agent that invokes model to generate response based on the current state. It also decides whether to call retriever\n",
    "  \"\"\"\n",
    "  print(\"=== Call Agent ===\")\n",
    "  \n",
    "  sys_msg = \"\"\"\n",
    "    You are an expert in LLM agent, prompt engineering, and adversarial attacks on LLMs.\n",
    "  Given the following context generate an answer to the question: {question}\n",
    "  \n",
    "  At the bottom of the answer, source where that relevant information was found as a list.\n",
    "  The source should only contain urls.\n",
    "  \"\"\"\n",
    "  llm_with_retriever = llm.bind_tools(tools)\n",
    "  response = llm_with_retriever.invoke(state['messages'])\n",
    "  \n",
    "  return {\n",
    "    \"messages\": [response]\n",
    "  }\n",
    " \n",
    "def rewrite(state):\n",
    "  \"\"\"\n",
    "  Transform the query to produce a better question\n",
    "  \"\"\"\n",
    "  print(\"=== Rewrite Query ===\")\n",
    "  rewrite_query = f\"\"\"\n",
    "  Look at the input and try to reason about the underlying semantic intent / meaning\n",
    "  Here is the initial question:\n",
    "  ----------\n",
    "  {state['messages'][0].content}\n",
    "  ----------\n",
    "  Formulate an improved question\n",
    "  \"\"\"\n",
    "  response = llm.invoke(HumanMessage(content=rewrite_query))\n",
    "  return { 'messages': [response]}\n",
    "\n",
    "def generate_answer(state):\n",
    "  \"\"\"\n",
    "  Generate answer\n",
    "  \"\"\"\n",
    "  \n",
    "  print(\"=== Generate Answer ===\")\n",
    "  question = state['messages'][0].content\n",
    "  \n",
    "  sys_msg = f\"\"\"\n",
    "  You are an expert in LLM agent, prompt engineering, and adversarial attacks on LLMs.\n",
    "  Given the following context generate an answer to the question: {question}\n",
    "  \n",
    "  At the bottom of the answer, source where that relevant information was found as a list.\n",
    "  The source should only contain urls.\n",
    "  \"\"\"\n",
    "  \n",
    "  response = llm.invoke([SystemMessage(content=sys_msg)] + state['messages'])\n",
    "  \n",
    "  return {\n",
    "    'messages': [response]\n",
    "  }\n",
    "\n",
    "# edges\n",
    "\n",
    "  "
   ]
  }
 ],
 "metadata": {
  "kernelspec": {
   "display_name": "langgraph-course",
   "language": "python",
   "name": "python3"
  },
  "language_info": {
   "codemirror_mode": {
    "name": "ipython",
    "version": 3
   },
   "file_extension": ".py",
   "mimetype": "text/x-python",
   "name": "python",
   "nbconvert_exporter": "python",
   "pygments_lexer": "ipython3",
   "version": "3.11.10"
  }
 },
 "nbformat": 4,
 "nbformat_minor": 2
}
