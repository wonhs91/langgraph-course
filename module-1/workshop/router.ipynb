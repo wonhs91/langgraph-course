{
 "cells": [
  {
   "cell_type": "code",
   "execution_count": 39,
   "metadata": {},
   "outputs": [
    {
     "data": {
      "text/plain": [
       "True"
      ]
     },
     "execution_count": 39,
     "metadata": {},
     "output_type": "execute_result"
    }
   ],
   "source": [
    "from dotenv import load_dotenv\n",
    "load_dotenv()"
   ]
  },
  {
   "cell_type": "code",
   "execution_count": 40,
   "metadata": {},
   "outputs": [],
   "source": [
    "from langchain_ollama import ChatOllama\n",
    "llm = ChatOllama(model=\"llama3.2\")"
   ]
  },
  {
   "cell_type": "code",
   "execution_count": 41,
   "metadata": {},
   "outputs": [],
   "source": [
    "# tools\n",
    "\n",
    "class Book:\n",
    "\n",
    "  def __init__(self, title, author, personal_desc=\"\"):\n",
    "    self.title = title\n",
    "    self.author = author\n",
    "    self.personal_desc = personal_desc\n",
    "  \n",
    "  @property\n",
    "  def __dict__(self):\n",
    "    return {key: value for key, value in self.__dict__.items()}\n",
    "  \n",
    "  def print_book(self):\n",
    "    \"this is a book object\"\n",
    "\n",
    "def create_book(title: str, author: str) -> Book:\n",
    "  \"\"\"When title and author is given, create a book object. If there is no specific book title or author, do not run this tool\n",
    "\n",
    "  Args:\n",
    "      title: title of the book\n",
    "      author: author of the book\n",
    "\n",
    "  Returns:\n",
    "      Book: Book object that contains title, author and personal book description\n",
    "  \"\"\"\n",
    "  book = Book(title, author, \"this is my personal book description\")\n",
    "  return book\n",
    "\n",
    "def multiply(a: int, b: int) -> int:\n",
    "  \"\"\"multiply a and b\n",
    "\n",
    "  Args:\n",
    "      a: the first integer\n",
    "      b: the second integer\n",
    "\n",
    "  Returns:\n",
    "      int: the result of multiplication of a and b\n",
    "  \"\"\"\n",
    "  return a * b\n",
    "\n",
    "llm_with_tool = llm.bind_tools([create_book, multiply])"
   ]
  },
  {
   "cell_type": "code",
   "execution_count": 42,
   "metadata": {},
   "outputs": [],
   "source": [
    "# state\n",
    "from langgraph.graph import MessagesState\n",
    "\n",
    "class MyMessagesState(MessagesState):\n",
    "  pass"
   ]
  },
  {
   "cell_type": "code",
   "execution_count": 43,
   "metadata": {},
   "outputs": [],
   "source": [
    "# node\n",
    "def tool_calling_llm(state):\n",
    "  return {\n",
    "    \"messages\": [llm_with_tool.invoke(state['messages'])]\n",
    "  }\n",
    "  \n"
   ]
  },
  {
   "cell_type": "code",
   "execution_count": 44,
   "metadata": {},
   "outputs": [],
   "source": [
    "# grraph building\n",
    "from langgraph.graph import StateGraph, START, END\n",
    "from langgraph.prebuilt import ToolNode, tools_condition\n",
    "\n",
    "builder = StateGraph(MyMessagesState)\n",
    "\n",
    "builder.add_node(\"tool_llm\", tool_calling_llm)\n",
    "builder.add_node(\"tools\", ToolNode([create_book, multiply]))\n",
    "builder.add_edge(START, \"tool_llm\")\n",
    "builder.add_conditional_edges(\"tool_llm\", tools_condition)\n",
    "builder.add_edge('tools', END)\n",
    "\n",
    "graph = builder.compile()\n"
   ]
  },
  {
   "cell_type": "code",
   "execution_count": 45,
   "metadata": {},
   "outputs": [
    {
     "data": {
      "image/jpeg": "[encoded data removed]",
      "text/plain": [
       "<IPython.core.display.Image object>"
      ]
     },
     "metadata": {},
     "output_type": "display_data"
    }
   ],
   "source": [
    "from IPython.display import display, Image\n",
    "\n",
    "display(Image(graph.get_graph().draw_mermaid_png()))"
   ]
  },
  {
   "cell_type": "code",
   "execution_count": 46,
   "metadata": {},
   "outputs": [],
   "source": [
    "from langchain_core.messages import HumanMessage\n",
    "orig_state = {\n",
    "  \"messages\": [HumanMessage(content=\"This is book for 'the rosie project' by 'Geralt of Rivia'\")]\n",
    "}\n",
    "\n",
    "response = graph.invoke(orig_state)"
   ]
  },
  {
   "cell_type": "code",
   "execution_count": 47,
   "metadata": {},
   "outputs": [
    {
     "name": "stdout",
     "output_type": "stream",
     "text": [
      "content=\"This is book for 'the rosie project' by 'Geralt of Rivia'\" additional_kwargs={} response_metadata={} id='e18390b9-a546-4c65-9477-7d7c07763e79'\n",
      "---------------------------------------------------------------------------\n",
      "content='' additional_kwargs={} response_metadata={'model': 'llama3.2', 'created_at': '2024-10-25T01:17:05.8351373Z', 'message': {'role': 'assistant', 'content': '', 'tool_calls': [{'function': {'name': 'create_book', 'arguments': {'author': 'Geralt of Rivia', 'title': 'the rosie project'}}}]}, 'done_reason': 'stop', 'done': True, 'total_duration': 694192500, 'load_duration': 45811400, 'prompt_eval_count': 268, 'prompt_eval_duration': 27711000, 'eval_count': 30, 'eval_duration': 608788000} id='run-74e5de92-fbd8-42c1-b8c8-76ef72830070-0' tool_calls=[{'name': 'create_book', 'args': {'author': 'Geralt of Rivia', 'title': 'the rosie project'}, 'id': '4a229e21-f16e-4904-9d04-b3dfeade9e10', 'type': 'tool_call'}] usage_metadata={'input_tokens': 268, 'output_tokens': 30, 'total_tokens': 298}\n",
      "---------------------------------------------------------------------------\n",
      "content='<__main__.Book object at 0x000002413002C790>' name='create_book' id='e1a9bc9e-029a-4bb9-85f1-9a782abc1c99' tool_call_id='4a229e21-f16e-4904-9d04-b3dfeade9e10'\n",
      "---------------------------------------------------------------------------\n"
     ]
    }
   ],
   "source": [
    "from langchain_core.messages import ToolMessage\n",
    "\n",
    "for m in response['messages']:\n",
    "  print(m)\n",
    "  print(\"---\" * 25)\n",
    "  if isinstance(m, ToolMessage):\n",
    "    book = m.content\n"
   ]
  },
  {
   "cell_type": "code",
   "execution_count": 52,
   "metadata": {},
   "outputs": [
    {
     "data": {
      "text/plain": [
       "{'messages': [HumanMessage(content=\"This is book for 'the rosie project' by 'Geralt of Rivia'\", additional_kwargs={}, response_metadata={}, id='e18390b9-a546-4c65-9477-7d7c07763e79'),\n",
       "  AIMessage(content='', additional_kwargs={}, response_metadata={'model': 'llama3.2', 'created_at': '2024-10-25T01:17:05.8351373Z', 'message': {'role': 'assistant', 'content': '', 'tool_calls': [{'function': {'name': 'create_book', 'arguments': {'author': 'Geralt of Rivia', 'title': 'the rosie project'}}}]}, 'done_reason': 'stop', 'done': True, 'total_duration': 694192500, 'load_duration': 45811400, 'prompt_eval_count': 268, 'prompt_eval_duration': 27711000, 'eval_count': 30, 'eval_duration': 608788000}, id='run-74e5de92-fbd8-42c1-b8c8-76ef72830070-0', tool_calls=[{'name': 'create_book', 'args': {'author': 'Geralt of Rivia', 'title': 'the rosie project'}, 'id': '4a229e21-f16e-4904-9d04-b3dfeade9e10', 'type': 'tool_call'}], usage_metadata={'input_tokens': 268, 'output_tokens': 30, 'total_tokens': 298}),\n",
       "  ToolMessage(content='<__main__.Book object at 0x000002413002C790>', name='create_book', id='e1a9bc9e-029a-4bb9-85f1-9a782abc1c99', tool_call_id='4a229e21-f16e-4904-9d04-b3dfeade9e10')]}"
      ]
     },
     "execution_count": 52,
     "metadata": {},
     "output_type": "execute_result"
    }
   ],
   "source": [
    "response"
   ]
  }
 ],
 "metadata": {
  "kernelspec": {
   "display_name": "langgraph-course",
   "language": "python",
   "name": "python3"
  },
  "language_info": {
   "codemirror_mode": {
    "name": "ipython",
    "version": 3
   },
   "file_extension": ".py",
   "mimetype": "text/x-python",
   "name": "python",
   "nbconvert_exporter": "python",
   "pygments_lexer": "ipython3",
   "version": "3.11.10"
  }
 },
 "nbformat": 4,
 "nbformat_minor": 2
}
