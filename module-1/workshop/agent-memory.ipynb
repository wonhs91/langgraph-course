{
 "cells": [
  {
   "cell_type": "code",
   "execution_count": 10,
   "metadata": {},
   "outputs": [
    {
     "data": {
      "text/plain": [
       "True"
      ]
     },
     "execution_count": 10,
     "metadata": {},
     "output_type": "execute_result"
    }
   ],
   "source": [
    "from dotenv import load_dotenv\n",
    "load_dotenv()"
   ]
  },
  {
   "cell_type": "code",
   "execution_count": 11,
   "metadata": {},
   "outputs": [],
   "source": [
    "from langchain_ollama import ChatOllama\n",
    "from langchain_groq import ChatGroq\n",
    "llm = ChatGroq(model=\"llama-3.2-90b-vision-preview\")"
   ]
  },
  {
   "cell_type": "code",
   "execution_count": 12,
   "metadata": {},
   "outputs": [],
   "source": [
    "from langchain_community.tools import WikipediaQueryRun\n",
    "from langchain_community.utilities import WikipediaAPIWrapper\n",
    "\n",
    "api_wrapper = WikipediaAPIWrapper()\n",
    "wiki = WikipediaQueryRun(api_wrapper=api_wrapper)\n",
    "\n",
    "tools = [wiki]\n",
    "llm_with_tools = llm.bind_tools(tools)"
   ]
  },
  {
   "cell_type": "code",
   "execution_count": 13,
   "metadata": {},
   "outputs": [],
   "source": [
    "# state\n",
    "from langgraph.graph import MessagesState\n",
    "from typing import Annotated\n",
    "\n",
    "def increment_track_num(orig, new):\n",
    "  if orig == None: \n",
    "    return 0\n",
    "  \n",
    "  return orig + 1\n",
    "\n",
    "class State(MessagesState):\n",
    "  track_num: Annotated[int, increment_track_num]\n",
    "  pass"
   ]
  },
  {
   "cell_type": "code",
   "execution_count": 14,
   "metadata": {},
   "outputs": [],
   "source": [
    "# node\n",
    "from copy import deepcopy\n",
    "from langchain_core.messages import SystemMessage, HumanMessage\n",
    "\n",
    "sys_msg = SystemMessage(content=\"You are a helpful assistant named Maruka that helps provide inforamtion that the user asks about by searching wikipedia documents. If there is any unknown search them again until you find the answer\")\n",
    "\n",
    "def wiki_calling_llm(state):  \n",
    "  \n",
    "  new_state = deepcopy(state)\n",
    "  new_state['messages'] = [llm_with_tools.invoke([sys_msg] + state['messages'])]\n",
    "  return new_state"
   ]
  },
  {
   "cell_type": "code",
   "execution_count": 15,
   "metadata": {},
   "outputs": [
    {
     "data": {
      "image/jpeg": "[encoded data removed]",
      "text/plain": [
       "<IPython.core.display.Image object>"
      ]
     },
     "metadata": {},
     "output_type": "display_data"
    }
   ],
   "source": [
    "# graph\n",
    "from langgraph.graph import StateGraph, START, END\n",
    "from langgraph.prebuilt import ToolNode, tools_condition\n",
    "\n",
    "builder = StateGraph(State)\n",
    "\n",
    "builder.add_node(\"wiki_llm\", wiki_calling_llm)\n",
    "builder.add_node(\"tools\", ToolNode(tools))\n",
    "\n",
    "builder.add_edge(START, \"wiki_llm\")\n",
    "builder.add_conditional_edges(\"wiki_llm\", tools_condition)\n",
    "builder.add_edge(\"tools\", \"wiki_llm\")\n",
    "\n",
    "\n",
    "# memory\n",
    "from langgraph.checkpoint.memory import MemorySaver\n",
    "\n",
    "memory = MemorySaver()\n",
    "\n",
    "graph = builder.compile(checkpointer=memory)\n",
    "\n",
    "from IPython.display import display, Image\n",
    "\n",
    "display(Image(graph.get_graph().draw_mermaid_png()))\n",
    "\n"
   ]
  },
  {
   "cell_type": "code",
   "execution_count": 16,
   "metadata": {},
   "outputs": [],
   "source": [
    "config = {'configurable': {'thread_id': 1}}\n",
    "\n",
    "state = {\n",
    "  \"messages\": [HumanMessage(content=\"Who was the korean author who got the Nobel Prize this year (2024)?\")]\n",
    "}\n",
    "response = graph.stream(state, config)"
   ]
  },
  {
   "cell_type": "code",
   "execution_count": 17,
   "metadata": {},
   "outputs": [
    {
     "name": "stdout",
     "output_type": "stream",
     "text": [
      "{'wiki_llm': {'messages': [AIMessage(content='', additional_kwargs={'tool_calls': [{'id': 'call_7wx9', 'function': {'arguments': '{\"query\": \"Korean Nobel Prize in Literature 2024 winner\"}', 'name': 'wikipedia'}, 'type': 'function'}]}, response_metadata={'token_usage': {'completion_tokens': 23, 'prompt_tokens': 336, 'total_tokens': 359, 'completion_time': 0.092, 'prompt_time': 0.084279254, 'queue_time': 0.005336131000000008, 'total_time': 0.176279254}, 'model_name': 'llama-3.2-90b-vision-preview', 'system_fingerprint': 'fp_b3ae7e594e', 'finish_reason': 'tool_calls', 'logprobs': None}, id='run-8962df15-f38f-43f7-9d52-22e6998e3874-0', tool_calls=[{'name': 'wikipedia', 'args': {'query': 'Korean Nobel Prize in Literature 2024 winner'}, 'id': 'call_7wx9', 'type': 'tool_call'}], usage_metadata={'input_tokens': 336, 'output_tokens': 23, 'total_tokens': 359})], 'track_num': 0}}\n",
      "{'tools': {'messages': [ToolMessage(content='Page: Nobel Prize in Literature\\nSummary: The Nobel Prize in Literature, here meaning for Literature, (Swedish: Nobelpriset i litteratur) is a Swedish literature prize that is awarded annually, since 1901, to an author from any country who has, in the words of the will of Swedish industrialist Alfred Nobel, \"in the field of literature, produced the most outstanding work in an idealistic direction\" (original Swedish: den som inom litteraturen har producerat det utmärktaste i idealisk riktning). Though individual works are sometimes cited as being particularly noteworthy, the award is based on an author\\'s body of work as a whole. The Swedish Academy decides who, if anyone, will receive the prize.\\nThe academy announces the name of the laureate in early October. It is one of the five Nobel Prizes established by the will of Alfred Nobel in 1895. Literature is traditionally the final award presented at the Nobel Prize ceremony. On some occasions, the award has been postponed to the following year, most recently in 2018.\\n\\nPage: List of Nobel laureates in Literature\\nSummary: The Nobel Prize in Literature (Swedish: Nobelpriset i litteratur) is awarded annually by the Swedish Academy to authors for outstanding contributions in the field of literature. It is one of the five Nobel Prizes established by the 1895 will of Alfred Nobel, which are awarded for outstanding contributions in chemistry, physics, literature, peace, and physiology or medicine. As dictated by Nobel\\'s will, the award is administered by the Nobel Foundation and awarded by the Swedish Academy. Each recipient receives a medal, a diploma and a monetary award prize that has varied throughout the years. In 1901, the first laureate Sully Prudhomme received 150,782 SEK, which is equivalent to 8,823,637.78 SEK in January 2018. The award is presented in Stockholm at an annual ceremony on December 10, the anniversary of Nobel\\'s death.\\nAs of 2024, the Nobel Prize in Literature has been awarded to 121 individuals. 18 women have been awarded the Nobel Prize in Literature, the second highest number of any of the Nobel Prizes behind the Nobel Peace Prize. As of 2024, there have been 29 English-speaking laureates of the Nobel Prize in Literature, followed by French with 16 laureates and German with 14 laureates. France has the highest number of Nobel laureates.\\n\\n\\n\\nPage: Nobel Prize controversies\\nSummary: Since the first award in 1901, conferment of the Nobel Prize has engendered criticism and controversy. After his death in 1896, the will of Swedish industrialist Alfred Nobel established that an annual prize be awarded for service to humanity in the fields of physics, chemistry, physiology or medicine, literature, and peace. Similarly, the Sveriges Riksbank Prize in Economic Sciences in Memory of Alfred Nobel is awarded along with the Nobel Prizes.\\nNobel sought to reward \"those who, during the preceding year, shall have conferred the greatest benefit on mankind\". One prize, he stated, should be given \"to the person who shall have made the most important \\'discovery\\' or \\'invention\\' within the field of physics\". Awards committees have historically rewarded discoveries over inventions: up to 2004, 77 per cent of Nobel Prizes in physics have been given to discoveries, compared with only 23 per cent to inventions. In addition, the scientific prizes typically reward contributions over an entire career rather than a single year.\\nNo Nobel Prize was established for mathematics and many other scientific and cultural fields. An early theory that envy or rivalry led Nobel to omit a prize to mathematician Gösta Mittag-Leffler was refuted because of timing inaccuracies. Another myth that states that Nobel\\'s spouse had an affair with a mathematician (sometimes attributed as Mittag-Leffler) has been equally debunked: Nobel was never married. A more likely explanation is that Nobel did not consider mathematics as a practical discipline, and too theoretical to benefit humankind, as well as his personal la', name='wikipedia', id='5b832c22-497c-45d8-b338-8a884dd31ae2', tool_call_id='call_7wx9')]}}\n",
      "{'wiki_llm': {'messages': [AIMessage(content='', additional_kwargs={'tool_calls': [{'id': 'call_z9bc', 'function': {'arguments': '{\"query\": \"2024 Nobel Prize winner in Literature from Korea\"}', 'name': 'wikipedia'}, 'type': 'function'}]}, response_metadata={'token_usage': {'completion_tokens': 42, 'prompt_tokens': 1212, 'total_tokens': 1254, 'completion_time': 0.16926781, 'prompt_time': 0.34040961, 'queue_time': 0.005402008000000014, 'total_time': 0.50967742}, 'model_name': 'llama-3.2-90b-vision-preview', 'system_fingerprint': 'fp_b3ae7e594e', 'finish_reason': 'tool_calls', 'logprobs': None}, id='run-ac4df30e-2a38-4450-8eba-12b6b9428094-0', tool_calls=[{'name': 'wikipedia', 'args': {'query': '2024 Nobel Prize winner in Literature from Korea'}, 'id': 'call_z9bc', 'type': 'tool_call'}], usage_metadata={'input_tokens': 1212, 'output_tokens': 42, 'total_tokens': 1254})], 'track_num': 1}}\n",
      "{'tools': {'messages': [ToolMessage(content='Page: Nobel Prize in Literature\\nSummary: The Nobel Prize in Literature, here meaning for Literature, (Swedish: Nobelpriset i litteratur) is a Swedish literature prize that is awarded annually, since 1901, to an author from any country who has, in the words of the will of Swedish industrialist Alfred Nobel, \"in the field of literature, produced the most outstanding work in an idealistic direction\" (original Swedish: den som inom litteraturen har producerat det utmärktaste i idealisk riktning). Though individual works are sometimes cited as being particularly noteworthy, the award is based on an author\\'s body of work as a whole. The Swedish Academy decides who, if anyone, will receive the prize.\\nThe academy announces the name of the laureate in early October. It is one of the five Nobel Prizes established by the will of Alfred Nobel in 1895. Literature is traditionally the final award presented at the Nobel Prize ceremony. On some occasions, the award has been postponed to the following year, most recently in 2018.\\n\\nPage: List of Nobel laureates in Literature\\nSummary: The Nobel Prize in Literature (Swedish: Nobelpriset i litteratur) is awarded annually by the Swedish Academy to authors for outstanding contributions in the field of literature. It is one of the five Nobel Prizes established by the 1895 will of Alfred Nobel, which are awarded for outstanding contributions in chemistry, physics, literature, peace, and physiology or medicine. As dictated by Nobel\\'s will, the award is administered by the Nobel Foundation and awarded by the Swedish Academy. Each recipient receives a medal, a diploma and a monetary award prize that has varied throughout the years. In 1901, the first laureate Sully Prudhomme received 150,782 SEK, which is equivalent to 8,823,637.78 SEK in January 2018. The award is presented in Stockholm at an annual ceremony on December 10, the anniversary of Nobel\\'s death.\\nAs of 2024, the Nobel Prize in Literature has been awarded to 121 individuals. 18 women have been awarded the Nobel Prize in Literature, the second highest number of any of the Nobel Prizes behind the Nobel Peace Prize. As of 2024, there have been 29 English-speaking laureates of the Nobel Prize in Literature, followed by French with 16 laureates and German with 14 laureates. France has the highest number of Nobel laureates.\\n\\n\\n\\nPage: Nobel Prize controversies\\nSummary: Since the first award in 1901, conferment of the Nobel Prize has engendered criticism and controversy. After his death in 1896, the will of Swedish industrialist Alfred Nobel established that an annual prize be awarded for service to humanity in the fields of physics, chemistry, physiology or medicine, literature, and peace. Similarly, the Sveriges Riksbank Prize in Economic Sciences in Memory of Alfred Nobel is awarded along with the Nobel Prizes.\\nNobel sought to reward \"those who, during the preceding year, shall have conferred the greatest benefit on mankind\". One prize, he stated, should be given \"to the person who shall have made the most important \\'discovery\\' or \\'invention\\' within the field of physics\". Awards committees have historically rewarded discoveries over inventions: up to 2004, 77 per cent of Nobel Prizes in physics have been given to discoveries, compared with only 23 per cent to inventions. In addition, the scientific prizes typically reward contributions over an entire career rather than a single year.\\nNo Nobel Prize was established for mathematics and many other scientific and cultural fields. An early theory that envy or rivalry led Nobel to omit a prize to mathematician Gösta Mittag-Leffler was refuted because of timing inaccuracies. Another myth that states that Nobel\\'s spouse had an affair with a mathematician (sometimes attributed as Mittag-Leffler) has been equally debunked: Nobel was never married. A more likely explanation is that Nobel did not consider mathematics as a practical discipline, and too theoretical to benefit humankind, as well as his personal la', name='wikipedia', id='0218f979-60f4-4764-87ca-e9773c82a9bf', tool_call_id='call_z9bc')]}}\n",
      "{'wiki_llm': {'messages': [AIMessage(content='', additional_kwargs={'tool_calls': [{'id': 'call_ccsp', 'function': {'arguments': '{\"query\": \"Korean writer 2024 Nobel Prize in Literature\"}', 'name': 'wikipedia'}, 'type': 'function'}]}, response_metadata={'token_usage': {'completion_tokens': 23, 'prompt_tokens': 2087, 'total_tokens': 2110, 'completion_time': 0.092, 'prompt_time': 0.496957879, 'queue_time': 0.00582880100000005, 'total_time': 0.588957879}, 'model_name': 'llama-3.2-90b-vision-preview', 'system_fingerprint': 'fp_5c5d1b5cfb', 'finish_reason': 'tool_calls', 'logprobs': None}, id='run-32d1520e-60d7-4089-8eac-de3e716586a3-0', tool_calls=[{'name': 'wikipedia', 'args': {'query': 'Korean writer 2024 Nobel Prize in Literature'}, 'id': 'call_ccsp', 'type': 'tool_call'}], usage_metadata={'input_tokens': 2087, 'output_tokens': 23, 'total_tokens': 2110})], 'track_num': 2}}\n",
      "{'tools': {'messages': [ToolMessage(content='Page: 2024 Nobel Prize in Literature\\nSummary: The 2024 Nobel Prize in Literature was awarded to the South Korean author Han Kang (born 1970) \"for her intense poetic prose that confronts historical traumas and exposes the fragility of human life\". It was announced by the Swedish Academy in Stockholm, Sweden, on 10 October 2024 and will be awarded on 10 December 2024. \\nShe is the first South Korean and the first Asian female Nobel laureate in literature, and the first Asian author to win the prize since Mo Yan in 2012.\\n\\n\\n\\nPage: Nobel Prize in Literature\\nSummary: The Nobel Prize in Literature, here meaning for Literature, (Swedish: Nobelpriset i litteratur) is a Swedish literature prize that is awarded annually, since 1901, to an author from any country who has, in the words of the will of Swedish industrialist Alfred Nobel, \"in the field of literature, produced the most outstanding work in an idealistic direction\" (original Swedish: den som inom litteraturen har producerat det utmärktaste i idealisk riktning). Though individual works are sometimes cited as being particularly noteworthy, the award is based on an author\\'s body of work as a whole. The Swedish Academy decides who, if anyone, will receive the prize.\\nThe academy announces the name of the laureate in early October. It is one of the five Nobel Prizes established by the will of Alfred Nobel in 1895. Literature is traditionally the final award presented at the Nobel Prize ceremony. On some occasions, the award has been postponed to the following year, most recently in 2018.\\n\\nPage: List of Nobel laureates in Literature\\nSummary: The Nobel Prize in Literature (Swedish: Nobelpriset i litteratur) is awarded annually by the Swedish Academy to authors for outstanding contributions in the field of literature. It is one of the five Nobel Prizes established by the 1895 will of Alfred Nobel, which are awarded for outstanding contributions in chemistry, physics, literature, peace, and physiology or medicine. As dictated by Nobel\\'s will, the award is administered by the Nobel Foundation and awarded by the Swedish Academy. Each recipient receives a medal, a diploma and a monetary award prize that has varied throughout the years. In 1901, the first laureate Sully Prudhomme received 150,782 SEK, which is equivalent to 8,823,637.78 SEK in January 2018. The award is presented in Stockholm at an annual ceremony on December 10, the anniversary of Nobel\\'s death.\\nAs of 2024, the Nobel Prize in Literature has been awarded to 121 individuals. 18 women have been awarded the Nobel Prize in Literature, the second highest number of any of the Nobel Prizes behind the Nobel Peace Prize. As of 2024, there have been 29 English-speaking laureates of the Nobel Prize in Literature, followed by French with 16 laureates and German with 14 laureates. France has the highest number of Nobel laureates.\\n\\n', name='wikipedia', id='fa87d379-aea6-450f-a4c7-e0773abf9421', tool_call_id='call_ccsp')]}}\n",
      "{'wiki_llm': {'messages': [AIMessage(content='The Korean author who won the Nobel Prize in Literature in 2024 is Han Kang.', additional_kwargs={}, response_metadata={'token_usage': {'completion_tokens': 19, 'prompt_tokens': 2751, 'total_tokens': 2770, 'completion_time': 0.076, 'prompt_time': 0.651610136, 'queue_time': 0.006003836000000096, 'total_time': 0.727610136}, 'model_name': 'llama-3.2-90b-vision-preview', 'system_fingerprint': 'fp_b3ae7e594e', 'finish_reason': 'stop', 'logprobs': None}, id='run-7589a726-4282-4f31-908b-38d4551d1edc-0', usage_metadata={'input_tokens': 2751, 'output_tokens': 19, 'total_tokens': 2770})], 'track_num': 3}}\n"
     ]
    }
   ],
   "source": [
    "for m in response:\n",
    "  print(m)"
   ]
  },
  {
   "cell_type": "code",
   "execution_count": 18,
   "metadata": {},
   "outputs": [
    {
     "name": "stdout",
     "output_type": "stream",
     "text": [
      "{'wiki_llm': {'messages': [AIMessage(content=\"My name is Maruka, and I'm a helpful assistant who provides information by searching Wikipedia documents.\", additional_kwargs={}, response_metadata={'token_usage': {'completion_tokens': 21, 'prompt_tokens': 2784, 'total_tokens': 2805, 'completion_time': 0.084997144, 'prompt_time': 0.662619611, 'queue_time': 0.005951798000000008, 'total_time': 0.747616755}, 'model_name': 'llama-3.2-90b-vision-preview', 'system_fingerprint': 'fp_5c5d1b5cfb', 'finish_reason': 'stop', 'logprobs': None}, id='run-649d6b56-e3f4-4e37-8186-156c4e43807b-0', usage_metadata={'input_tokens': 2784, 'output_tokens': 21, 'total_tokens': 2805})], 'track_num': 4}}\n"
     ]
    }
   ],
   "source": [
    "state = {\n",
    "  \"messages\": [HumanMessage(content=\"What is your name?\")]\n",
    "}\n",
    "for chunk in graph.stream(state, config):\n",
    "  print(chunk)\n"
   ]
  },
  {
   "cell_type": "code",
   "execution_count": 25,
   "metadata": {},
   "outputs": [
    {
     "name": "stdout",
     "output_type": "stream",
     "text": [
      "{'wiki_llm': {'messages': [AIMessage(content='', additional_kwargs={'tool_calls': [{'id': 'call_me33', 'function': {'arguments': '{\"query\": \"Seoul Institute of the Arts ranking\"}', 'name': 'wikipedia'}, 'type': 'function'}]}, response_metadata={'token_usage': {'completion_tokens': 20, 'prompt_tokens': 5814, 'total_tokens': 5834, 'completion_time': 0.080041806, 'prompt_time': 1.371191254, 'queue_time': 0.006319209000000159, 'total_time': 1.45123306}, 'model_name': 'llama-3.2-90b-vision-preview', 'system_fingerprint': 'fp_9260b4bb2e', 'finish_reason': 'tool_calls', 'logprobs': None}, id='run-7435ceb5-2067-4570-9789-2ff0d3d3d366-0', tool_calls=[{'name': 'wikipedia', 'args': {'query': 'Seoul Institute of the Arts ranking'}, 'id': 'call_me33', 'type': 'tool_call'}], usage_metadata={'input_tokens': 5814, 'output_tokens': 20, 'total_tokens': 5834})], 'track_num': 17}}\n",
      "{'tools': {'messages': [ToolMessage(content=\"Page: Seoul National University\\nSummary: Seoul National University (SNU; Korean: 서울대학교; lit. Seoul University) is a public research university located in Seoul, South Korea. It is one of the SKY universities and a part of the Flagship Korean National Universities.\\nThe university's main campus is located in Gwanak, and two additional campuses are located in Daehangno and Pyeongchang. The university comprises sixteen colleges, one graduate school and nine professional schools. The student body consists of nearly 17,000 undergraduate and 11,000 graduate students.\\n\\n\\n\\nPage: Seoul National University of Science and Technology\\nSummary: Seoul National University of Science and Technology (abbreviated SeoulTech) is a national university located in Nowon-gu, Seoul, South Korea.\\nSeoul National University of Science and Technology originated from Public Eoeudong Vocational Continuing School. Later the school was re-organized as Gyeongseong Public Industrial School, Gyeonggi Technical College, and Seoul National University of Technology before it was finally reborn as Seoul National University of Science and Technology in September 2010 to celebrate the 100th anniversary of its foundation. The institution is also known as 'Seoultech'.\\nToday Seoultech is a large and comprehensive university consisting of six colleges, 23 departments, seven graduate schools and a student enrolment of 11,500 people in a spacious campus of 508,690 square meters (124 acres). This is the fifth-largest campus in the universities of Seoul. The campus, formerly occupied by the colleges of engineering of Seoul National University, is in Nowon-gu in the northern part of Seoul. Seoul National University of Science and Technology was ranked second in South Korea and 23rd in Asia in field of focused university in the 2015 by Quacquarelli Symonds (QS)\\nand ranked 15th in South Korea in the field of Science and Engineering in 2015 by Korea Economic Daily (한국경제신문).\\n\\n\\n\\nPage: University of Seoul\\nSummary: The University of Seoul (UOS; Korean: 서울시립대학교, lit.\\u2009'Municipal University of Seoul') is a municipal public university in Seoul, South Korea. UOS is famous in South Korea for a very large number of alumni working as national or municipal government officials in South Korea. UOS specializes in urban science and has top-tier programs in environmental engineering, taxation, transportation engineering, urban planning and design, landscape architecture, and urban administration.\\nUOS is a public university funded and supported by the Seoul Metropolitan Government. Academic programs of UOS have been set to support the necessities of the Seoul Metropolitan Government. Hence, UOS functions as a think-tank in formulating and supporting the major policy goals of the Seoul Metropolitan Government, along with basic research and education. UOS has a goal of becoming an international center for the urban sciences.\", name='wikipedia', id='348b1c6e-e10e-4c81-9eea-3096aa016931', tool_call_id='call_me33')]}}\n",
      "{'wiki_llm': {'messages': [AIMessage(content=\"I'm sorry, but I could not find any information regarding the Seoul Institute of the Arts' ranking.\", additional_kwargs={}, response_metadata={'token_usage': {'completion_tokens': 22, 'prompt_tokens': 6429, 'total_tokens': 6451, 'completion_time': 0.088, 'prompt_time': 1.678457001, 'queue_time': 0.006104757000000127, 'total_time': 1.766457001}, 'model_name': 'llama-3.2-90b-vision-preview', 'system_fingerprint': 'fp_b6828be2c9', 'finish_reason': 'stop', 'logprobs': None}, id='run-49172584-9ad8-46a0-bd5c-12baaba4fa98-0', usage_metadata={'input_tokens': 6429, 'output_tokens': 22, 'total_tokens': 6451})], 'track_num': 18}}\n"
     ]
    }
   ],
   "source": [
    "state = {\n",
    "  \"messages\": [HumanMessage(content=\"Oh how is this school that she taught in? Whath is the ranking of this school?\")]\n",
    "}\n",
    "\n",
    "for chunk in graph.stream(state, config):\n",
    "  print(chunk)\n"
   ]
  }
 ],
 "metadata": {
  "kernelspec": {
   "display_name": "langgraph-course",
   "language": "python",
   "name": "python3"
  },
  "language_info": {
   "codemirror_mode": {
    "name": "ipython",
    "version": 3
   },
   "file_extension": ".py",
   "mimetype": "text/x-python",
   "name": "python",
   "nbconvert_exporter": "python",
   "pygments_lexer": "ipython3",
   "version": "3.11.10"
  }
 },
 "nbformat": 4,
 "nbformat_minor": 2
}
