{
 "cells": [
  {
   "cell_type": "code",
   "execution_count": 95,
   "metadata": {},
   "outputs": [
    {
     "data": {
      "text/plain": [
       "True"
      ]
     },
     "execution_count": 95,
     "metadata": {},
     "output_type": "execute_result"
    }
   ],
   "source": [
    "from dotenv import load_dotenv\n",
    "load_dotenv()"
   ]
  },
  {
   "cell_type": "code",
   "execution_count": 96,
   "metadata": {},
   "outputs": [],
   "source": [
    "from langchain_ollama import ChatOllama\n",
    "\n",
    "llm = ChatOllama(model=\"llama3.2\")"
   ]
  },
  {
   "cell_type": "code",
   "execution_count": 97,
   "metadata": {},
   "outputs": [
    {
     "data": {
      "text/plain": [
       "AIMessage(content='Hello! How can I assist you today?', additional_kwargs={}, response_metadata={'model': 'llama3.2', 'created_at': '2024-10-18T00:22:25.0223552Z', 'message': {'role': 'assistant', 'content': ''}, 'done_reason': 'stop', 'done': True, 'total_duration': 319397900, 'load_duration': 25578100, 'prompt_eval_count': 26, 'prompt_eval_duration': 79011000, 'eval_count': 10, 'eval_duration': 213549000}, id='run-a63271d4-7c4f-40bf-88e0-f64ffba137be-0', usage_metadata={'input_tokens': 26, 'output_tokens': 10, 'total_tokens': 36})"
      ]
     },
     "execution_count": 97,
     "metadata": {},
     "output_type": "execute_result"
    }
   ],
   "source": [
    "llm.invoke(\"hello\")"
   ]
  },
  {
   "cell_type": "code",
   "execution_count": 98,
   "metadata": {},
   "outputs": [],
   "source": [
    "# State\n",
    "\n",
    "from langgraph.graph import MessagesState\n",
    "from typing_extensions import Annotated\n",
    "\n",
    "def increment_num_track(orig, new):\n",
    "  \n",
    "  if orig == None or orig == 0: \n",
    "    return 1\n",
    "  return orig + 1\n",
    "\n",
    "class CustomState(MessagesState):\n",
    "  num_track: Annotated[int, increment_num_track]\n",
    "  pass\n",
    "  "
   ]
  },
  {
   "cell_type": "code",
   "execution_count": null,
   "metadata": {},
   "outputs": [],
   "source": []
  },
  {
   "cell_type": "code",
   "execution_count": 99,
   "metadata": {},
   "outputs": [],
   "source": [
    "# Tools\n",
    "from langchain_core.tools import tool\n",
    "\n",
    "class Book:\n",
    "  def __init__(self, title, author, description=\"\"):\n",
    "    self.title = title\n",
    "    self.author = author\n",
    "    self.description = description\n",
    "    self.ratings = 0\n",
    "  \n",
    "  def add_description(self, description):\n",
    "    self.description = description\n",
    "    \n",
    "  def add_review_ratings(self, ratings: int):\n",
    "    self.ratings = ratings\n",
    "\n",
    "@tool(return_direct=True)\n",
    "def create_book(title: str, author: str):\n",
    "  \"\"\"When given a title and author create a Book Object\n",
    "\n",
    "  Args:\n",
    "      title: title of the book\n",
    "      author: author of the book\n",
    "  \"\"\"\n",
    "  book = Book(title, author)\n",
    "  return \"this is my custom message. Let's see if this will be placed anywhere\"\n",
    "\n",
    "def add_book_description(book: Book, description: str):\n",
    "  \"\"\"When given a book and the description, add description to the book\n",
    "\n",
    "  Args:\n",
    "      book: Book object\n",
    "      description: description of the book\n",
    "  \"\"\"\n",
    "  book.add_description(description)\n",
    "  return book\n",
    "\n",
    "def add_book_ratings(book: Book, ratings: int):\n",
    "  \"\"\"When given a book and the review ratings, add the ratings to the book\n",
    "\n",
    "  Args:\n",
    "      book: Book object\n",
    "      ratings: ratings of the book\n",
    "  \"\"\"\n",
    "  book.add_review_ratings(ratings)\n",
    "  return book \n",
    "\n",
    "tools = [create_book]\n",
    "llm_with_tools = llm.bind_tools(tools)"
   ]
  },
  {
   "cell_type": "code",
   "execution_count": 100,
   "metadata": {},
   "outputs": [],
   "source": [
    "# Node\n",
    "import copy\n",
    "def book_creating_llm(state):\n",
    "  new_state = copy.deepcopy(state)\n",
    "  new_state[\"messages\"]  = llm_with_tools.invoke(state[\"messages\"])\n",
    "  return new_state"
   ]
  },
  {
   "cell_type": "code",
   "execution_count": 101,
   "metadata": {},
   "outputs": [
    {
     "data": {
      "image/jpeg": "[encoded data removed]",
      "text/plain": [
       "<IPython.core.display.Image object>"
      ]
     },
     "metadata": {},
     "output_type": "display_data"
    }
   ],
   "source": [
    "# builder\n",
    "from langgraph.graph import StateGraph, START, END\n",
    "from langgraph.prebuilt import ToolNode, tools_condition\n",
    "\n",
    "builder = StateGraph(CustomState)\n",
    "builder.add_node(\"book_llm\", book_creating_llm)\n",
    "builder.add_node(\"tools\", ToolNode(tools))\n",
    "\n",
    "builder.add_edge(START, \"book_llm\")\n",
    "builder.add_conditional_edges(\"book_llm\", tools_condition)\n",
    "builder.add_edge(\"tools\", \"book_llm\")\n",
    "\n",
    "graph = builder.compile()\n",
    "\n",
    "from IPython.display import display, Image\n",
    "\n",
    "display(Image(graph.get_graph().draw_mermaid_png()))\n"
   ]
  },
  {
   "cell_type": "code",
   "execution_count": 102,
   "metadata": {},
   "outputs": [],
   "source": [
    "from langchain_core.messages import HumanMessage\n",
    "\n",
    "state = {\n",
    "  \"messages\": [HumanMessage(content=\"Create a book with title 'Thinking Fast and Slow' by the author 'Daniel Kahneman'\")]\n",
    "}\n",
    "\n",
    "res = graph.invoke(state)"
   ]
  },
  {
   "cell_type": "code",
   "execution_count": 103,
   "metadata": {},
   "outputs": [
    {
     "name": "stdout",
     "output_type": "stream",
     "text": [
      "================================\u001b[1m Human Message \u001b[0m=================================\n",
      "\n",
      "Create a book with title 'Thinking Fast and Slow' by the author 'Daniel Kahneman'\n",
      "==================================\u001b[1m Ai Message \u001b[0m==================================\n",
      "Tool Calls:\n",
      "  create_book (1415a4e8-4a2a-4307-9bae-82aa2aa8ba13)\n",
      " Call ID: 1415a4e8-4a2a-4307-9bae-82aa2aa8ba13\n",
      "  Args:\n",
      "    author: Daniel Kahneman\n",
      "    title: Thinking Fast and Slow\n",
      "=================================\u001b[1m Tool Message \u001b[0m=================================\n",
      "Name: create_book\n",
      "\n",
      "this is my custom message. Let's see if this will be placed anywhere\n",
      "==================================\u001b[1m Ai Message \u001b[0m==================================\n",
      "\n",
      "Here is a book with the title 'Thinking Fast and Slow' by the author 'Daniel Kahneman':\n",
      "\n",
      "**Thinking Fast and Slow**\n",
      "\n",
      "by Daniel Kahneman\n",
      "\n",
      "This Pulitzer Prize-winning book explores how our brains make decisions, revealing that we are often irrational and prone to cognitive biases. Kahneman presents two systems of thinking: System 1 (fast, intuitive) and System 2 (slow, deliberative), demonstrating how they interact in our daily lives.\n",
      "\n",
      "**Table of Contents**\n",
      "\n",
      "* Preface\n",
      "* Part I: The Fast and Frugal Trader\n",
      "* Chapter 1: A Guide to the Thinking-Style Model\n",
      "* Chapter 2: The Psychology of Prediction\n",
      "* Chapter 3: Our Ability to Be Both Right and Wrong\n",
      "* Chapter 4: Cognitive Biases in the Making of Economic Policies\n",
      "* Chapter 5: What Is the Problem with Mental Accounting?\n",
      "* Part II: System 1 and System 2\n",
      "* Chapter 6: Do People Really Read the News? How Information Consumption Reveals Our Value Systems\n",
      "* Chapter 7: The Functions of Moral Judgments\n",
      "* Chapter 8: The Adaptive Nature of Human Preferences\n",
      "* Chapter 9: The Psychology of Decisions Under Uncertainty\n",
      "* Chapter 10: The Relationship Between Risk and Reward in Decision Making\n",
      "* Part III: System 1, System 2, and the Economy\n",
      "* Chapter 11: What Can Be Learned from the \"Prospect Theory\"?\n",
      "* Chapter 12: A Model of the Stock Market's Behavior\n",
      "* Chapter 13: The Psychology of Risk Management\n",
      "* Chapter 14: What Is the Problem with Mental Accounting in the Context of Business?\n",
      "* Chapter 15: How Do We Make Economic Decisions?\n",
      "* Part IV: System 1 and System 2 and Social Psychology\n",
      "* Chapter 16: What Can Be Learned from the \"Self-Serving Bias\"?\n",
      "* Chapter 17: The Functions of Moral Judgments\n",
      "* Chapter 18: The Adaptive Nature of Human Preferences\n",
      "* Chapter 19: Why Do People Dislike Certain Types of Insurance?\n",
      "* Part V: System 1 and System 2 in Medicine\n",
      "* Chapter 20: How Do We Make Medical Decisions?\n",
      "* Chapter 21: What Can Be Learned from the \"Availability Heuristic\"?\n",
      "* Chapter 22: The Psychology of Diagnostic Decision Making\n",
      "* Chapter 23: Why Are Doctors So Bad at Predicting Patient Outcomes?\n",
      "* Part VI: System 1 and System 2 in Economics\n",
      "* Chapter 24: How Do Economists Think About Economic Policy?\n",
      "* Chapter 25: What Can Be Learned from the \"Framing Effect\"?\n",
      "* Chapter 26: The Functions of Mental Accounting in Business\n",
      "* Chapter 27: Why Do People Prefer Smaller Payoffs?\n",
      "* Chapter 28: What Is the Problem with Mental Accounting in the Context of Business?\n",
      "\n",
      "**Appendices**\n",
      "\n",
      "* Appendix A: Glossary\n",
      "* Appendix B: How to Read This Book\n",
      "* Appendix C: The Thinking-Style Model\n",
      "\n",
      "This book provides a comprehensive overview of cognitive biases and heuristics that affect our decision-making processes. It offers insights into how our brains process information, and how we can use this understanding to improve our decision-making skills.\n",
      "\n",
      "Is there anything else I can help you with?\n"
     ]
    }
   ],
   "source": [
    "for m in res['messages']:\n",
    "  m.pretty_print()\n",
    "  \n",
    "# print(res)"
   ]
  }
 ],
 "metadata": {
  "kernelspec": {
   "display_name": "langgraph-course",
   "language": "python",
   "name": "python3"
  },
  "language_info": {
   "codemirror_mode": {
    "name": "ipython",
    "version": 3
   },
   "file_extension": ".py",
   "mimetype": "text/x-python",
   "name": "python",
   "nbconvert_exporter": "python",
   "pygments_lexer": "ipython3",
   "version": "3.11.10"
  }
 },
 "nbformat": 4,
 "nbformat_minor": 2
}
