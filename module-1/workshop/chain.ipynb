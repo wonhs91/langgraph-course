{
 "cells": [
  {
   "cell_type": "code",
   "execution_count": 93,
   "metadata": {},
   "outputs": [
    {
     "data": {
      "text/plain": [
       "True"
      ]
     },
     "execution_count": 93,
     "metadata": {},
     "output_type": "execute_result"
    }
   ],
   "source": [
    "from dotenv import load_dotenv\n",
    "\n",
    "load_dotenv()"
   ]
  },
  {
   "cell_type": "code",
   "execution_count": 94,
   "metadata": {},
   "outputs": [],
   "source": [
    "from langchain_ollama import ChatOllama\n",
    "\n",
    "llm = ChatOllama(model=\"llama3.2\")"
   ]
  },
  {
   "cell_type": "code",
   "execution_count": 95,
   "metadata": {},
   "outputs": [],
   "source": [
    "def multiply_three(a, b, c):\n",
    "  return a * b * c\n",
    "\n",
    "def add_three(a, b, c):\n",
    "  return a + b + c\n",
    "\n",
    "class Book:\n",
    "  def __init__(self, title, author, personal_description):\n",
    "    self.title = title\n",
    "    self.author = author\n",
    "    self.personal_description = personal_description\n",
    "    \n",
    "def create_book_object(title, author):\n",
    "  book = Book(title, author, \"this is my personal description\")\n",
    "  return book\n",
    "\n",
    "\n",
    "llm_with_tools = llm.bind_tools([multiply_three, add_three, create_book_object])"
   ]
  },
  {
   "cell_type": "code",
   "execution_count": 96,
   "metadata": {},
   "outputs": [],
   "source": [
    "# state\n",
    "from typing_extensions import TypedDict\n",
    "from typing import List, Annotated\n",
    "from langgraph.graph import add_messages\n",
    "from langchain_core.messages import AnyMessage\n",
    "\n",
    "def num_track_reducer(orig, new):\n",
    "  return orig + 1\n",
    "\n",
    "class CustomState(TypedDict):\n",
    "  messages: Annotated[List[AnyMessage], add_messages]\n",
    "  is_book: bool\n",
    "  num_track: Annotated[int, num_track_reducer]\n",
    "  my_message: str"
   ]
  },
  {
   "cell_type": "code",
   "execution_count": 97,
   "metadata": {},
   "outputs": [],
   "source": [
    "# create node\n",
    "from copy import deepcopy\n",
    "\n",
    "def tool_calling_llm(state):\n",
    "  return {\n",
    "    \"messages\": [llm_with_tools.invoke(state[\"messages\"])],\n",
    "    \"is_book\": state[\"is_book\"]\n",
    "    # num_track needs to be here?\n",
    "  }\n",
    "  \n",
    "def check_is_book(state):\n",
    "  new_state = deepcopy(state)\n",
    "  new_state['is_book'] = False\n",
    "  for message in state['messages']:\n",
    "    print(message)\n",
    "    if (\"title\" in message.content.lower() or \"book\" in message.content.lower()) and \"author\" in message.content.lower():\n",
    "    # if message contain book and author state is_book is True\n",
    "      new_state['is_book'] = True\n",
    "  return new_state\n",
    "\n",
    "def random_a(state):\n",
    "  new_state = deepcopy(state)\n",
    "  new_state['my_message'] = new_state[\"my_message\"] + \": this is random a\"\n",
    "  return new_state\n",
    "\n",
    "def random_b(state):\n",
    "  new_state = deepcopy(state)\n",
    "  new_state['my_message'] = new_state[\"my_message\"] + \": this is random B\"\n",
    "  return new_state\n",
    "\n",
    "def converge_node(state):\n",
    "  new_state = deepcopy(state)\n",
    "  new_state['my_message'] = new_state['my_message'] + \": It is converging again\"\n",
    "  return new_state  \n",
    "\n",
    "def book_node(state):\n",
    "  new_state = deepcopy(state)\n",
    "  new_state['my_message'] = new_state['my_message'] + \": This is defintely a book\"\n",
    "  return new_state\n",
    "\n",
    "\n",
    "def non_book_node(state):\n",
    "  new_state = deepcopy(state)\n",
    "  new_state['my_message'] = new_state['my_message'] + \": This is defintely NOT!!!! a book\"\n",
    "  return new_state"
   ]
  },
  {
   "cell_type": "code",
   "execution_count": 98,
   "metadata": {},
   "outputs": [],
   "source": [
    "# edges\n",
    "from typing import Literal\n",
    "import random\n",
    "\n",
    "def conditional_edge(state) -> Literal[\"rand_a\", \"rand_b\"]:\n",
    "  if random.random() > 0.5:\n",
    "    return \"rand_a\"\n",
    "  \n",
    "  return \"rand_b\"\n",
    "\n",
    "def conditional_book(state) -> Literal[\"book_node\", \"non_book_node\"]:\n",
    "  if state['is_book']:\n",
    "    return 'book_node'\n",
    "  \n",
    "  return 'non_book_node'"
   ]
  },
  {
   "cell_type": "code",
   "execution_count": 99,
   "metadata": {},
   "outputs": [],
   "source": [
    "# graph builder\n",
    "\n",
    "from langgraph.graph import StateGraph, START, END\n",
    "\n",
    "builder = StateGraph(CustomState)\n",
    "builder.add_node(\"tool_llm\", tool_calling_llm)\n",
    "builder.add_node(\"check_book\", check_is_book)\n",
    "builder.add_node(\"rand_a\", random_a)\n",
    "builder.add_node(\"rand_b\", random_b)\n",
    "# builder.add_node(\"converge\", converge_node)\n",
    "builder.add_node('book_node', book_node)\n",
    "builder.add_node('non_book_node', non_book_node)\n",
    "\n",
    "builder.add_edge(START, \"check_book\")\n",
    "builder.add_edge(\"check_book\", \"tool_llm\")\n",
    "builder.add_conditional_edges(\"tool_llm\", conditional_edge)\n",
    "builder.add_conditional_edges(\"rand_a\", conditional_book)\n",
    "builder.add_conditional_edges(\"rand_b\", conditional_book)\n",
    "builder.add_edge(\"book_node\", END)\n",
    "builder.add_edge(\"non_book_node\", END)\n",
    "\n",
    "\n",
    "graph = builder.compile()\n"
   ]
  },
  {
   "cell_type": "code",
   "execution_count": 100,
   "metadata": {},
   "outputs": [
    {
     "data": {
      "image/jpeg": "[encoded data removed]",
      "text/plain": [
       "<IPython.core.display.Image object>"
      ]
     },
     "metadata": {},
     "output_type": "display_data"
    }
   ],
   "source": [
    "from IPython.display import display,Image\n",
    "\n",
    "img = graph.get_graph().draw_mermaid_png()\n",
    "\n",
    "# with open('test.png', 'wb') as file:\n",
    "#   file.write(img\n",
    "\n",
    "display(Image(img))\n",
    "\n"
   ]
  },
  {
   "cell_type": "code",
   "execution_count": 101,
   "metadata": {},
   "outputs": [
    {
     "name": "stdout",
     "output_type": "stream",
     "text": [
      "content='Hi, I like the book \"the rosie project\" by Author named Stephen' additional_kwargs={} response_metadata={} name='Stephen' id='5a6158cc-c3a2-4dd6-abfe-6cc2782a6791'\n"
     ]
    }
   ],
   "source": [
    "from langchain_core.messages import HumanMessage\n",
    "\n",
    "orig_state = {\n",
    "  \"messages\": [HumanMessage(content=\"\"\"Hi, I like the book \"the rosie project\" by Author named Stephen\"\"\", name=\"Stephen\")],\n",
    "  \"my_message\": \"This is Start\"\n",
    "}\n",
    "response = graph.invoke(orig_state)"
   ]
  },
  {
   "cell_type": "code",
   "execution_count": 102,
   "metadata": {},
   "outputs": [
    {
     "data": {
      "text/plain": [
       "{'messages': [HumanMessage(content='Hi, I like the book \"the rosie project\" by Author named Stephen', additional_kwargs={}, response_metadata={}, name='Stephen', id='5a6158cc-c3a2-4dd6-abfe-6cc2782a6791'),\n",
       "  AIMessage(content='', additional_kwargs={}, response_metadata={'model': 'llama3.2', 'created_at': '2024-10-16T14:56:15.018221Z', 'message': {'role': 'assistant', 'content': '', 'tool_calls': [{'function': {'name': 'create_book_object', 'arguments': {'author': 'Stephen', 'title': 'the rosie project'}}}]}, 'done_reason': 'stop', 'done': True, 'total_duration': 678261300, 'load_duration': 24359200, 'prompt_eval_count': 275, 'prompt_eval_duration': 29475000, 'eval_count': 27, 'eval_duration': 622537000}, id='run-cedbde90-e946-4aa8-8c7a-78953bcc4454-0', tool_calls=[{'name': 'create_book_object', 'args': {'author': 'Stephen', 'title': 'the rosie project'}, 'id': '21a2b2e1-081c-48eb-84ac-2cc69334e328', 'type': 'tool_call'}], usage_metadata={'input_tokens': 275, 'output_tokens': 27, 'total_tokens': 302})],\n",
       " 'is_book': True,\n",
       " 'num_track': 3,\n",
       " 'my_message': 'This is Start: this is random a: This is defintely a book'}"
      ]
     },
     "execution_count": 102,
     "metadata": {},
     "output_type": "execute_result"
    }
   ],
   "source": [
    "response"
   ]
  }
 ],
 "metadata": {
  "kernelspec": {
   "display_name": "langgraph-course",
   "language": "python",
   "name": "python3"
  },
  "language_info": {
   "codemirror_mode": {
    "name": "ipython",
    "version": 3
   },
   "file_extension": ".py",
   "mimetype": "text/x-python",
   "name": "python",
   "nbconvert_exporter": "python",
   "pygments_lexer": "ipython3",
   "version": "3.11.10"
  }
 },
 "nbformat": 4,
 "nbformat_minor": 2
}
