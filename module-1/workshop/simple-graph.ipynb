{
 "cells": [
  {
   "cell_type": "code",
   "execution_count": 123,
   "metadata": {},
   "outputs": [],
   "source": [
    "# Create State\n",
    "from typing_extensions import TypedDict\n",
    "\n",
    "class State(TypedDict):\n",
    "  building_str: str\n",
    "  new_state: str\n",
    "  "
   ]
  },
  {
   "cell_type": "code",
   "execution_count": 152,
   "metadata": {},
   "outputs": [],
   "source": [
    "# Create nodes\n",
    "def node_1(state):\n",
    "  print(\"----- this is node 1 -----\")\n",
    "  return {'building_str': state['building_str'] + \": this is node 1\", 'new_state': \"______\"}\n",
    "\n",
    "def node_2(state):\n",
    "  print(\"_____ node 2 _____\")\n",
    "  return {'building_str': state['building_str'] + \": this is node 2\", 'new_state': state['new_state'] + \" this is node 2\"}\n",
    "\n",
    "def node_3(state):\n",
    "  print(\"------ node3 ------\")\n",
    "  return {'building_str': state['building_str'] + \": this is node 3\"}"
   ]
  },
  {
   "cell_type": "code",
   "execution_count": 100,
   "metadata": {},
   "outputs": [],
   "source": [
    "# create special edges\n",
    "from typing import Literal\n",
    "import random\n",
    "\n",
    "def conditional_edge(state) -> Literal[\"node3\", \"node2\"]:\n",
    "  if random.random() > 0.5:\n",
    "    return \"node2\"\n",
    "  return \"node3\""
   ]
  },
  {
   "cell_type": "code",
   "execution_count": null,
   "metadata": {},
   "outputs": [],
   "source": []
  },
  {
   "cell_type": "code",
   "execution_count": 173,
   "metadata": {},
   "outputs": [
    {
     "name": "stdout",
     "output_type": "stream",
     "text": [
      "----- this is node 1 -----\n",
      "------ node3 ------\n"
     ]
    },
    {
     "data": {
      "text/plain": [
       "{'building_str': 'hti si asdf: this is node 1: this is node 3',\n",
       " 'new_state': '______'}"
      ]
     },
     "execution_count": 173,
     "metadata": {},
     "output_type": "execute_result"
    }
   ],
   "source": [
    "# builder\n",
    "from langgraph.graph import StateGraph, START, END\n",
    "\n",
    "builder = StateGraph(State)\n",
    "\n",
    "# add nodes\n",
    "builder.add_node(\"node1\", node_1)\n",
    "builder.add_node(\"node2\", node_2)\n",
    "builder.add_node(\"node3\", node_3)\n",
    "\n",
    "# add edges\n",
    "builder.add_edge(START, \"node1\")\n",
    "builder.add_conditional_edges(\"node1\", conditional_edge)\n",
    "builder.add_edge(\"node2\", END)\n",
    "builder.add_edge(\"node3\", END)\n",
    "\n",
    "graph = builder.compile()\n",
    "\n",
    "graph.invoke({'building_str': \"hti si asdf\", 'asdf': 'myname is '})"
   ]
  },
  {
   "cell_type": "code",
   "execution_count": null,
   "metadata": {},
   "outputs": [],
   "source": []
  }
 ],
 "metadata": {
  "kernelspec": {
   "display_name": "langgraph-course",
   "language": "python",
   "name": "python3"
  },
  "language_info": {
   "codemirror_mode": {
    "name": "ipython",
    "version": 3
   },
   "file_extension": ".py",
   "mimetype": "text/x-python",
   "name": "python",
   "nbconvert_exporter": "python",
   "pygments_lexer": "ipython3",
   "version": "3.11.10"
  }
 },
 "nbformat": 4,
 "nbformat_minor": 2
}
