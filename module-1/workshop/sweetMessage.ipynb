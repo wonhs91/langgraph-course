{
 "cells": [
  {
   "cell_type": "code",
   "execution_count": 19,
   "metadata": {},
   "outputs": [
    {
     "data": {
      "text/plain": [
       "True"
      ]
     },
     "execution_count": 19,
     "metadata": {},
     "output_type": "execute_result"
    }
   ],
   "source": [
    "from dotenv import load_dotenv\n",
    "load_dotenv()"
   ]
  },
  {
   "cell_type": "code",
   "execution_count": 20,
   "metadata": {},
   "outputs": [],
   "source": [
    "# from langchain_groq import ChatGroq\n",
    "# llm = ChatGroq(model=\"llama-3.2-90b-vision-preview\")\n",
    "\n",
    "from langchain_ollama import ChatOllama\n",
    "llm = ChatOllama(model=\"llama3.2\")\n",
    "\n",
    "# def user_sentiment_getter():\n"
   ]
  },
  {
   "cell_type": "code",
   "execution_count": 21,
   "metadata": {},
   "outputs": [],
   "source": [
    "# state\n",
    "from langgraph.graph import MessagesState\n",
    "from typing import Annotated\n",
    "\n",
    "class State(MessagesState):\n",
    "  ds_message: str\n",
    "  user_opinion: str\n",
    "  last_ai_generated_text: str\n",
    "  user_approval: bool\n",
    "  pass\n",
    "\n"
   ]
  },
  {
   "cell_type": "code",
   "execution_count": null,
   "metadata": {},
   "outputs": [],
   "source": []
  },
  {
   "cell_type": "code",
   "execution_count": 22,
   "metadata": {},
   "outputs": [],
   "source": [
    "# Create node\n",
    "from copy import deepcopy\n",
    "from langchain_core.messages import SystemMessage, HumanMessage\n",
    "from langchain_core.prompts import ChatPromptTemplate, MessagesPlaceholder\n",
    "\n",
    "# sys_msg = SystemMessage(content=\"You are a sweet text message replier. 'Deidra' is a girl that I (Stephen) am texting. You are a helpful text message replier assistant who will help me send message to Deidra based on the text she sent.\")\n",
    "def text_assistant(state):\n",
    "  \n",
    "  prompt_template = ChatPromptTemplate.from_messages([\n",
    "    (\"system\", \"You are a text message replier. 'Deidra' is a girl that I (Stephen) am texting. You are a helpful text message replier assistant who will help me send message to Deidra based on the text she sent. \"\n",
    "     \"When generating the reply I want you to add this sentiment\"\n",
    "     \"\"\n",
    "     \"{user_opinion}\"\n",
    "     ),\n",
    "    MessagesPlaceholder(\"ds_message\"),\n",
    "  ])\n",
    "  \n",
    "  # add in Stephen's sentiment\n",
    "  ds_messge = state.get('ds_message', '')\n",
    "  user_opinion = state.get('user_opinion', '')\n",
    "  \n",
    "  prompt = prompt_template.invoke({\"ds_message\": [HumanMessage(content=ds_messge, name=\"D\")], \"user_opinion\": user_opinion})\n",
    "\n",
    "  ai_generated_text = llm.invoke(prompt)\n",
    "\n",
    "  return {\n",
    "    'messages': ai_generated_text,\n",
    "    'last_ai_generated_text': ai_generated_text,\n",
    "  }\n",
    "\n",
    "def user_opinion_node(state):\n",
    "  # ai_generated_text = state['last_ai_generated_text']\n",
    "  # print(f\"This is the AI generated Anwer: \\n{ai_generated_text}\")\n",
    "  user_input = input(\"Anything sentiment you want to use?\\n--> \")\n",
    "\n",
    "  return {\n",
    "    'user_opinion': user_input\n",
    "  }\n",
    "  \n",
    "def user_approval_node(state):\n",
    "  ai_generated_text = state['last_ai_generated_text']\n",
    "  print(f\"This is the AI generated Anwer: \\n{ai_generated_text}\")\n",
    "  user_input = input(\"Do you approve? \")\n",
    "  approvals = ['yes', 'y', 'true', 'ok']\n",
    "  approval = False\n",
    "  if user_input.lower() in approvals:\n",
    "    approval = True\n",
    "\n",
    "  # return new_state\n",
    "  return {\n",
    "    'user_approval': approval\n",
    "  }\n",
    "\n",
    "from typing import Literal\n",
    "\n",
    "def conditional_approval_edge(state) -> Literal['__end__', 'assistant']:\n",
    "  user_approval = state['user_approval']\n",
    "  if user_approval:\n",
    "    return '__end__'\n",
    "  else:\n",
    "    return 'assistant'"
   ]
  },
  {
   "cell_type": "code",
   "execution_count": 23,
   "metadata": {},
   "outputs": [],
   "source": [
    "# graph builder\n",
    "from langgraph.graph import StateGraph, START, END\n",
    "\n",
    "builder = StateGraph(State)\n",
    "\n",
    "builder.add_node(\"assistant\", text_assistant)\n",
    "builder.add_node(\"user_opinion_node\", user_opinion_node)\n",
    "builder.add_node(\"user_approval_node\", user_approval_node)\n",
    "\n",
    "builder.add_edge(START, \"user_opinion_node\")\n",
    "builder.add_edge(\"user_opinion_node\", \"assistant\")\n",
    "builder.add_edge(\"assistant\", \"user_approval_node\")\n",
    "builder.add_conditional_edges(\"user_approval_node\", conditional_approval_edge)\n",
    "\n",
    "graph = builder.compile()\n",
    "\n"
   ]
  },
  {
   "cell_type": "code",
   "execution_count": 24,
   "metadata": {},
   "outputs": [
    {
     "data": {
      "image/jpeg": "[encoded data removed]",
      "text/plain": [
       "<IPython.core.display.Image object>"
      ]
     },
     "metadata": {},
     "output_type": "display_data"
    }
   ],
   "source": [
    "from IPython.display import display, Image\n",
    "\n",
    "display(Image(graph.get_graph().draw_mermaid_png()))"
   ]
  },
  {
   "cell_type": "code",
   "execution_count": 25,
   "metadata": {},
   "outputs": [
    {
     "name": "stdout",
     "output_type": "stream",
     "text": [
      "This is the AI generated Anwer: \n",
      "content='\"Aww, thanks Deidra! \\'Keren\\' is a beautiful word, and I love that you shared it with me. It\\'s great to know that my attempts to learn your language are appreciated!\"' additional_kwargs={} response_metadata={'model': 'llama3.2', 'created_at': '2024-10-19T15:22:47.2298081Z', 'message': {'role': 'assistant', 'content': ''}, 'done_reason': 'stop', 'done': True, 'total_duration': 11517929800, 'load_duration': 10245303800, 'prompt_eval_count': 124, 'prompt_eval_duration': 359483000, 'eval_count': 43, 'eval_duration': 820790000} id='run-f3661b0e-23bb-4853-a23d-500be0c76a33-0' usage_metadata={'input_tokens': 124, 'output_tokens': 43, 'total_tokens': 167}\n"
     ]
    }
   ],
   "source": [
    "from langchain_core.messages import HumanMessage\n",
    "\n",
    "state = {\n",
    "  \"ds_message\": \"Sweet message?\\nIts like you are in your world now :)\\nBut actually its really cool\\nIn my language 'keren'\\nI always amazed at you\\nThat can work with those words\",\n",
    "  \"user_approval\": False\n",
    "}\n",
    "\n",
    "response = graph.invoke(state)\n"
   ]
  }
 ],
 "metadata": {
  "kernelspec": {
   "display_name": "langgraph-course",
   "language": "python",
   "name": "python3"
  },
  "language_info": {
   "codemirror_mode": {
    "name": "ipython",
    "version": 3
   },
   "file_extension": ".py",
   "mimetype": "text/x-python",
   "name": "python",
   "nbconvert_exporter": "python",
   "pygments_lexer": "ipython3",
   "version": "3.11.10"
  }
 },
 "nbformat": 4,
 "nbformat_minor": 2
}
