{
 "cells": [
  {
   "cell_type": "code",
   "execution_count": 1,
   "metadata": {},
   "outputs": [
    {
     "data": {
      "text/plain": [
       "True"
      ]
     },
     "execution_count": 1,
     "metadata": {},
     "output_type": "execute_result"
    }
   ],
   "source": [
    "from dotenv import load_dotenv\n",
    "load_dotenv()"
   ]
  },
  {
   "cell_type": "code",
   "execution_count": null,
   "metadata": {},
   "outputs": [
    {
     "ename": "",
     "evalue": "",
     "output_type": "error",
     "traceback": [
      "\u001b[1;31mThe Kernel crashed while executing code in the current cell or a previous cell. \n",
      "\u001b[1;31mPlease review the code in the cell(s) to identify a possible cause of the failure. \n",
      "\u001b[1;31mClick <a href='https://aka.ms/vscodeJupyterKernelCrash'>here</a> for more info. \n",
      "\u001b[1;31mView Jupyter <a href='command:jupyter.viewOutput'>log</a> for further details."
     ]
    }
   ],
   "source": [
    "import os\n",
    "from typing import Optional\n",
    "from langchain_groq import ChatGroq\n",
    "from langchain_openai import ChatOpenAI\n",
    "\n",
    "class ChatOpenRouter(ChatOpenAI):\n",
    "  openai_api_base: str\n",
    "  api_key: str\n",
    "  model_name: str\n",
    "  \n",
    "  def __init__(\n",
    "      self,\n",
    "      model_name: str,\n",
    "      openai_api_base: str = \"https://openrouter.ai/api/v1\",\n",
    "      api_key: Optional[str] = None,\n",
    "      **kwargs\n",
    "    ):\n",
    "    api_key = api_key or os.getenv(\"OPENROUTER_API_KEY\")\n",
    "    super().__init__(\n",
    "      openai_api_base=openai_api_base,\n",
    "      api_key=api_key,\n",
    "      model_name=model_name,\n",
    "      **kwargs\n",
    "    )\n",
    "    \n",
    "# meta-llama/llama-3.1-405b-instruct:free\n",
    "brain_llm = ChatOpenRouter(model_name=\"meta-llama/llama-3-8b-instruct:free\")\n",
    "tool_llm = ChatGroq(model=\"llama-3.2-90b-vision-preview\")"
   ]
  },
  {
   "cell_type": "code",
   "execution_count": null,
   "metadata": {},
   "outputs": [],
   "source": []
  }
 ],
 "metadata": {
  "kernelspec": {
   "display_name": "langgraph-course",
   "language": "python",
   "name": "python3"
  },
  "language_info": {
   "codemirror_mode": {
    "name": "ipython",
    "version": 3
   },
   "file_extension": ".py",
   "mimetype": "text/x-python",
   "name": "python",
   "nbconvert_exporter": "python",
   "pygments_lexer": "ipython3",
   "version": "3.11.8"
  }
 },
 "nbformat": 4,
 "nbformat_minor": 2
}
