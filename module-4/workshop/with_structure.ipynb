{
 "cells": [
  {
   "cell_type": "code",
   "execution_count": 10,
   "metadata": {},
   "outputs": [],
   "source": [
    "from langchain_ollama import ChatOllama\n",
    "from langchain_groq import ChatGroq\n",
    "\n",
    "# llm = ChatGroq(model=\"llama-3.2-90b-vision-preview\")\n",
    "llm = ChatOllama(model=\"llama3.2\")"
   ]
  },
  {
   "cell_type": "code",
   "execution_count": 11,
   "metadata": {},
   "outputs": [],
   "source": [
    "from pydantic import BaseModel\n",
    "from langchain_core.messages import SystemMessage, HumanMessage, AIMessage, AnyMessage\n",
    "\n",
    "class People(BaseModel):\n",
    "  results: list[str]\n",
    "  \n",
    "class Places(BaseModel):\n",
    "  results: list[str]\n",
    "  \n",
    "class State(BaseModel):\n",
    "  # people: People\n",
    "  # places: Places\n",
    "  topic: str\n",
    "  people: list[str] = None\n",
    "  places: list[str] = None\n",
    "  \n",
    "llm_with_structure = llm.with_structured_output(Places, include_raw=True) \n",
    "\n",
    "\n"
   ]
  },
  {
   "cell_type": "code",
   "execution_count": 12,
   "metadata": {},
   "outputs": [
    {
     "name": "stdout",
     "output_type": "stream",
     "text": [
      "this\n"
     ]
    },
    {
     "data": {
      "text/plain": [
       "{'raw': AIMessage(content='', additional_kwargs={}, response_metadata={'model': 'llama3.2', 'created_at': '2024-10-29T19:25:37.4564449Z', 'message': {'role': 'assistant', 'content': ''}, 'done_reason': 'stop', 'done': True, 'total_duration': 48299700, 'load_duration': 27721900, 'prompt_eval_count': 57, 'prompt_eval_duration': 18845000, 'eval_count': 1, 'eval_duration': 31000}, id='run-ff7cffdd-74b3-43f2-bb79-776194c6d124-0', usage_metadata={'input_tokens': 57, 'output_tokens': 1, 'total_tokens': 58}),\n",
       " 'parsed': None,\n",
       " 'parsing_error': None}"
      ]
     },
     "execution_count": 12,
     "metadata": {},
     "output_type": "execute_result"
    }
   ],
   "source": [
    "\n",
    "try: \n",
    "  print(\"this\")\n",
    "  resp = llm_with_structure.invoke([SystemMessage(content=\"think of any associations with a bird and places\")])\n",
    "except Exception as e:\n",
    "  error = e\n",
    "  print('wtf')\n",
    "  \n",
    "resp\n",
    "  "
   ]
  },
  {
   "cell_type": "code",
   "execution_count": 13,
   "metadata": {},
   "outputs": [
    {
     "data": {
      "text/plain": [
       "dict_keys(['raw', 'parsed', 'parsing_error'])"
      ]
     },
     "execution_count": 13,
     "metadata": {},
     "output_type": "execute_result"
    }
   ],
   "source": [
    "resp.keys()\n"
   ]
  },
  {
   "cell_type": "code",
   "execution_count": 14,
   "metadata": {},
   "outputs": [
    {
     "name": "stdout",
     "output_type": "stream",
     "text": [
      "===========================================================================\n",
      "{'raw': AIMessage(content='', additional_kwargs={}, response_metadata={'model': 'llama3.2', 'created_at': '2024-10-29T19:25:38.2585205Z', 'message': {'role': 'assistant', 'content': '', 'tool_calls': [{'function': {'name': 'Places', 'arguments': {'results': '[\"Nesting Site\", \"Migratory Stopover\", \"Breeding Ground\"]'}}}]}, 'done_reason': 'stop', 'done': True, 'total_duration': 764011900, 'load_duration': 25671500, 'prompt_eval_count': 153, 'prompt_eval_duration': 160339000, 'eval_count': 32, 'eval_duration': 576370000}, id='run-bf10be91-f903-498e-b783-37def5993e81-0', tool_calls=[{'name': 'Places', 'args': {'results': '[\"Nesting Site\", \"Migratory Stopover\", \"Breeding Ground\"]'}, 'id': '09a2cb9e-d6af-4af7-9d54-22d1d17c65c7', 'type': 'tool_call'}], usage_metadata={'input_tokens': 153, 'output_tokens': 32, 'total_tokens': 185}), 'parsing_error': 1 validation error for Places\n",
      "results\n",
      "  Input should be a valid list [type=list_type, input_value='[\"Nesting Site\", \"Migrat...er\", \"Breeding Ground\"]', input_type=str]\n",
      "    For further information visit https://errors.pydantic.dev/2.9/v/list_type, 'parsed': None}\n",
      "===========================================================================\n",
      "{'raw': AIMessage(content='', additional_kwargs={}, response_metadata={'model': 'llama3.2', 'created_at': '2024-10-29T19:25:38.9164849Z', 'message': {'role': 'assistant', 'content': '', 'tool_calls': [{'function': {'name': 'Places', 'arguments': {'results': '[\"nest\", \"flock\", \"migrate\"]'}}}]}, 'done_reason': 'stop', 'done': True, 'total_duration': 525126400, 'load_duration': 22592900, 'prompt_eval_count': 153, 'prompt_eval_duration': 27684000, 'eval_count': 27, 'eval_duration': 473589000}, id='run-19bf04c8-9926-4158-94cf-65f43fcdba93-0', tool_calls=[{'name': 'Places', 'args': {'results': '[\"nest\", \"flock\", \"migrate\"]'}, 'id': 'da781ad6-795c-43ea-ab06-07006600b699', 'type': 'tool_call'}], usage_metadata={'input_tokens': 153, 'output_tokens': 27, 'total_tokens': 180}), 'parsing_error': 1 validation error for Places\n",
      "results\n",
      "  Input should be a valid list [type=list_type, input_value='[\"nest\", \"flock\", \"migrate\"]', input_type=str]\n",
      "    For further information visit https://errors.pydantic.dev/2.9/v/list_type, 'parsed': None}\n",
      "===========================================================================\n",
      "{'raw': AIMessage(content='', additional_kwargs={}, response_metadata={'model': 'llama3.2', 'created_at': '2024-10-29T19:25:39.5303114Z', 'message': {'role': 'assistant', 'content': '', 'tool_calls': [{'function': {'name': 'Places', 'arguments': {'results': '[\"Eiffel Tower\", \"Taj Mahal\", \"Big Ben\"]'}}}]}, 'done_reason': 'stop', 'done': True, 'total_duration': 596732600, 'load_duration': 22690300, 'prompt_eval_count': 153, 'prompt_eval_duration': 18950000, 'eval_count': 31, 'eval_duration': 553863000}, id='run-1be5a3e2-9190-47ac-b43b-055d98ebc77a-0', tool_calls=[{'name': 'Places', 'args': {'results': '[\"Eiffel Tower\", \"Taj Mahal\", \"Big Ben\"]'}, 'id': '811ac1a1-81fb-4430-9665-e4e22146b16c', 'type': 'tool_call'}], usage_metadata={'input_tokens': 153, 'output_tokens': 31, 'total_tokens': 184}), 'parsing_error': 1 validation error for Places\n",
      "results\n",
      "  Input should be a valid list [type=list_type, input_value='[\"Eiffel Tower\", \"Taj Mahal\", \"Big Ben\"]', input_type=str]\n",
      "    For further information visit https://errors.pydantic.dev/2.9/v/list_type, 'parsed': None}\n",
      "===========================================================================\n",
      "{'raw': AIMessage(content='', additional_kwargs={}, response_metadata={'model': 'llama3.2', 'created_at': '2024-10-29T19:25:40.1995731Z', 'message': {'role': 'assistant', 'content': '', 'tool_calls': [{'function': {'name': 'Places', 'arguments': {'results': '[\"Nesting Site\", \"Perching Post\", \"Migration Route\", \"Breeding Ground\"]'}}}]}, 'done_reason': 'stop', 'done': True, 'total_duration': 652165900, 'load_duration': 21436300, 'prompt_eval_count': 153, 'prompt_eval_duration': 19397000, 'eval_count': 34, 'eval_duration': 610831000}, id='run-ca920091-70ec-4cb8-9f41-769dda8fb126-0', tool_calls=[{'name': 'Places', 'args': {'results': '[\"Nesting Site\", \"Perching Post\", \"Migration Route\", \"Breeding Ground\"]'}, 'id': 'fc48f795-e162-48ae-9631-387121aec1fc', 'type': 'tool_call'}], usage_metadata={'input_tokens': 153, 'output_tokens': 34, 'total_tokens': 187}), 'parsing_error': 1 validation error for Places\n",
      "results\n",
      "  Input should be a valid list [type=list_type, input_value='[\"Nesting Site\", \"Perchi...te\", \"Breeding Ground\"]', input_type=str]\n",
      "    For further information visit https://errors.pydantic.dev/2.9/v/list_type, 'parsed': None}\n",
      "===========================================================================\n",
      "{'raw': AIMessage(content='{\"name\":\"Places\",\"parameters\":{\"results\":[{\"type\":\"string\",\"default\":\"\",\"value\":\"Nesting sites\"}}', additional_kwargs={}, response_metadata={'model': 'llama3.2', 'created_at': '2024-10-29T19:25:40.6540497Z', 'message': {'role': 'assistant', 'content': '{\"name\":\"Places\",\"parameters\":{\"results\":[{\"type\":\"string\",\"default\":\"\",\"value\":\"Nesting sites\"}}'}, 'done_reason': 'stop', 'done': True, 'total_duration': 436571000, 'load_duration': 23602100, 'prompt_eval_count': 153, 'prompt_eval_duration': 19837000, 'eval_count': 22, 'eval_duration': 391952000}, id='run-ad975d09-d435-4451-a610-454b856fe4e9-0', usage_metadata={'input_tokens': 153, 'output_tokens': 22, 'total_tokens': 175}), 'parsed': None, 'parsing_error': None}\n"
     ]
    },
    {
     "data": {
      "text/plain": [
       "{'raw': AIMessage(content='{\"name\":\"Places\",\"parameters\":{\"results\":[{\"type\":\"string\",\"default\":\"\",\"value\":\"Nesting sites\"}}', additional_kwargs={}, response_metadata={'model': 'llama3.2', 'created_at': '2024-10-29T19:25:40.6540497Z', 'message': {'role': 'assistant', 'content': '{\"name\":\"Places\",\"parameters\":{\"results\":[{\"type\":\"string\",\"default\":\"\",\"value\":\"Nesting sites\"}}'}, 'done_reason': 'stop', 'done': True, 'total_duration': 436571000, 'load_duration': 23602100, 'prompt_eval_count': 153, 'prompt_eval_duration': 19837000, 'eval_count': 22, 'eval_duration': 391952000}, id='run-ad975d09-d435-4451-a610-454b856fe4e9-0', usage_metadata={'input_tokens': 153, 'output_tokens': 22, 'total_tokens': 175}),\n",
       " 'parsed': None,\n",
       " 'parsing_error': None}"
      ]
     },
     "execution_count": 14,
     "metadata": {},
     "output_type": "execute_result"
    }
   ],
   "source": [
    "while True:\n",
    "  resp = llm_with_structure.invoke(\"think of any associations with a bird and places\")\n",
    "  print(\"===\" * 25)\n",
    "  print(resp)\n",
    "  if not resp['parsing_error']:\n",
    "    break\n",
    "\n",
    "if resp.get('parsing_error'):\n",
    "  print('heya!')\n",
    "  \n",
    "resp"
   ]
  },
  {
   "cell_type": "code",
   "execution_count": 15,
   "metadata": {},
   "outputs": [],
   "source": [
    "resp['parsed']"
   ]
  },
  {
   "cell_type": "code",
   "execution_count": 16,
   "metadata": {},
   "outputs": [
    {
     "data": {
      "text/plain": [
       "{'raw': AIMessage(content='{\"name\":\"Places\",\"parameters\":{\"results\":[{\"type\":\"string\",\"default\":\"\",\"value\":\"Nesting sites\"}}', additional_kwargs={}, response_metadata={'model': 'llama3.2', 'created_at': '2024-10-29T19:25:40.6540497Z', 'message': {'role': 'assistant', 'content': '{\"name\":\"Places\",\"parameters\":{\"results\":[{\"type\":\"string\",\"default\":\"\",\"value\":\"Nesting sites\"}}'}, 'done_reason': 'stop', 'done': True, 'total_duration': 436571000, 'load_duration': 23602100, 'prompt_eval_count': 153, 'prompt_eval_duration': 19837000, 'eval_count': 22, 'eval_duration': 391952000}, id='run-ad975d09-d435-4451-a610-454b856fe4e9-0', usage_metadata={'input_tokens': 153, 'output_tokens': 22, 'total_tokens': 175}),\n",
       " 'parsed': None,\n",
       " 'parsing_error': None}"
      ]
     },
     "execution_count": 16,
     "metadata": {},
     "output_type": "execute_result"
    }
   ],
   "source": [
    "resp\n"
   ]
  },
  {
   "cell_type": "code",
   "execution_count": 20,
   "metadata": {},
   "outputs": [
    {
     "data": {
      "image/jpeg": "[encoded data removed]",
      "text/plain": [
       "<IPython.core.display.Image object>"
      ]
     },
     "metadata": {},
     "output_type": "display_data"
    }
   ],
   "source": [
    "\n",
    "from langgraph.graph import StateGraph, START, END\n",
    "from pydantic_core import ValidationError\n",
    "import time\n",
    "\n",
    "builder = StateGraph(State)\n",
    "\n",
    "def generate_people_try_catch(state):\n",
    "  places_prompt = f\"\"\"Given the topic ({state.topic}), think of any associations with places\"\"\"\n",
    "  \n",
    "  while True:\n",
    "    \n",
    "    start_time = time.time()\n",
    "    try:\n",
    "      print(\"-----  trying again -----\")\n",
    "      places = llm_with_structure.invoke(places_prompt)\n",
    "      print(places)\n",
    "      break  \n",
    "    except ValidationError as e:\n",
    "      print(f\"There was a  excpetion with == {e.title} ==\\n\\n\")\n",
    "      print(e.errors())\n",
    "    finally:\n",
    "      end_time = time.time()\n",
    "      time_took = end_time - start_time\n",
    "      print(\"---\" * 25)\n",
    "\n",
    "      print(f\"Time to generate output and retry: {time_took}\")    \n",
    "      print(\"---\" * 25)\n",
    "    \n",
    "  return {\n",
    "    'places': places.results\n",
    "  }\n",
    "\n",
    "builder.add_node('generate_people', generate_people_try_catch)\n",
    "builder.add_edge(START, 'generate_people')\n",
    "builder.add_edge('generate_people', END)\n",
    "\n",
    "graph = builder.compile()\n",
    "\n",
    "from IPython.display import display, Image\n",
    "\n",
    "display(Image(graph.get_graph().draw_mermaid_png()))\n"
   ]
  },
  {
   "cell_type": "code",
   "execution_count": 21,
   "metadata": {},
   "outputs": [
    {
     "name": "stdout",
     "output_type": "stream",
     "text": [
      "-----  trying again -----\n",
      "{'raw': AIMessage(content='', additional_kwargs={}, response_metadata={'model': 'llama3.2', 'created_at': '2024-10-29T19:26:38.5152666Z', 'message': {'role': 'assistant', 'content': '', 'tool_calls': [{'function': {'name': 'Places', 'arguments': {'results': '[\"Birds and Blooms National Wildlife Refuge in Florida\", \"Cape May Bird Observatory in New Jersey\", \"Hawk Mountain Sanctuary in Pennsylvania\"]'}}}]}, 'done_reason': 'stop', 'done': True, 'total_duration': 894006800, 'load_duration': 22077600, 'prompt_eval_count': 156, 'prompt_eval_duration': 20310000, 'eval_count': 45, 'eval_duration': 850409000}, id='run-c239baaf-4d6b-4e89-b352-d6e202dd6fcc-0', tool_calls=[{'name': 'Places', 'args': {'results': '[\"Birds and Blooms National Wildlife Refuge in Florida\", \"Cape May Bird Observatory in New Jersey\", \"Hawk Mountain Sanctuary in Pennsylvania\"]'}, 'id': 'c0d81bf5-2ae6-4e1d-b0b9-3594397ce8cb', 'type': 'tool_call'}], usage_metadata={'input_tokens': 156, 'output_tokens': 45, 'total_tokens': 201}), 'parsing_error': 1 validation error for Places\n",
      "results\n",
      "  Input should be a valid list [type=list_type, input_value='[\"Birds and Blooms Natio...tuary in Pennsylvania\"]', input_type=str]\n",
      "    For further information visit https://errors.pydantic.dev/2.9/v/list_type, 'parsed': None}\n",
      "---------------------------------------------------------------------------\n",
      "Time to generate output and retry: 0.9149672985076904\n",
      "---------------------------------------------------------------------------\n"
     ]
    },
    {
     "ename": "KeyError",
     "evalue": "'results'",
     "output_type": "error",
     "traceback": [
      "\u001b[1;31m---------------------------------------------------------------------------\u001b[0m",
      "\u001b[1;31mKeyError\u001b[0m                                  Traceback (most recent call last)",
      "Cell \u001b[1;32mIn[21], line 1\u001b[0m\n\u001b[1;32m----> 1\u001b[0m res \u001b[38;5;241m=\u001b[39m \u001b[43mgraph\u001b[49m\u001b[38;5;241;43m.\u001b[39;49m\u001b[43minvoke\u001b[49m\u001b[43m(\u001b[49m\u001b[43m{\u001b[49m\u001b[38;5;124;43m'\u001b[39;49m\u001b[38;5;124;43mtopic\u001b[39;49m\u001b[38;5;124;43m'\u001b[39;49m\u001b[43m:\u001b[49m\u001b[43m \u001b[49m\u001b[38;5;124;43m\"\u001b[39;49m\u001b[38;5;124;43mbird\u001b[39;49m\u001b[38;5;124;43m\"\u001b[39;49m\u001b[43m}\u001b[49m\u001b[43m)\u001b[49m\n",
      "File \u001b[1;32md:\\Users\\stephen\\anaconda3\\envs\\langgraph-course\\Lib\\site-packages\\langgraph\\pregel\\__init__.py:1586\u001b[0m, in \u001b[0;36mPregel.invoke\u001b[1;34m(self, input, config, stream_mode, output_keys, interrupt_before, interrupt_after, debug, **kwargs)\u001b[0m\n\u001b[0;32m   1584\u001b[0m \u001b[38;5;28;01melse\u001b[39;00m:\n\u001b[0;32m   1585\u001b[0m     chunks \u001b[38;5;241m=\u001b[39m []\n\u001b[1;32m-> 1586\u001b[0m \u001b[43m\u001b[49m\u001b[38;5;28;43;01mfor\u001b[39;49;00m\u001b[43m \u001b[49m\u001b[43mchunk\u001b[49m\u001b[43m \u001b[49m\u001b[38;5;129;43;01min\u001b[39;49;00m\u001b[43m \u001b[49m\u001b[38;5;28;43mself\u001b[39;49m\u001b[38;5;241;43m.\u001b[39;49m\u001b[43mstream\u001b[49m\u001b[43m(\u001b[49m\n\u001b[0;32m   1587\u001b[0m \u001b[43m    \u001b[49m\u001b[38;5;28;43minput\u001b[39;49m\u001b[43m,\u001b[49m\n\u001b[0;32m   1588\u001b[0m \u001b[43m    \u001b[49m\u001b[43mconfig\u001b[49m\u001b[43m,\u001b[49m\n\u001b[0;32m   1589\u001b[0m \u001b[43m    \u001b[49m\u001b[43mstream_mode\u001b[49m\u001b[38;5;241;43m=\u001b[39;49m\u001b[43mstream_mode\u001b[49m\u001b[43m,\u001b[49m\n\u001b[0;32m   1590\u001b[0m \u001b[43m    \u001b[49m\u001b[43moutput_keys\u001b[49m\u001b[38;5;241;43m=\u001b[39;49m\u001b[43moutput_keys\u001b[49m\u001b[43m,\u001b[49m\n\u001b[0;32m   1591\u001b[0m \u001b[43m    \u001b[49m\u001b[43minterrupt_before\u001b[49m\u001b[38;5;241;43m=\u001b[39;49m\u001b[43minterrupt_before\u001b[49m\u001b[43m,\u001b[49m\n\u001b[0;32m   1592\u001b[0m \u001b[43m    \u001b[49m\u001b[43minterrupt_after\u001b[49m\u001b[38;5;241;43m=\u001b[39;49m\u001b[43minterrupt_after\u001b[49m\u001b[43m,\u001b[49m\n\u001b[0;32m   1593\u001b[0m \u001b[43m    \u001b[49m\u001b[43mdebug\u001b[49m\u001b[38;5;241;43m=\u001b[39;49m\u001b[43mdebug\u001b[49m\u001b[43m,\u001b[49m\n\u001b[0;32m   1594\u001b[0m \u001b[43m    \u001b[49m\u001b[38;5;241;43m*\u001b[39;49m\u001b[38;5;241;43m*\u001b[39;49m\u001b[43mkwargs\u001b[49m\u001b[43m,\u001b[49m\n\u001b[0;32m   1595\u001b[0m \u001b[43m\u001b[49m\u001b[43m)\u001b[49m\u001b[43m:\u001b[49m\n\u001b[0;32m   1596\u001b[0m \u001b[43m    \u001b[49m\u001b[38;5;28;43;01mif\u001b[39;49;00m\u001b[43m \u001b[49m\u001b[43mstream_mode\u001b[49m\u001b[43m \u001b[49m\u001b[38;5;241;43m==\u001b[39;49m\u001b[43m \u001b[49m\u001b[38;5;124;43m\"\u001b[39;49m\u001b[38;5;124;43mvalues\u001b[39;49m\u001b[38;5;124;43m\"\u001b[39;49m\u001b[43m:\u001b[49m\n\u001b[0;32m   1597\u001b[0m \u001b[43m        \u001b[49m\u001b[43mlatest\u001b[49m\u001b[43m \u001b[49m\u001b[38;5;241;43m=\u001b[39;49m\u001b[43m \u001b[49m\u001b[43mchunk\u001b[49m\n",
      "File \u001b[1;32md:\\Users\\stephen\\anaconda3\\envs\\langgraph-course\\Lib\\site-packages\\langgraph\\pregel\\__init__.py:1315\u001b[0m, in \u001b[0;36mPregel.stream\u001b[1;34m(self, input, config, stream_mode, output_keys, interrupt_before, interrupt_after, debug, subgraphs)\u001b[0m\n\u001b[0;32m   1304\u001b[0m     \u001b[38;5;66;03m# Similarly to Bulk Synchronous Parallel / Pregel model\u001b[39;00m\n\u001b[0;32m   1305\u001b[0m     \u001b[38;5;66;03m# computation proceeds in steps, while there are channel updates\u001b[39;00m\n\u001b[0;32m   1306\u001b[0m     \u001b[38;5;66;03m# channel updates from step N are only visible in step N+1\u001b[39;00m\n\u001b[0;32m   1307\u001b[0m     \u001b[38;5;66;03m# channels are guaranteed to be immutable for the duration of the step,\u001b[39;00m\n\u001b[0;32m   1308\u001b[0m     \u001b[38;5;66;03m# with channel updates applied only at the transition between steps\u001b[39;00m\n\u001b[0;32m   1309\u001b[0m     \u001b[38;5;28;01mwhile\u001b[39;00m loop\u001b[38;5;241m.\u001b[39mtick(\n\u001b[0;32m   1310\u001b[0m         input_keys\u001b[38;5;241m=\u001b[39m\u001b[38;5;28mself\u001b[39m\u001b[38;5;241m.\u001b[39minput_channels,\n\u001b[0;32m   1311\u001b[0m         interrupt_before\u001b[38;5;241m=\u001b[39minterrupt_before_,\n\u001b[0;32m   1312\u001b[0m         interrupt_after\u001b[38;5;241m=\u001b[39minterrupt_after_,\n\u001b[0;32m   1313\u001b[0m         manager\u001b[38;5;241m=\u001b[39mrun_manager,\n\u001b[0;32m   1314\u001b[0m     ):\n\u001b[1;32m-> 1315\u001b[0m \u001b[43m        \u001b[49m\u001b[38;5;28;43;01mfor\u001b[39;49;00m\u001b[43m \u001b[49m\u001b[43m_\u001b[49m\u001b[43m \u001b[49m\u001b[38;5;129;43;01min\u001b[39;49;00m\u001b[43m \u001b[49m\u001b[43mrunner\u001b[49m\u001b[38;5;241;43m.\u001b[39;49m\u001b[43mtick\u001b[49m\u001b[43m(\u001b[49m\n\u001b[0;32m   1316\u001b[0m \u001b[43m            \u001b[49m\u001b[43mloop\u001b[49m\u001b[38;5;241;43m.\u001b[39;49m\u001b[43mtasks\u001b[49m\u001b[38;5;241;43m.\u001b[39;49m\u001b[43mvalues\u001b[49m\u001b[43m(\u001b[49m\u001b[43m)\u001b[49m\u001b[43m,\u001b[49m\n\u001b[0;32m   1317\u001b[0m \u001b[43m            \u001b[49m\u001b[43mtimeout\u001b[49m\u001b[38;5;241;43m=\u001b[39;49m\u001b[38;5;28;43mself\u001b[39;49m\u001b[38;5;241;43m.\u001b[39;49m\u001b[43mstep_timeout\u001b[49m\u001b[43m,\u001b[49m\n\u001b[0;32m   1318\u001b[0m \u001b[43m            \u001b[49m\u001b[43mretry_policy\u001b[49m\u001b[38;5;241;43m=\u001b[39;49m\u001b[38;5;28;43mself\u001b[39;49m\u001b[38;5;241;43m.\u001b[39;49m\u001b[43mretry_policy\u001b[49m\u001b[43m,\u001b[49m\n\u001b[0;32m   1319\u001b[0m \u001b[43m            \u001b[49m\u001b[43mget_waiter\u001b[49m\u001b[38;5;241;43m=\u001b[39;49m\u001b[43mget_waiter\u001b[49m\u001b[43m,\u001b[49m\n\u001b[0;32m   1320\u001b[0m \u001b[43m        \u001b[49m\u001b[43m)\u001b[49m\u001b[43m:\u001b[49m\n\u001b[0;32m   1321\u001b[0m \u001b[43m            \u001b[49m\u001b[38;5;66;43;03m# emit output\u001b[39;49;00m\n\u001b[0;32m   1322\u001b[0m \u001b[43m            \u001b[49m\u001b[38;5;28;43;01myield from\u001b[39;49;00m\u001b[43m \u001b[49m\u001b[43moutput\u001b[49m\u001b[43m(\u001b[49m\u001b[43m)\u001b[49m\n\u001b[0;32m   1323\u001b[0m \u001b[38;5;66;03m# emit output\u001b[39;00m\n",
      "File \u001b[1;32md:\\Users\\stephen\\anaconda3\\envs\\langgraph-course\\Lib\\site-packages\\langgraph\\pregel\\runner.py:56\u001b[0m, in \u001b[0;36mPregelRunner.tick\u001b[1;34m(self, tasks, reraise, timeout, retry_policy, get_waiter)\u001b[0m\n\u001b[0;32m     54\u001b[0m t \u001b[38;5;241m=\u001b[39m tasks[\u001b[38;5;241m0\u001b[39m]\n\u001b[0;32m     55\u001b[0m \u001b[38;5;28;01mtry\u001b[39;00m:\n\u001b[1;32m---> 56\u001b[0m     \u001b[43mrun_with_retry\u001b[49m\u001b[43m(\u001b[49m\u001b[43mt\u001b[49m\u001b[43m,\u001b[49m\u001b[43m \u001b[49m\u001b[43mretry_policy\u001b[49m\u001b[43m)\u001b[49m\n\u001b[0;32m     57\u001b[0m     \u001b[38;5;28mself\u001b[39m\u001b[38;5;241m.\u001b[39mcommit(t, \u001b[38;5;28;01mNone\u001b[39;00m)\n\u001b[0;32m     58\u001b[0m \u001b[38;5;28;01mexcept\u001b[39;00m \u001b[38;5;167;01mException\u001b[39;00m \u001b[38;5;28;01mas\u001b[39;00m exc:\n",
      "File \u001b[1;32md:\\Users\\stephen\\anaconda3\\envs\\langgraph-course\\Lib\\site-packages\\langgraph\\pregel\\retry.py:29\u001b[0m, in \u001b[0;36mrun_with_retry\u001b[1;34m(task, retry_policy)\u001b[0m\n\u001b[0;32m     27\u001b[0m task\u001b[38;5;241m.\u001b[39mwrites\u001b[38;5;241m.\u001b[39mclear()\n\u001b[0;32m     28\u001b[0m \u001b[38;5;66;03m# run the task\u001b[39;00m\n\u001b[1;32m---> 29\u001b[0m \u001b[43mtask\u001b[49m\u001b[38;5;241;43m.\u001b[39;49m\u001b[43mproc\u001b[49m\u001b[38;5;241;43m.\u001b[39;49m\u001b[43minvoke\u001b[49m\u001b[43m(\u001b[49m\u001b[43mtask\u001b[49m\u001b[38;5;241;43m.\u001b[39;49m\u001b[43minput\u001b[49m\u001b[43m,\u001b[49m\u001b[43m \u001b[49m\u001b[43mconfig\u001b[49m\u001b[43m)\u001b[49m\n\u001b[0;32m     30\u001b[0m \u001b[38;5;66;03m# if successful, end\u001b[39;00m\n\u001b[0;32m     31\u001b[0m \u001b[38;5;28;01mbreak\u001b[39;00m\n",
      "File \u001b[1;32md:\\Users\\stephen\\anaconda3\\envs\\langgraph-course\\Lib\\site-packages\\langgraph\\utils\\runnable.py:410\u001b[0m, in \u001b[0;36mRunnableSeq.invoke\u001b[1;34m(self, input, config, **kwargs)\u001b[0m\n\u001b[0;32m    408\u001b[0m context\u001b[38;5;241m.\u001b[39mrun(_set_config_context, config)\n\u001b[0;32m    409\u001b[0m \u001b[38;5;28;01mif\u001b[39;00m i \u001b[38;5;241m==\u001b[39m \u001b[38;5;241m0\u001b[39m:\n\u001b[1;32m--> 410\u001b[0m     \u001b[38;5;28minput\u001b[39m \u001b[38;5;241m=\u001b[39m \u001b[43mcontext\u001b[49m\u001b[38;5;241;43m.\u001b[39;49m\u001b[43mrun\u001b[49m\u001b[43m(\u001b[49m\u001b[43mstep\u001b[49m\u001b[38;5;241;43m.\u001b[39;49m\u001b[43minvoke\u001b[49m\u001b[43m,\u001b[49m\u001b[43m \u001b[49m\u001b[38;5;28;43minput\u001b[39;49m\u001b[43m,\u001b[49m\u001b[43m \u001b[49m\u001b[43mconfig\u001b[49m\u001b[43m,\u001b[49m\u001b[43m \u001b[49m\u001b[38;5;241;43m*\u001b[39;49m\u001b[38;5;241;43m*\u001b[39;49m\u001b[43mkwargs\u001b[49m\u001b[43m)\u001b[49m\n\u001b[0;32m    411\u001b[0m \u001b[38;5;28;01melse\u001b[39;00m:\n\u001b[0;32m    412\u001b[0m     \u001b[38;5;28minput\u001b[39m \u001b[38;5;241m=\u001b[39m context\u001b[38;5;241m.\u001b[39mrun(step\u001b[38;5;241m.\u001b[39minvoke, \u001b[38;5;28minput\u001b[39m, config)\n",
      "File \u001b[1;32md:\\Users\\stephen\\anaconda3\\envs\\langgraph-course\\Lib\\site-packages\\langgraph\\utils\\runnable.py:184\u001b[0m, in \u001b[0;36mRunnableCallable.invoke\u001b[1;34m(self, input, config, **kwargs)\u001b[0m\n\u001b[0;32m    182\u001b[0m \u001b[38;5;28;01melse\u001b[39;00m:\n\u001b[0;32m    183\u001b[0m     context\u001b[38;5;241m.\u001b[39mrun(_set_config_context, config)\n\u001b[1;32m--> 184\u001b[0m     ret \u001b[38;5;241m=\u001b[39m \u001b[43mcontext\u001b[49m\u001b[38;5;241;43m.\u001b[39;49m\u001b[43mrun\u001b[49m\u001b[43m(\u001b[49m\u001b[38;5;28;43mself\u001b[39;49m\u001b[38;5;241;43m.\u001b[39;49m\u001b[43mfunc\u001b[49m\u001b[43m,\u001b[49m\u001b[43m \u001b[49m\u001b[38;5;28;43minput\u001b[39;49m\u001b[43m,\u001b[49m\u001b[43m \u001b[49m\u001b[38;5;241;43m*\u001b[39;49m\u001b[38;5;241;43m*\u001b[39;49m\u001b[43mkwargs\u001b[49m\u001b[43m)\u001b[49m\n\u001b[0;32m    185\u001b[0m \u001b[38;5;28;01mif\u001b[39;00m \u001b[38;5;28misinstance\u001b[39m(ret, Runnable) \u001b[38;5;129;01mand\u001b[39;00m \u001b[38;5;28mself\u001b[39m\u001b[38;5;241m.\u001b[39mrecurse:\n\u001b[0;32m    186\u001b[0m     \u001b[38;5;28;01mreturn\u001b[39;00m ret\u001b[38;5;241m.\u001b[39minvoke(\u001b[38;5;28minput\u001b[39m, config)\n",
      "Cell \u001b[1;32mIn[20], line 30\u001b[0m, in \u001b[0;36mgenerate_people_try_catch\u001b[1;34m(state)\u001b[0m\n\u001b[0;32m     26\u001b[0m     \u001b[38;5;28mprint\u001b[39m(\u001b[38;5;124mf\u001b[39m\u001b[38;5;124m\"\u001b[39m\u001b[38;5;124mTime to generate output and retry: \u001b[39m\u001b[38;5;132;01m{\u001b[39;00mtime_took\u001b[38;5;132;01m}\u001b[39;00m\u001b[38;5;124m\"\u001b[39m)    \n\u001b[0;32m     27\u001b[0m     \u001b[38;5;28mprint\u001b[39m(\u001b[38;5;124m\"\u001b[39m\u001b[38;5;124m---\u001b[39m\u001b[38;5;124m\"\u001b[39m \u001b[38;5;241m*\u001b[39m \u001b[38;5;241m25\u001b[39m)\n\u001b[0;32m     29\u001b[0m \u001b[38;5;28;01mreturn\u001b[39;00m {\n\u001b[1;32m---> 30\u001b[0m   \u001b[38;5;124m'\u001b[39m\u001b[38;5;124mplaces\u001b[39m\u001b[38;5;124m'\u001b[39m: \u001b[43mplaces\u001b[49m\u001b[43m[\u001b[49m\u001b[38;5;124;43m'\u001b[39;49m\u001b[38;5;124;43mresults\u001b[39;49m\u001b[38;5;124;43m'\u001b[39;49m\u001b[43m]\u001b[49m\n\u001b[0;32m     31\u001b[0m }\n",
      "\u001b[1;31mKeyError\u001b[0m: 'results'"
     ]
    }
   ],
   "source": [
    "\n",
    "res = graph.invoke({'topic': \"bird\"})"
   ]
  },
  {
   "cell_type": "code",
   "execution_count": 192,
   "metadata": {},
   "outputs": [
    {
     "data": {
      "text/plain": [
       "{'topic': 'bird',\n",
       " 'places': ['https://en.wikipedia.org/wiki/Ibiza',\n",
       "  'https://en.wikipedia.org/wiki/Sardinia',\n",
       "  'https://en.wikipedia.org/wiki/Canary_Islands',\n",
       "  'https://en.wikipedia.org/wiki/Sicily']}"
      ]
     },
     "execution_count": 192,
     "metadata": {},
     "output_type": "execute_result"
    }
   ],
   "source": [
    "res"
   ]
  },
  {
   "cell_type": "code",
   "execution_count": 22,
   "metadata": {},
   "outputs": [
    {
     "data": {
      "image/jpeg": "[encoded data removed]",
      "text/plain": [
       "<IPython.core.display.Image object>"
      ]
     },
     "metadata": {},
     "output_type": "display_data"
    }
   ],
   "source": [
    "from typing import Literal\n",
    "\n",
    "# don't throw exception.\n",
    "llm_with_structure = llm.with_structured_output(Places, include_raw=True) \n",
    "  \n",
    "class StateWithError(BaseModel):\n",
    "  # people: People\n",
    "  # places: Places\n",
    "  topic: str\n",
    "  people: list[str] = None\n",
    "  places: list[str] = None\n",
    "  has_error: bool = False\n",
    "  \n",
    "node_builder = StateGraph(StateWithError)\n",
    "\n",
    "# node\n",
    "def generate_people(state):\n",
    "  places_prompt = f\"\"\"Given the topic ({state.topic}), think of any associations with places\"\"\"\n",
    "  places = llm_with_structure.invoke(places_prompt)\n",
    "  print('===' * 25)\n",
    "  print(places)\n",
    "  if places.get('parsing_error'):\n",
    "    print('== H' * 25)\n",
    "    return {\n",
    "      'has_error': True\n",
    "    }\n",
    "  print(\"==== WHy the fuck return this?\")\n",
    "  return {\n",
    "    'places': places.values,\n",
    "    'has_error': False\n",
    "  }\n",
    "  \n",
    "# edge\n",
    "def validation_condition(state) -> Literal[\"generate_people\", \"__end__\"]:\n",
    "  if state.has_error:\n",
    "    return \"generate_people\"\n",
    "  else:\n",
    "    return \"__end__\"\n",
    "    \n",
    "node_builder.add_node(generate_people)\n",
    "\n",
    "node_builder.add_edge(START, 'generate_people')\n",
    "node_builder.add_conditional_edges('generate_people', validation_condition)\n",
    "\n",
    "node_graph = node_builder.compile()\n",
    "display(Image(node_graph.get_graph().draw_mermaid_png()))\n",
    "  "
   ]
  },
  {
   "cell_type": "code",
   "execution_count": 23,
   "metadata": {},
   "outputs": [
    {
     "name": "stdout",
     "output_type": "stream",
     "text": [
      "===========================================================================\n",
      "{'raw': AIMessage(content='', additional_kwargs={}, response_metadata={'model': 'llama3.2', 'created_at': '2024-10-29T19:27:02.4469765Z', 'message': {'role': 'assistant', 'content': '', 'tool_calls': [{'function': {'name': 'Places', 'arguments': {'results': '[\"United States\", \"Canada\", \"Mexico\", \"Australia\", \"New Zealand\"]'}}}]}, 'done_reason': 'stop', 'done': True, 'total_duration': 714853200, 'load_duration': 25467600, 'prompt_eval_count': 156, 'prompt_eval_duration': 28032000, 'eval_count': 32, 'eval_duration': 660029000}, id='run-e51e29e0-f6ce-417c-975f-6d791ce1bc02-0', tool_calls=[{'name': 'Places', 'args': {'results': '[\"United States\", \"Canada\", \"Mexico\", \"Australia\", \"New Zealand\"]'}, 'id': '1db73bd0-ac88-49c6-ab8e-2959ce8a8a57', 'type': 'tool_call'}], usage_metadata={'input_tokens': 156, 'output_tokens': 32, 'total_tokens': 188}), 'parsing_error': 1 validation error for Places\n",
      "results\n",
      "  Input should be a valid list [type=list_type, input_value='[\"United States\", \"Canad...tralia\", \"New Zealand\"]', input_type=str]\n",
      "    For further information visit https://errors.pydantic.dev/2.9/v/list_type, 'parsed': None}\n",
      "== H== H== H== H== H== H== H== H== H== H== H== H== H== H== H== H== H== H== H== H== H== H== H== H== H\n",
      "===========================================================================\n",
      "{'raw': AIMessage(content='', additional_kwargs={}, response_metadata={'model': 'llama3.2', 'created_at': '2024-10-29T19:27:04.0468394Z', 'message': {'role': 'assistant', 'content': '', 'tool_calls': [{'function': {'name': 'Places', 'arguments': {'results': '{\"place_id\":\"Chillon Castle, Switzerland\",\"place_name\":\"Chillon Castle\",\"type\":\"monument\",\"country\": \"Switzerland\",\"display_name\":\"Chillon Castle, Switzerland\"}, {\"place_id\":\"Tower Bridge, England\",\"place_name\":\"Tower Bridge\",\"type\":\"monument\",\"country\": \"England\",\"display_name\":\"Tower Bridge, England\"}'}}}]}, 'done_reason': 'stop', 'done': True, 'total_duration': 1580809300, 'load_duration': 21347500, 'prompt_eval_count': 156, 'prompt_eval_duration': 18966000, 'eval_count': 84, 'eval_duration': 1539210000}, id='run-3398312a-fa63-4798-b9a0-2d28c7a623d0-0', tool_calls=[{'name': 'Places', 'args': {'results': '{\"place_id\":\"Chillon Castle, Switzerland\",\"place_name\":\"Chillon Castle\",\"type\":\"monument\",\"country\": \"Switzerland\",\"display_name\":\"Chillon Castle, Switzerland\"}, {\"place_id\":\"Tower Bridge, England\",\"place_name\":\"Tower Bridge\",\"type\":\"monument\",\"country\": \"England\",\"display_name\":\"Tower Bridge, England\"}'}, 'id': '1c265e74-a5d8-4f49-8350-dd82654b471b', 'type': 'tool_call'}], usage_metadata={'input_tokens': 156, 'output_tokens': 84, 'total_tokens': 240}), 'parsing_error': 1 validation error for Places\n",
      "results\n",
      "  Input should be a valid list [type=list_type, input_value='{\"place_id\":\"Chillon Cas...Tower Bridge, England\"}', input_type=str]\n",
      "    For further information visit https://errors.pydantic.dev/2.9/v/list_type, 'parsed': None}\n",
      "== H== H== H== H== H== H== H== H== H== H== H== H== H== H== H== H== H== H== H== H== H== H== H== H== H\n",
      "===========================================================================\n",
      "{'raw': AIMessage(content='', additional_kwargs={}, response_metadata={'model': 'llama3.2', 'created_at': '2024-10-29T19:27:04.5686792Z', 'message': {'role': 'assistant', 'content': '', 'tool_calls': [{'function': {'name': 'Places', 'arguments': {'results': '[\"New York\", \"London\", \"Sydney\"]'}}}]}, 'done_reason': 'stop', 'done': True, 'total_duration': 502454000, 'load_duration': 22280300, 'prompt_eval_count': 156, 'prompt_eval_duration': 19259000, 'eval_count': 26, 'eval_duration': 459204000}, id='run-5c78a260-2ab9-435b-bd6e-93bb94287d56-0', tool_calls=[{'name': 'Places', 'args': {'results': '[\"New York\", \"London\", \"Sydney\"]'}, 'id': '00538646-104f-4ab3-8cb8-72d1ecb53d0b', 'type': 'tool_call'}], usage_metadata={'input_tokens': 156, 'output_tokens': 26, 'total_tokens': 182}), 'parsing_error': 1 validation error for Places\n",
      "results\n",
      "  Input should be a valid list [type=list_type, input_value='[\"New York\", \"London\", \"Sydney\"]', input_type=str]\n",
      "    For further information visit https://errors.pydantic.dev/2.9/v/list_type, 'parsed': None}\n",
      "== H== H== H== H== H== H== H== H== H== H== H== H== H== H== H== H== H== H== H== H== H== H== H== H== H\n",
      "===========================================================================\n",
      "{'raw': AIMessage(content='', additional_kwargs={}, response_metadata={'model': 'llama3.2', 'created_at': '2024-10-29T19:27:05.125073Z', 'message': {'role': 'assistant', 'content': '', 'tool_calls': [{'function': {'name': 'Places', 'arguments': {'results': '[\"New York\", \"Chicago\", \"London\", \"Paris\"]'}}}]}, 'done_reason': 'stop', 'done': True, 'total_duration': 536326700, 'load_duration': 22412400, 'prompt_eval_count': 156, 'prompt_eval_duration': 18360000, 'eval_count': 28, 'eval_duration': 494385000}, id='run-949026aa-2c45-4a33-a43c-368f06d5ce05-0', tool_calls=[{'name': 'Places', 'args': {'results': '[\"New York\", \"Chicago\", \"London\", \"Paris\"]'}, 'id': '930fe68f-6b4a-45de-80ae-14ea1dbd9873', 'type': 'tool_call'}], usage_metadata={'input_tokens': 156, 'output_tokens': 28, 'total_tokens': 184}), 'parsing_error': 1 validation error for Places\n",
      "results\n",
      "  Input should be a valid list [type=list_type, input_value='[\"New York\", \"Chicago\", \"London\", \"Paris\"]', input_type=str]\n",
      "    For further information visit https://errors.pydantic.dev/2.9/v/list_type, 'parsed': None}\n",
      "== H== H== H== H== H== H== H== H== H== H== H== H== H== H== H== H== H== H== H== H== H== H== H== H== H\n",
      "===========================================================================\n",
      "{'raw': AIMessage(content='', additional_kwargs={}, response_metadata={'model': 'llama3.2', 'created_at': '2024-10-29T19:27:05.8822615Z', 'message': {'role': 'assistant', 'content': '', 'tool_calls': [{'function': {'name': 'Places', 'arguments': {'results': '[\"Mount Dandenong, Australia\", \"Mont-Saint-Michel, France\", \"Eagle Mountain, Utah\"]'}}}]}, 'done_reason': 'stop', 'done': True, 'total_duration': 735600900, 'load_duration': 21103900, 'prompt_eval_count': 156, 'prompt_eval_duration': 18363000, 'eval_count': 39, 'eval_duration': 694939000}, id='run-b85c7136-c766-425a-92be-481723d2ee41-0', tool_calls=[{'name': 'Places', 'args': {'results': '[\"Mount Dandenong, Australia\", \"Mont-Saint-Michel, France\", \"Eagle Mountain, Utah\"]'}, 'id': 'c3607fc5-1f8b-4aee-a3c7-5abe1051d1dc', 'type': 'tool_call'}], usage_metadata={'input_tokens': 156, 'output_tokens': 39, 'total_tokens': 195}), 'parsing_error': 1 validation error for Places\n",
      "results\n",
      "  Input should be a valid list [type=list_type, input_value='[\"Mount Dandenong, Austr...\"Eagle Mountain, Utah\"]', input_type=str]\n",
      "    For further information visit https://errors.pydantic.dev/2.9/v/list_type, 'parsed': None}\n",
      "== H== H== H== H== H== H== H== H== H== H== H== H== H== H== H== H== H== H== H== H== H== H== H== H== H\n",
      "===========================================================================\n",
      "{'raw': AIMessage(content='', additional_kwargs={}, response_metadata={'model': 'llama3.2', 'created_at': '2024-10-29T19:27:06.4595393Z', 'message': {'role': 'assistant', 'content': '', 'tool_calls': [{'function': {'name': 'Places', 'arguments': {'results': '[\"London Zoo\", \"Big Ben\", \"The Tower of London\"]'}}}]}, 'done_reason': 'stop', 'done': True, 'total_duration': 558644900, 'load_duration': 23122300, 'prompt_eval_count': 156, 'prompt_eval_duration': 18574000, 'eval_count': 29, 'eval_duration': 515658000}, id='run-c9cd90e2-fc07-46a6-b45e-297a3e49f7a1-0', tool_calls=[{'name': 'Places', 'args': {'results': '[\"London Zoo\", \"Big Ben\", \"The Tower of London\"]'}, 'id': '97c65d9f-db00-4f49-83c7-92444c7821c1', 'type': 'tool_call'}], usage_metadata={'input_tokens': 156, 'output_tokens': 29, 'total_tokens': 185}), 'parsing_error': 1 validation error for Places\n",
      "results\n",
      "  Input should be a valid list [type=list_type, input_value='[\"London Zoo\", \"Big Ben\", \"The Tower of London\"]', input_type=str]\n",
      "    For further information visit https://errors.pydantic.dev/2.9/v/list_type, 'parsed': None}\n",
      "== H== H== H== H== H== H== H== H== H== H== H== H== H== H== H== H== H== H== H== H== H== H== H== H== H\n",
      "===========================================================================\n",
      "{'raw': AIMessage(content='', additional_kwargs={}, response_metadata={'model': 'llama3.2', 'created_at': '2024-10-29T19:27:07.0397197Z', 'message': {'role': 'assistant', 'content': '', 'tool_calls': [{'function': {'name': 'Places', 'arguments': {'results': '[\"London\", \"Paris\", \"Rome\", \"New York\"]'}}}]}, 'done_reason': 'stop', 'done': True, 'total_duration': 560588500, 'load_duration': 21049400, 'prompt_eval_count': 156, 'prompt_eval_duration': 18665000, 'eval_count': 29, 'eval_duration': 519393000}, id='run-777f1354-c200-4397-bc20-5460f44aa3d0-0', tool_calls=[{'name': 'Places', 'args': {'results': '[\"London\", \"Paris\", \"Rome\", \"New York\"]'}, 'id': '48d59d8d-1dd0-4e3c-82fc-e7d95fab4b02', 'type': 'tool_call'}], usage_metadata={'input_tokens': 156, 'output_tokens': 29, 'total_tokens': 185}), 'parsing_error': 1 validation error for Places\n",
      "results\n",
      "  Input should be a valid list [type=list_type, input_value='[\"London\", \"Paris\", \"Rome\", \"New York\"]', input_type=str]\n",
      "    For further information visit https://errors.pydantic.dev/2.9/v/list_type, 'parsed': None}\n",
      "== H== H== H== H== H== H== H== H== H== H== H== H== H== H== H== H== H== H== H== H== H== H== H== H== H\n",
      "===========================================================================\n",
      "{'raw': AIMessage(content='', additional_kwargs={}, response_metadata={'model': 'llama3.2', 'created_at': '2024-10-29T19:27:07.6651218Z', 'message': {'role': 'assistant', 'content': '', 'tool_calls': [{'function': {'name': 'Places', 'arguments': {'results': '[\"New Zealand\", \"Iceland\", \"Canada\", \"Australia\", \"South Africa\"]'}}}]}, 'done_reason': 'stop', 'done': True, 'total_duration': 606327500, 'load_duration': 20924300, 'prompt_eval_count': 156, 'prompt_eval_duration': 18366000, 'eval_count': 32, 'eval_duration': 565524000}, id='run-41eb9a9f-7dd6-4b10-a91a-1e505c51368b-0', tool_calls=[{'name': 'Places', 'args': {'results': '[\"New Zealand\", \"Iceland\", \"Canada\", \"Australia\", \"South Africa\"]'}, 'id': 'e40a2a22-bd0d-404e-917f-db89c2591276', 'type': 'tool_call'}], usage_metadata={'input_tokens': 156, 'output_tokens': 32, 'total_tokens': 188}), 'parsing_error': 1 validation error for Places\n",
      "results\n",
      "  Input should be a valid list [type=list_type, input_value='[\"New Zealand\", \"Iceland...ralia\", \"South Africa\"]', input_type=str]\n",
      "    For further information visit https://errors.pydantic.dev/2.9/v/list_type, 'parsed': None}\n",
      "== H== H== H== H== H== H== H== H== H== H== H== H== H== H== H== H== H== H== H== H== H== H== H== H== H\n",
      "===========================================================================\n",
      "{'raw': AIMessage(content='', additional_kwargs={}, response_metadata={'model': 'llama3.2', 'created_at': '2024-10-29T19:27:08.190181Z', 'message': {'role': 'assistant', 'content': '', 'tool_calls': [{'function': {'name': 'Places', 'arguments': {'results': '[\"New Zealand\", \"Canada\", \"United States\"]'}}}]}, 'done_reason': 'stop', 'done': True, 'total_duration': 505477100, 'load_duration': 22373000, 'prompt_eval_count': 156, 'prompt_eval_duration': 18254000, 'eval_count': 26, 'eval_duration': 462900000}, id='run-e5b18c0d-9e7b-4c60-b63b-a584c71283c8-0', tool_calls=[{'name': 'Places', 'args': {'results': '[\"New Zealand\", \"Canada\", \"United States\"]'}, 'id': '38c21a9c-bbd7-49a0-abcc-ee0cbe2ec40e', 'type': 'tool_call'}], usage_metadata={'input_tokens': 156, 'output_tokens': 26, 'total_tokens': 182}), 'parsing_error': 1 validation error for Places\n",
      "results\n",
      "  Input should be a valid list [type=list_type, input_value='[\"New Zealand\", \"Canada\", \"United States\"]', input_type=str]\n",
      "    For further information visit https://errors.pydantic.dev/2.9/v/list_type, 'parsed': None}\n",
      "== H== H== H== H== H== H== H== H== H== H== H== H== H== H== H== H== H== H== H== H== H== H== H== H== H\n",
      "===========================================================================\n",
      "{'raw': AIMessage(content='', additional_kwargs={}, response_metadata={'model': 'llama3.2', 'created_at': '2024-10-29T19:27:08.9245497Z', 'message': {'role': 'assistant', 'content': '', 'tool_calls': [{'function': {'name': 'Places', 'arguments': {'results': '[\"The Amazon Rainforest\", \"Africa\", \"Australia\", \"The Great Barrier Reef\", \"New Zealand\"]'}}}]}, 'done_reason': 'stop', 'done': True, 'total_duration': 710317200, 'load_duration': 22811500, 'prompt_eval_count': 156, 'prompt_eval_duration': 20228000, 'eval_count': 37, 'eval_duration': 665301000}, id='run-f7cc8c00-8d77-40a1-ab0b-ddf02d813d62-0', tool_calls=[{'name': 'Places', 'args': {'results': '[\"The Amazon Rainforest\", \"Africa\", \"Australia\", \"The Great Barrier Reef\", \"New Zealand\"]'}, 'id': 'e793d055-b2bc-4802-beda-71cfe7343079', 'type': 'tool_call'}], usage_metadata={'input_tokens': 156, 'output_tokens': 37, 'total_tokens': 193}), 'parsing_error': 1 validation error for Places\n",
      "results\n",
      "  Input should be a valid list [type=list_type, input_value='[\"The Amazon Rainforest\"...r Reef\", \"New Zealand\"]', input_type=str]\n",
      "    For further information visit https://errors.pydantic.dev/2.9/v/list_type, 'parsed': None}\n",
      "== H== H== H== H== H== H== H== H== H== H== H== H== H== H== H== H== H== H== H== H== H== H== H== H== H\n",
      "===========================================================================\n",
      "{'raw': AIMessage(content='', additional_kwargs={}, response_metadata={'model': 'llama3.2', 'created_at': '2024-10-29T19:27:09.6687202Z', 'message': {'role': 'assistant', 'content': '', 'tool_calls': [{'function': {'name': 'Places', 'arguments': {'results': '[\"Eiffel Tower\", \"The Great Wall of China\", \"Taj Mahal\", \"Big Ben\"]'}}}]}, 'done_reason': 'stop', 'done': True, 'total_duration': 725099100, 'load_duration': 28596700, 'prompt_eval_count': 156, 'prompt_eval_duration': 18936000, 'eval_count': 38, 'eval_duration': 675961000}, id='run-0fb0569d-f5ab-473b-93e1-f9618c8e2f6b-0', tool_calls=[{'name': 'Places', 'args': {'results': '[\"Eiffel Tower\", \"The Great Wall of China\", \"Taj Mahal\", \"Big Ben\"]'}, 'id': 'ee229d4f-5fb1-437d-af8e-5a71f0515324', 'type': 'tool_call'}], usage_metadata={'input_tokens': 156, 'output_tokens': 38, 'total_tokens': 194}), 'parsing_error': 1 validation error for Places\n",
      "results\n",
      "  Input should be a valid list [type=list_type, input_value='[\"Eiffel Tower\", \"The Gr...\"Taj Mahal\", \"Big Ben\"]', input_type=str]\n",
      "    For further information visit https://errors.pydantic.dev/2.9/v/list_type, 'parsed': None}\n",
      "== H== H== H== H== H== H== H== H== H== H== H== H== H== H== H== H== H== H== H== H== H== H== H== H== H\n",
      "===========================================================================\n",
      "{'raw': AIMessage(content='', additional_kwargs={}, response_metadata={'model': 'llama3.2', 'created_at': '2024-10-29T19:27:10.2475338Z', 'message': {'role': 'assistant', 'content': '', 'tool_calls': [{'function': {'name': 'Places', 'arguments': {'results': '[\"Bird Island\", \"Parrot Sanctuary\", \"Eagle Nest\"]'}}}]}, 'done_reason': 'stop', 'done': True, 'total_duration': 557759900, 'load_duration': 22664100, 'prompt_eval_count': 156, 'prompt_eval_duration': 18684000, 'eval_count': 29, 'eval_duration': 515281000}, id='run-63acffb4-11d2-4442-a34c-98363dcce57c-0', tool_calls=[{'name': 'Places', 'args': {'results': '[\"Bird Island\", \"Parrot Sanctuary\", \"Eagle Nest\"]'}, 'id': '6c81a21b-ae93-406b-8390-e79132bc9ccf', 'type': 'tool_call'}], usage_metadata={'input_tokens': 156, 'output_tokens': 29, 'total_tokens': 185}), 'parsing_error': 1 validation error for Places\n",
      "results\n",
      "  Input should be a valid list [type=list_type, input_value='[\"Bird Island\", \"Parrot ...nctuary\", \"Eagle Nest\"]', input_type=str]\n",
      "    For further information visit https://errors.pydantic.dev/2.9/v/list_type, 'parsed': None}\n",
      "== H== H== H== H== H== H== H== H== H== H== H== H== H== H== H== H== H== H== H== H== H== H== H== H== H\n",
      "===========================================================================\n",
      "{'raw': AIMessage(content='', additional_kwargs={}, response_metadata={'model': 'llama3.2', 'created_at': '2024-10-29T19:27:10.975018Z', 'message': {'role': 'assistant', 'content': '', 'tool_calls': [{'function': {'name': 'Places', 'arguments': {'results': '[\"Eiffel Tower\", \"Big Ben\", \"Taj Mahal\", \"Sydney Opera House\"]'}}}]}, 'done_reason': 'stop', 'done': True, 'total_duration': 707892600, 'load_duration': 23581100, 'prompt_eval_count': 156, 'prompt_eval_duration': 18407000, 'eval_count': 37, 'eval_duration': 664799000}, id='run-6b7bd70e-c3ef-4837-b60b-f90c02d67f69-0', tool_calls=[{'name': 'Places', 'args': {'results': '[\"Eiffel Tower\", \"Big Ben\", \"Taj Mahal\", \"Sydney Opera House\"]'}, 'id': 'c50363af-b848-4371-af49-fc62efe2b461', 'type': 'tool_call'}], usage_metadata={'input_tokens': 156, 'output_tokens': 37, 'total_tokens': 193}), 'parsing_error': 1 validation error for Places\n",
      "results\n",
      "  Input should be a valid list [type=list_type, input_value='[\"Eiffel Tower\", \"Big Be..., \"Sydney Opera House\"]', input_type=str]\n",
      "    For further information visit https://errors.pydantic.dev/2.9/v/list_type, 'parsed': None}\n",
      "== H== H== H== H== H== H== H== H== H== H== H== H== H== H== H== H== H== H== H== H== H== H== H== H== H\n",
      "===========================================================================\n",
      "{'raw': AIMessage(content='', additional_kwargs={}, response_metadata={'model': 'llama3.2', 'created_at': '2024-10-29T19:27:11.5818608Z', 'message': {'role': 'assistant', 'content': '', 'tool_calls': [{'function': {'name': 'Places', 'arguments': {'results': ['Amazon Rainforest', 'Galapagos Islands', 'Himalayas']}}}]}, 'done_reason': 'stop', 'done': True, 'total_duration': 503536000, 'load_duration': 22367000, 'prompt_eval_count': 156, 'prompt_eval_duration': 18704000, 'eval_count': 26, 'eval_duration': 460959000}, id='run-0d1de713-f469-43ff-b06b-74ce97801e21-0', tool_calls=[{'name': 'Places', 'args': {'results': ['Amazon Rainforest', 'Galapagos Islands', 'Himalayas']}, 'id': '80ebda8d-2840-4d0b-906e-420136f68bd0', 'type': 'tool_call'}], usage_metadata={'input_tokens': 156, 'output_tokens': 26, 'total_tokens': 182}), 'parsed': Places(results=['Amazon Rainforest', 'Galapagos Islands', 'Himalayas']), 'parsing_error': None}\n",
      "==== WHy the fuck return this?\n"
     ]
    },
    {
     "ename": "ValidationError",
     "evalue": "1 validation error for StateWithError\nplaces\n  Input should be a valid list [type=list_type, input_value=<built-in method values o...t at 0x000001C4167D8600>, input_type=builtin_function_or_method]\n    For further information visit https://errors.pydantic.dev/2.9/v/list_type",
     "output_type": "error",
     "traceback": [
      "\u001b[1;31m---------------------------------------------------------------------------\u001b[0m",
      "\u001b[1;31mValidationError\u001b[0m                           Traceback (most recent call last)",
      "Cell \u001b[1;32mIn[23], line 1\u001b[0m\n\u001b[1;32m----> 1\u001b[0m res \u001b[38;5;241m=\u001b[39m \u001b[43mnode_graph\u001b[49m\u001b[38;5;241;43m.\u001b[39;49m\u001b[43minvoke\u001b[49m\u001b[43m(\u001b[49m\u001b[43m{\u001b[49m\u001b[38;5;124;43m'\u001b[39;49m\u001b[38;5;124;43mtopic\u001b[39;49m\u001b[38;5;124;43m'\u001b[39;49m\u001b[43m:\u001b[49m\u001b[43m \u001b[49m\u001b[38;5;124;43m\"\u001b[39;49m\u001b[38;5;124;43mbird\u001b[39;49m\u001b[38;5;124;43m\"\u001b[39;49m\u001b[43m}\u001b[49m\u001b[43m)\u001b[49m\n",
      "File \u001b[1;32md:\\Users\\stephen\\anaconda3\\envs\\langgraph-course\\Lib\\site-packages\\langgraph\\pregel\\__init__.py:1586\u001b[0m, in \u001b[0;36mPregel.invoke\u001b[1;34m(self, input, config, stream_mode, output_keys, interrupt_before, interrupt_after, debug, **kwargs)\u001b[0m\n\u001b[0;32m   1584\u001b[0m \u001b[38;5;28;01melse\u001b[39;00m:\n\u001b[0;32m   1585\u001b[0m     chunks \u001b[38;5;241m=\u001b[39m []\n\u001b[1;32m-> 1586\u001b[0m \u001b[43m\u001b[49m\u001b[38;5;28;43;01mfor\u001b[39;49;00m\u001b[43m \u001b[49m\u001b[43mchunk\u001b[49m\u001b[43m \u001b[49m\u001b[38;5;129;43;01min\u001b[39;49;00m\u001b[43m \u001b[49m\u001b[38;5;28;43mself\u001b[39;49m\u001b[38;5;241;43m.\u001b[39;49m\u001b[43mstream\u001b[49m\u001b[43m(\u001b[49m\n\u001b[0;32m   1587\u001b[0m \u001b[43m    \u001b[49m\u001b[38;5;28;43minput\u001b[39;49m\u001b[43m,\u001b[49m\n\u001b[0;32m   1588\u001b[0m \u001b[43m    \u001b[49m\u001b[43mconfig\u001b[49m\u001b[43m,\u001b[49m\n\u001b[0;32m   1589\u001b[0m \u001b[43m    \u001b[49m\u001b[43mstream_mode\u001b[49m\u001b[38;5;241;43m=\u001b[39;49m\u001b[43mstream_mode\u001b[49m\u001b[43m,\u001b[49m\n\u001b[0;32m   1590\u001b[0m \u001b[43m    \u001b[49m\u001b[43moutput_keys\u001b[49m\u001b[38;5;241;43m=\u001b[39;49m\u001b[43moutput_keys\u001b[49m\u001b[43m,\u001b[49m\n\u001b[0;32m   1591\u001b[0m \u001b[43m    \u001b[49m\u001b[43minterrupt_before\u001b[49m\u001b[38;5;241;43m=\u001b[39;49m\u001b[43minterrupt_before\u001b[49m\u001b[43m,\u001b[49m\n\u001b[0;32m   1592\u001b[0m \u001b[43m    \u001b[49m\u001b[43minterrupt_after\u001b[49m\u001b[38;5;241;43m=\u001b[39;49m\u001b[43minterrupt_after\u001b[49m\u001b[43m,\u001b[49m\n\u001b[0;32m   1593\u001b[0m \u001b[43m    \u001b[49m\u001b[43mdebug\u001b[49m\u001b[38;5;241;43m=\u001b[39;49m\u001b[43mdebug\u001b[49m\u001b[43m,\u001b[49m\n\u001b[0;32m   1594\u001b[0m \u001b[43m    \u001b[49m\u001b[38;5;241;43m*\u001b[39;49m\u001b[38;5;241;43m*\u001b[39;49m\u001b[43mkwargs\u001b[49m\u001b[43m,\u001b[49m\n\u001b[0;32m   1595\u001b[0m \u001b[43m\u001b[49m\u001b[43m)\u001b[49m\u001b[43m:\u001b[49m\n\u001b[0;32m   1596\u001b[0m \u001b[43m    \u001b[49m\u001b[38;5;28;43;01mif\u001b[39;49;00m\u001b[43m \u001b[49m\u001b[43mstream_mode\u001b[49m\u001b[43m \u001b[49m\u001b[38;5;241;43m==\u001b[39;49m\u001b[43m \u001b[49m\u001b[38;5;124;43m\"\u001b[39;49m\u001b[38;5;124;43mvalues\u001b[39;49m\u001b[38;5;124;43m\"\u001b[39;49m\u001b[43m:\u001b[49m\n\u001b[0;32m   1597\u001b[0m \u001b[43m        \u001b[49m\u001b[43mlatest\u001b[49m\u001b[43m \u001b[49m\u001b[38;5;241;43m=\u001b[39;49m\u001b[43m \u001b[49m\u001b[43mchunk\u001b[49m\n",
      "File \u001b[1;32md:\\Users\\stephen\\anaconda3\\envs\\langgraph-course\\Lib\\site-packages\\langgraph\\pregel\\__init__.py:1315\u001b[0m, in \u001b[0;36mPregel.stream\u001b[1;34m(self, input, config, stream_mode, output_keys, interrupt_before, interrupt_after, debug, subgraphs)\u001b[0m\n\u001b[0;32m   1304\u001b[0m     \u001b[38;5;66;03m# Similarly to Bulk Synchronous Parallel / Pregel model\u001b[39;00m\n\u001b[0;32m   1305\u001b[0m     \u001b[38;5;66;03m# computation proceeds in steps, while there are channel updates\u001b[39;00m\n\u001b[0;32m   1306\u001b[0m     \u001b[38;5;66;03m# channel updates from step N are only visible in step N+1\u001b[39;00m\n\u001b[0;32m   1307\u001b[0m     \u001b[38;5;66;03m# channels are guaranteed to be immutable for the duration of the step,\u001b[39;00m\n\u001b[0;32m   1308\u001b[0m     \u001b[38;5;66;03m# with channel updates applied only at the transition between steps\u001b[39;00m\n\u001b[0;32m   1309\u001b[0m     \u001b[38;5;28;01mwhile\u001b[39;00m loop\u001b[38;5;241m.\u001b[39mtick(\n\u001b[0;32m   1310\u001b[0m         input_keys\u001b[38;5;241m=\u001b[39m\u001b[38;5;28mself\u001b[39m\u001b[38;5;241m.\u001b[39minput_channels,\n\u001b[0;32m   1311\u001b[0m         interrupt_before\u001b[38;5;241m=\u001b[39minterrupt_before_,\n\u001b[0;32m   1312\u001b[0m         interrupt_after\u001b[38;5;241m=\u001b[39minterrupt_after_,\n\u001b[0;32m   1313\u001b[0m         manager\u001b[38;5;241m=\u001b[39mrun_manager,\n\u001b[0;32m   1314\u001b[0m     ):\n\u001b[1;32m-> 1315\u001b[0m \u001b[43m        \u001b[49m\u001b[38;5;28;43;01mfor\u001b[39;49;00m\u001b[43m \u001b[49m\u001b[43m_\u001b[49m\u001b[43m \u001b[49m\u001b[38;5;129;43;01min\u001b[39;49;00m\u001b[43m \u001b[49m\u001b[43mrunner\u001b[49m\u001b[38;5;241;43m.\u001b[39;49m\u001b[43mtick\u001b[49m\u001b[43m(\u001b[49m\n\u001b[0;32m   1316\u001b[0m \u001b[43m            \u001b[49m\u001b[43mloop\u001b[49m\u001b[38;5;241;43m.\u001b[39;49m\u001b[43mtasks\u001b[49m\u001b[38;5;241;43m.\u001b[39;49m\u001b[43mvalues\u001b[49m\u001b[43m(\u001b[49m\u001b[43m)\u001b[49m\u001b[43m,\u001b[49m\n\u001b[0;32m   1317\u001b[0m \u001b[43m            \u001b[49m\u001b[43mtimeout\u001b[49m\u001b[38;5;241;43m=\u001b[39;49m\u001b[38;5;28;43mself\u001b[39;49m\u001b[38;5;241;43m.\u001b[39;49m\u001b[43mstep_timeout\u001b[49m\u001b[43m,\u001b[49m\n\u001b[0;32m   1318\u001b[0m \u001b[43m            \u001b[49m\u001b[43mretry_policy\u001b[49m\u001b[38;5;241;43m=\u001b[39;49m\u001b[38;5;28;43mself\u001b[39;49m\u001b[38;5;241;43m.\u001b[39;49m\u001b[43mretry_policy\u001b[49m\u001b[43m,\u001b[49m\n\u001b[0;32m   1319\u001b[0m \u001b[43m            \u001b[49m\u001b[43mget_waiter\u001b[49m\u001b[38;5;241;43m=\u001b[39;49m\u001b[43mget_waiter\u001b[49m\u001b[43m,\u001b[49m\n\u001b[0;32m   1320\u001b[0m \u001b[43m        \u001b[49m\u001b[43m)\u001b[49m\u001b[43m:\u001b[49m\n\u001b[0;32m   1321\u001b[0m \u001b[43m            \u001b[49m\u001b[38;5;66;43;03m# emit output\u001b[39;49;00m\n\u001b[0;32m   1322\u001b[0m \u001b[43m            \u001b[49m\u001b[38;5;28;43;01myield from\u001b[39;49;00m\u001b[43m \u001b[49m\u001b[43moutput\u001b[49m\u001b[43m(\u001b[49m\u001b[43m)\u001b[49m\n\u001b[0;32m   1323\u001b[0m \u001b[38;5;66;03m# emit output\u001b[39;00m\n",
      "File \u001b[1;32md:\\Users\\stephen\\anaconda3\\envs\\langgraph-course\\Lib\\site-packages\\langgraph\\pregel\\runner.py:56\u001b[0m, in \u001b[0;36mPregelRunner.tick\u001b[1;34m(self, tasks, reraise, timeout, retry_policy, get_waiter)\u001b[0m\n\u001b[0;32m     54\u001b[0m t \u001b[38;5;241m=\u001b[39m tasks[\u001b[38;5;241m0\u001b[39m]\n\u001b[0;32m     55\u001b[0m \u001b[38;5;28;01mtry\u001b[39;00m:\n\u001b[1;32m---> 56\u001b[0m     \u001b[43mrun_with_retry\u001b[49m\u001b[43m(\u001b[49m\u001b[43mt\u001b[49m\u001b[43m,\u001b[49m\u001b[43m \u001b[49m\u001b[43mretry_policy\u001b[49m\u001b[43m)\u001b[49m\n\u001b[0;32m     57\u001b[0m     \u001b[38;5;28mself\u001b[39m\u001b[38;5;241m.\u001b[39mcommit(t, \u001b[38;5;28;01mNone\u001b[39;00m)\n\u001b[0;32m     58\u001b[0m \u001b[38;5;28;01mexcept\u001b[39;00m \u001b[38;5;167;01mException\u001b[39;00m \u001b[38;5;28;01mas\u001b[39;00m exc:\n",
      "File \u001b[1;32md:\\Users\\stephen\\anaconda3\\envs\\langgraph-course\\Lib\\site-packages\\langgraph\\pregel\\retry.py:29\u001b[0m, in \u001b[0;36mrun_with_retry\u001b[1;34m(task, retry_policy)\u001b[0m\n\u001b[0;32m     27\u001b[0m task\u001b[38;5;241m.\u001b[39mwrites\u001b[38;5;241m.\u001b[39mclear()\n\u001b[0;32m     28\u001b[0m \u001b[38;5;66;03m# run the task\u001b[39;00m\n\u001b[1;32m---> 29\u001b[0m \u001b[43mtask\u001b[49m\u001b[38;5;241;43m.\u001b[39;49m\u001b[43mproc\u001b[49m\u001b[38;5;241;43m.\u001b[39;49m\u001b[43minvoke\u001b[49m\u001b[43m(\u001b[49m\u001b[43mtask\u001b[49m\u001b[38;5;241;43m.\u001b[39;49m\u001b[43minput\u001b[49m\u001b[43m,\u001b[49m\u001b[43m \u001b[49m\u001b[43mconfig\u001b[49m\u001b[43m)\u001b[49m\n\u001b[0;32m     30\u001b[0m \u001b[38;5;66;03m# if successful, end\u001b[39;00m\n\u001b[0;32m     31\u001b[0m \u001b[38;5;28;01mbreak\u001b[39;00m\n",
      "File \u001b[1;32md:\\Users\\stephen\\anaconda3\\envs\\langgraph-course\\Lib\\site-packages\\langgraph\\utils\\runnable.py:412\u001b[0m, in \u001b[0;36mRunnableSeq.invoke\u001b[1;34m(self, input, config, **kwargs)\u001b[0m\n\u001b[0;32m    410\u001b[0m             \u001b[38;5;28minput\u001b[39m \u001b[38;5;241m=\u001b[39m context\u001b[38;5;241m.\u001b[39mrun(step\u001b[38;5;241m.\u001b[39minvoke, \u001b[38;5;28minput\u001b[39m, config, \u001b[38;5;241m*\u001b[39m\u001b[38;5;241m*\u001b[39mkwargs)\n\u001b[0;32m    411\u001b[0m         \u001b[38;5;28;01melse\u001b[39;00m:\n\u001b[1;32m--> 412\u001b[0m             \u001b[38;5;28minput\u001b[39m \u001b[38;5;241m=\u001b[39m context\u001b[38;5;241m.\u001b[39mrun(step\u001b[38;5;241m.\u001b[39minvoke, \u001b[38;5;28minput\u001b[39m, config)\n\u001b[0;32m    413\u001b[0m \u001b[38;5;66;03m# finish the root run\u001b[39;00m\n\u001b[0;32m    414\u001b[0m \u001b[38;5;28;01mexcept\u001b[39;00m \u001b[38;5;167;01mBaseException\u001b[39;00m \u001b[38;5;28;01mas\u001b[39;00m e:\n",
      "File \u001b[1;32md:\\Users\\stephen\\anaconda3\\envs\\langgraph-course\\Lib\\site-packages\\langgraph\\utils\\runnable.py:184\u001b[0m, in \u001b[0;36mRunnableCallable.invoke\u001b[1;34m(self, input, config, **kwargs)\u001b[0m\n\u001b[0;32m    182\u001b[0m \u001b[38;5;28;01melse\u001b[39;00m:\n\u001b[0;32m    183\u001b[0m     context\u001b[38;5;241m.\u001b[39mrun(_set_config_context, config)\n\u001b[1;32m--> 184\u001b[0m     ret \u001b[38;5;241m=\u001b[39m \u001b[43mcontext\u001b[49m\u001b[38;5;241;43m.\u001b[39;49m\u001b[43mrun\u001b[49m\u001b[43m(\u001b[49m\u001b[38;5;28;43mself\u001b[39;49m\u001b[38;5;241;43m.\u001b[39;49m\u001b[43mfunc\u001b[49m\u001b[43m,\u001b[49m\u001b[43m \u001b[49m\u001b[38;5;28;43minput\u001b[39;49m\u001b[43m,\u001b[49m\u001b[43m \u001b[49m\u001b[38;5;241;43m*\u001b[39;49m\u001b[38;5;241;43m*\u001b[39;49m\u001b[43mkwargs\u001b[49m\u001b[43m)\u001b[49m\n\u001b[0;32m    185\u001b[0m \u001b[38;5;28;01mif\u001b[39;00m \u001b[38;5;28misinstance\u001b[39m(ret, Runnable) \u001b[38;5;129;01mand\u001b[39;00m \u001b[38;5;28mself\u001b[39m\u001b[38;5;241m.\u001b[39mrecurse:\n\u001b[0;32m    186\u001b[0m     \u001b[38;5;28;01mreturn\u001b[39;00m ret\u001b[38;5;241m.\u001b[39minvoke(\u001b[38;5;28minput\u001b[39m, config)\n",
      "File \u001b[1;32md:\\Users\\stephen\\anaconda3\\envs\\langgraph-course\\Lib\\site-packages\\langgraph\\graph\\graph.py:86\u001b[0m, in \u001b[0;36mBranch._route\u001b[1;34m(self, input, config, reader, writer)\u001b[0m\n\u001b[0;32m     75\u001b[0m \u001b[38;5;28;01mdef\u001b[39;00m \u001b[38;5;21m_route\u001b[39m(\n\u001b[0;32m     76\u001b[0m     \u001b[38;5;28mself\u001b[39m,\n\u001b[0;32m     77\u001b[0m     \u001b[38;5;28minput\u001b[39m: Any,\n\u001b[1;32m   (...)\u001b[0m\n\u001b[0;32m     83\u001b[0m     ],\n\u001b[0;32m     84\u001b[0m ) \u001b[38;5;241m-\u001b[39m\u001b[38;5;241m>\u001b[39m Runnable:\n\u001b[0;32m     85\u001b[0m     \u001b[38;5;28;01mif\u001b[39;00m reader:\n\u001b[1;32m---> 86\u001b[0m         value \u001b[38;5;241m=\u001b[39m \u001b[43mreader\u001b[49m\u001b[43m(\u001b[49m\u001b[43mconfig\u001b[49m\u001b[43m)\u001b[49m\n\u001b[0;32m     87\u001b[0m         \u001b[38;5;66;03m# passthrough additional keys from node to branch\u001b[39;00m\n\u001b[0;32m     88\u001b[0m         \u001b[38;5;66;03m# only doable when using dict states\u001b[39;00m\n\u001b[0;32m     89\u001b[0m         \u001b[38;5;28;01mif\u001b[39;00m \u001b[38;5;28misinstance\u001b[39m(value, \u001b[38;5;28mdict\u001b[39m) \u001b[38;5;129;01mand\u001b[39;00m \u001b[38;5;28misinstance\u001b[39m(\u001b[38;5;28minput\u001b[39m, \u001b[38;5;28mdict\u001b[39m):\n",
      "File \u001b[1;32md:\\Users\\stephen\\anaconda3\\envs\\langgraph-course\\Lib\\site-packages\\langgraph\\pregel\\read.py:105\u001b[0m, in \u001b[0;36mChannelRead.do_read\u001b[1;34m(config, select, fresh, mapper)\u001b[0m\n\u001b[0;32m    100\u001b[0m     \u001b[38;5;28;01mraise\u001b[39;00m \u001b[38;5;167;01mRuntimeError\u001b[39;00m(\n\u001b[0;32m    101\u001b[0m         \u001b[38;5;124m\"\u001b[39m\u001b[38;5;124mNot configured with a read function\u001b[39m\u001b[38;5;124m\"\u001b[39m\n\u001b[0;32m    102\u001b[0m         \u001b[38;5;124m\"\u001b[39m\u001b[38;5;124mMake sure to call in the context of a Pregel process\u001b[39m\u001b[38;5;124m\"\u001b[39m\n\u001b[0;32m    103\u001b[0m     )\n\u001b[0;32m    104\u001b[0m \u001b[38;5;28;01mif\u001b[39;00m mapper:\n\u001b[1;32m--> 105\u001b[0m     \u001b[38;5;28;01mreturn\u001b[39;00m \u001b[43mmapper\u001b[49m\u001b[43m(\u001b[49m\u001b[43mread\u001b[49m\u001b[43m(\u001b[49m\u001b[43mselect\u001b[49m\u001b[43m,\u001b[49m\u001b[43m \u001b[49m\u001b[43mfresh\u001b[49m\u001b[43m)\u001b[49m\u001b[43m)\u001b[49m\n\u001b[0;32m    106\u001b[0m \u001b[38;5;28;01melse\u001b[39;00m:\n\u001b[0;32m    107\u001b[0m     \u001b[38;5;28;01mreturn\u001b[39;00m read(select, fresh)\n",
      "File \u001b[1;32md:\\Users\\stephen\\anaconda3\\envs\\langgraph-course\\Lib\\site-packages\\langgraph\\graph\\state.py:708\u001b[0m, in \u001b[0;36m_coerce_state\u001b[1;34m(schema, input)\u001b[0m\n\u001b[0;32m    707\u001b[0m \u001b[38;5;28;01mdef\u001b[39;00m \u001b[38;5;21m_coerce_state\u001b[39m(schema: Type[Any], \u001b[38;5;28minput\u001b[39m: \u001b[38;5;28mdict\u001b[39m[\u001b[38;5;28mstr\u001b[39m, Any]) \u001b[38;5;241m-\u001b[39m\u001b[38;5;241m>\u001b[39m \u001b[38;5;28mdict\u001b[39m[\u001b[38;5;28mstr\u001b[39m, Any]:\n\u001b[1;32m--> 708\u001b[0m     \u001b[38;5;28;01mreturn\u001b[39;00m \u001b[43mschema\u001b[49m\u001b[43m(\u001b[49m\u001b[38;5;241;43m*\u001b[39;49m\u001b[38;5;241;43m*\u001b[39;49m\u001b[38;5;28;43minput\u001b[39;49m\u001b[43m)\u001b[49m\n",
      "File \u001b[1;32md:\\Users\\stephen\\anaconda3\\envs\\langgraph-course\\Lib\\site-packages\\pydantic\\main.py:212\u001b[0m, in \u001b[0;36mBaseModel.__init__\u001b[1;34m(self, **data)\u001b[0m\n\u001b[0;32m    210\u001b[0m \u001b[38;5;66;03m# `__tracebackhide__` tells pytest and some other tools to omit this function from tracebacks\u001b[39;00m\n\u001b[0;32m    211\u001b[0m __tracebackhide__ \u001b[38;5;241m=\u001b[39m \u001b[38;5;28;01mTrue\u001b[39;00m\n\u001b[1;32m--> 212\u001b[0m validated_self \u001b[38;5;241m=\u001b[39m \u001b[38;5;28;43mself\u001b[39;49m\u001b[38;5;241;43m.\u001b[39;49m\u001b[43m__pydantic_validator__\u001b[49m\u001b[38;5;241;43m.\u001b[39;49m\u001b[43mvalidate_python\u001b[49m\u001b[43m(\u001b[49m\u001b[43mdata\u001b[49m\u001b[43m,\u001b[49m\u001b[43m \u001b[49m\u001b[43mself_instance\u001b[49m\u001b[38;5;241;43m=\u001b[39;49m\u001b[38;5;28;43mself\u001b[39;49m\u001b[43m)\u001b[49m\n\u001b[0;32m    213\u001b[0m \u001b[38;5;28;01mif\u001b[39;00m \u001b[38;5;28mself\u001b[39m \u001b[38;5;129;01mis\u001b[39;00m \u001b[38;5;129;01mnot\u001b[39;00m validated_self:\n\u001b[0;32m    214\u001b[0m     warnings\u001b[38;5;241m.\u001b[39mwarn(\n\u001b[0;32m    215\u001b[0m         \u001b[38;5;124m'\u001b[39m\u001b[38;5;124mA custom validator is returning a value other than `self`.\u001b[39m\u001b[38;5;130;01m\\n\u001b[39;00m\u001b[38;5;124m'\u001b[39m\n\u001b[0;32m    216\u001b[0m         \u001b[38;5;124m\"\u001b[39m\u001b[38;5;124mReturning anything other than `self` from a top level model validator isn\u001b[39m\u001b[38;5;124m'\u001b[39m\u001b[38;5;124mt supported when validating via `__init__`.\u001b[39m\u001b[38;5;130;01m\\n\u001b[39;00m\u001b[38;5;124m\"\u001b[39m\n\u001b[0;32m    217\u001b[0m         \u001b[38;5;124m'\u001b[39m\u001b[38;5;124mSee the `model_validator` docs (https://docs.pydantic.dev/latest/concepts/validators/#model-validators) for more details.\u001b[39m\u001b[38;5;124m'\u001b[39m,\n\u001b[0;32m    218\u001b[0m         category\u001b[38;5;241m=\u001b[39m\u001b[38;5;28;01mNone\u001b[39;00m,\n\u001b[0;32m    219\u001b[0m     )\n",
      "\u001b[1;31mValidationError\u001b[0m: 1 validation error for StateWithError\nplaces\n  Input should be a valid list [type=list_type, input_value=<built-in method values o...t at 0x000001C4167D8600>, input_type=builtin_function_or_method]\n    For further information visit https://errors.pydantic.dev/2.9/v/list_type"
     ]
    }
   ],
   "source": [
    "res = node_graph.invoke({'topic': \"bird\"})"
   ]
  }
 ],
 "metadata": {
  "kernelspec": {
   "display_name": "langgraph-course",
   "language": "python",
   "name": "python3"
  },
  "language_info": {
   "codemirror_mode": {
    "name": "ipython",
    "version": 3
   },
   "file_extension": ".py",
   "mimetype": "text/x-python",
   "name": "python",
   "nbconvert_exporter": "python",
   "pygments_lexer": "ipython3",
   "version": "3.11.10"
  }
 },
 "nbformat": 4,
 "nbformat_minor": 2
}
