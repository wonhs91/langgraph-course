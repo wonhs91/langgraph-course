{
 "cells": [
  {
   "cell_type": "code",
   "execution_count": 27,
   "metadata": {},
   "outputs": [],
   "source": [
    "from langchain_ollama import ChatOllama\n",
    "from langchain_core.messages import SystemMessage, AIMessage, HumanMessage\n",
    "\n",
    "llm = ChatOllama(model='llama3.2')\n",
    "\n",
    "# from langchain_groq import ChatGroq\n",
    "# llm = ChatGroq(model=\"llama-3.2-90b-vision-preview\")\n",
    "# from langchain_openai import ChatOpenAI\n",
    "\n",
    "# llm = ChatOpenAI(model=\"gpt-3.5-turbo\")"
   ]
  },
  {
   "cell_type": "code",
   "execution_count": 39,
   "metadata": {},
   "outputs": [
    {
     "data": {
      "text/plain": [
       "\"To find out how much you initially invested out of your pocket, we need to subtract the idle money and last year's increased money from the total amount.\\n\\nIdle money: $122,387\\nLast year's increased money: $78,326\\nTotal amount in stocks: $364,200\\n\\nInitial investment = Total amount - Idle money - Last year's increased money\\n= $364,200 - $122,387 - $78,326\\n= $163,487\\n\\nSo, you initially invested $163,487 out of your pocket.\\n\\nTo find the percentage increase from your initial investment:\\n\\nLast year's increased money = $78,326\\nInitial investment = $163,487\\n\\nPercentage increase = (Last year's increased money / Initial investment) × 100\\n= ($78,326 / $163,487) × 100\\n≈ 47.9%\\n\\nSo, there was a 47.9% increase from your initial investment.\""
      ]
     },
     "execution_count": 39,
     "metadata": {},
     "output_type": "execute_result"
    }
   ],
   "source": [
    "sys_msg = \"\"\"\n",
    "\"\"\"\n",
    "\n",
    "req_msg = \"\"\"\n",
    "I have total of $364,200 in my stock account. \n",
    "From this amount, I have $122,387 as an idling money, and the remaining is invsted in the stocks. \n",
    "\n",
    "Now this invested money includes the last year's increased money which is $78,326.\n",
    "Then how much have I initially invested out of my pocket? \n",
    "And what's the percentage increase from my initial investment? \n",
    "\n",
    "Let's think step by step.\n",
    "\"\"\"\n",
    "\n",
    "prompts = [\n",
    "  SystemMessage(content=sys_msg),\n",
    "  HumanMessage(content=req_msg)\n",
    "]\n",
    "\n",
    "response = llm.invoke(prompts)\n",
    "response.content"
   ]
  },
  {
   "cell_type": "code",
   "execution_count": null,
   "metadata": {},
   "outputs": [],
   "source": []
  },
  {
   "cell_type": "code",
   "execution_count": null,
   "metadata": {},
   "outputs": [],
   "source": []
  },
  {
   "cell_type": "code",
   "execution_count": 18,
   "metadata": {},
   "outputs": [
    {
     "data": {
      "text/plain": [
       "AIMessage(content='Adding all the odd numbers (15, 5, 13, 7, 1) gives 41. The answer is False.', additional_kwargs={'refusal': None}, response_metadata={'token_usage': {'completion_tokens': 29, 'prompt_tokens': 283, 'total_tokens': 312, 'completion_tokens_details': {'audio_tokens': None, 'reasoning_tokens': 0}, 'prompt_tokens_details': {'audio_tokens': None, 'cached_tokens': 0}}, 'model_name': 'gpt-3.5-turbo-0125', 'system_fingerprint': None, 'finish_reason': 'stop', 'logprobs': None}, id='run-e98c271c-402d-4342-b8de-5b534b4b97ba-0', usage_metadata={'input_tokens': 283, 'output_tokens': 29, 'total_tokens': 312, 'input_token_details': {'cache_read': 0}, 'output_token_details': {'reasoning': 0}})"
      ]
     },
     "execution_count": 18,
     "metadata": {},
     "output_type": "execute_result"
    }
   ],
   "source": [
    "response"
   ]
  }
 ],
 "metadata": {
  "kernelspec": {
   "display_name": "langgraph-course",
   "language": "python",
   "name": "python3"
  },
  "language_info": {
   "codemirror_mode": {
    "name": "ipython",
    "version": 3
   },
   "file_extension": ".py",
   "mimetype": "text/x-python",
   "name": "python",
   "nbconvert_exporter": "python",
   "pygments_lexer": "ipython3",
   "version": "3.11.10"
  }
 },
 "nbformat": 4,
 "nbformat_minor": 2
}
