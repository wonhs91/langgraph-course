{
 "cells": [
  {
   "cell_type": "code",
   "execution_count": 3,
   "metadata": {},
   "outputs": [],
   "source": [
    "from IPython.display import display, Image"
   ]
  },
  {
   "cell_type": "code",
   "execution_count": 4,
   "metadata": {},
   "outputs": [],
   "source": [
    "from langchain_ollama import ChatOllama\n",
    "\n",
    "\n",
    "llm = ChatOllama(model='llama3.2', top_k=0, temperature=0.1)"
   ]
  },
  {
   "cell_type": "code",
   "execution_count": 5,
   "metadata": {},
   "outputs": [
    {
     "data": {
      "text/plain": [
       "'...blue. (Or sometimes it can be gray, cloudy, sunny, or a variety of other colors depending on the time of day and atmospheric conditions!) Would you like to complete the sentence?'"
      ]
     },
     "execution_count": 5,
     "metadata": {},
     "output_type": "execute_result"
    }
   ],
   "source": [
    "from langchain_core.messages import HumanMessage, AIMessage, SystemMessage\n",
    "from langchain_core.prompts import PromptTemplate\n",
    "\n",
    "# simple prompt \n",
    "simple_msg = \"\"\"\n",
    "The sky is\n",
    "\"\"\"\n",
    "\n",
    "response = llm.invoke([HumanMessage(content=simple_msg)])\n",
    "response.content\n"
   ]
  },
  {
   "cell_type": "code",
   "execution_count": 6,
   "metadata": {},
   "outputs": [
    {
     "data": {
      "text/plain": [
       "'...blue.'"
      ]
     },
     "execution_count": 6,
     "metadata": {},
     "output_type": "execute_result"
    }
   ],
   "source": [
    "# Instruction prompt \n",
    "simple_msg = \"\"\"\n",
    "Complete the sentence:\n",
    "The sky is\n",
    "\"\"\"\n",
    "\n",
    "response = llm.invoke([HumanMessage(content=simple_msg)])\n",
    "response.content\n"
   ]
  },
  {
   "cell_type": "code",
   "execution_count": 7,
   "metadata": {},
   "outputs": [
    {
     "data": {
      "text/plain": [
       "'Sentiment: Negative'"
      ]
     },
     "execution_count": 7,
     "metadata": {},
     "output_type": "execute_result"
    }
   ],
   "source": [
    "# Instruction prompt\n",
    "sys_msg = \"\"\"\n",
    "Find the user's sentiment (Postive, Negative, Neutral) from the user's input message:\n",
    "\n",
    "Desired format:\n",
    "Sentiment: \n",
    "\n",
    "\"\"\"\n",
    "\n",
    "request = \"Why isn't my backache going away?\"\n",
    "\n",
    "\n",
    "\n",
    "prompts = [\n",
    "  SystemMessage(sys_msg),\n",
    "  HumanMessage(request)\n",
    "]\n",
    "\n",
    "response = llm.invoke(prompts)\n",
    "response.content\n"
   ]
  },
  {
   "cell_type": "code",
   "execution_count": 8,
   "metadata": {},
   "outputs": [
    {
     "data": {
      "text/plain": [
       "'[Memorial Monument, Atlanta, Jeju Island]'"
      ]
     },
     "execution_count": 8,
     "metadata": {},
     "output_type": "execute_result"
    }
   ],
   "source": [
    "# Instruction prompt\n",
    "sys_msg = \"\"\"\n",
    "Extract the name of places in the following text. \n",
    "\n",
    "Place: comma separated list of places wrapped by square bracket\n",
    "\"\"\"\n",
    "\n",
    "request = \"I went to memorial monument this morning, then flew to Atlanta to play some casino. Now I am planning to fly to Jeju Island next week\"\n",
    "\n",
    "\n",
    "\n",
    "prompts = [\n",
    "  SystemMessage(sys_msg),\n",
    "  HumanMessage(request)\n",
    "]\n",
    "\n",
    "response = llm.invoke(prompts)\n",
    "response.content\n"
   ]
  },
  {
   "cell_type": "code",
   "execution_count": 9,
   "metadata": {},
   "outputs": [
    {
     "data": {
      "text/plain": [
       "'Place: Lisbon'"
      ]
     },
     "execution_count": 9,
     "metadata": {},
     "output_type": "execute_result"
    }
   ],
   "source": [
    "one_prompt = \"\"\"\n",
    "Extract the name of places in the following text. \n",
    "\n",
    "Desired format:\n",
    "Place: <comma_separated_list_of_places>\n",
    "\n",
    "Input: \"Although these developments are encouraging to researchers, much is still a mystery. “We often have a black box between the brain and the effect we see in the periphery,” says Henrique Veiga-Fernandes, a neuroimmunologist at the Champalimaud Centre for the Unknown in Lisbon. “If we want to use it in the therapeutic context, we actually need to understand the mechanism.“\"\n",
    "\"\"\"\n",
    "\n",
    "response = llm.invoke(one_prompt)\n",
    "response.content"
   ]
  },
  {
   "cell_type": "code",
   "execution_count": 10,
   "metadata": {},
   "outputs": [
    {
     "data": {
      "text/plain": [
       "\"Prompt engineering is the process of designing and optimizing text prompts to elicit specific responses from language models or other AI systems. It involves crafting carefully worded inputs that guide the model's output and achieve desired results. The goal is to maximize the accuracy, relevance, and coherence of the generated content while minimizing errors or unwanted outputs.\""
      ]
     },
     "execution_count": 10,
     "metadata": {},
     "output_type": "execute_result"
    }
   ],
   "source": [
    "# Bad imprecise prompt\n",
    "sys_msg = \"\"\"\n",
    "You are a helpful assistant\n",
    "\"\"\"\n",
    "\n",
    "request = \"\"\"\n",
    "Explain the concept of prompt engineering. Keep the explanation short, only a few sentences, and don't be too descriptive.\n",
    "\"\"\"\n",
    "\n",
    "\n",
    "\n",
    "prompts = [\n",
    "  SystemMessage(sys_msg),\n",
    "  HumanMessage(request)\n",
    "]\n",
    "\n",
    "response = llm.invoke(prompts)\n",
    "response.content\n"
   ]
  },
  {
   "cell_type": "code",
   "execution_count": 11,
   "metadata": {},
   "outputs": [
    {
     "data": {
      "text/plain": [
       "'Prompt engineering is the process of designing and optimizing text inputs, called prompts, that help artificial intelligence (AI) models like language generators or chatbots understand what you want them to do. By carefully crafting these prompts, you can influence the output of AI models and get more accurate or relevant results. Think of it like writing a clear and concise instruction for a robot - you need to give it exactly the right \"recipe\" to produce the desired outcome!'"
      ]
     },
     "execution_count": 11,
     "metadata": {},
     "output_type": "execute_result"
    }
   ],
   "source": [
    "sys_msg = \"\"\"\n",
    "You are a helpful assistant\n",
    "\"\"\"\n",
    "\n",
    "# Bad imprecise prompt\n",
    "request = \"\"\"\n",
    "Explain the concept of prompt engineering. Keep the explanation short, only a few sentences, and don't be too descriptive.\n",
    "\"\"\"\n",
    "\n",
    "# Better\n",
    "request = \"\"\"\n",
    "Use 2-3 sentences to explain the concept of prompt engineering to a high school student.\n",
    "\"\"\"\n",
    "\n",
    "\n",
    "\n",
    "prompts = [\n",
    "  SystemMessage(sys_msg),\n",
    "  HumanMessage(request)\n",
    "]\n",
    "\n",
    "response = llm.invoke(prompts)\n",
    "response.content\n"
   ]
  },
  {
   "cell_type": "code",
   "execution_count": 12,
   "metadata": {},
   "outputs": [
    {
     "data": {
      "text/plain": [
       "'I\\'m happy to help you with some movie recommendations! However, I don\\'t need any information about your personal preferences or interests. Instead, I can suggest some popular and highly-rated movies that are currently trending globally.\\n\\nHere\\'s a recommendation:\\n\\n\"Top Gun: Maverick\"\\n\\nThis action-packed thriller has been making waves worldwide, and audiences have loved it. It\\'s an exciting ride with stunning aerial sequences, memorable characters, and a gripping storyline.\\n\\nWould you like to know more about this movie or would you like me to suggest another one?'"
      ]
     },
     "execution_count": 12,
     "metadata": {},
     "output_type": "execute_result"
    }
   ],
   "source": [
    "\n",
    "# Don't add \"Nots\"\n",
    "sys_msg = \"\"\"\n",
    "The following is an agent that recommends movies to a customer. \n",
    "DO NOT ASK FOR INTERESTS. \n",
    "DO NOT ASK FOR PERSONAL INFORMATION.\n",
    "\"\"\"\n",
    "\n",
    "# Better\n",
    "sys_msg = \"\"\"\n",
    "The following is an agent that recommends movies to a customer. \n",
    "The agent is responsible to recommend a movie from the top global trending movies. \n",
    "It should refrain from asking users for their preferences and avoid asking for personal information. \n",
    "If the agent doesn't have a movie to recommend, it should respond \"Sorry, couldn't find a movie to recommend \n",
    "\"\"\"\n",
    "\n",
    "request = \"\"\"\n",
    "Customer: Please recommend a movie based on my interests.\n",
    " \n",
    "Agent:\n",
    "\"\"\"\n",
    "\n",
    "\n",
    "\n",
    "\n",
    "prompts = [\n",
    "  SystemMessage(sys_msg),\n",
    "  HumanMessage(request)\n",
    "]\n",
    "\n",
    "response = llm.invoke(prompts)\n",
    "response.content\n"
   ]
  },
  {
   "cell_type": "code",
   "execution_count": 16,
   "metadata": {},
   "outputs": [
    {
     "data": {
      "text/plain": [
       "\"Antibiotics are a type of medicine that helps fight bacterial infections. They work by either killing or inhibiting the growth of bacteria, thereby helping to restore balance to the body's ecosystem.\\n\\nHere's how antibiotics work:\\n\\n1. **Targeting bacterial cells**: Antibiotics target specific parts of bacterial cells, such as the cell wall, DNA, or proteins.\\n2. **Killing or inhibiting bacteria**: By targeting these areas, antibiotics either kill the bacteria directly or prevent them from reproducing and growing.\\n3. **Restoring balance**: As the bacteria are eliminated, the body's natural defenses can take over to fight off any remaining infections.\\n\\nTypes of Antibiotics:\\n\\n1. **Beta-lactam antibiotics** (e.g., penicillin, amoxicillin): These work by inhibiting cell wall synthesis in bacteria.\\n2. **Macrolide antibiotics** (e.g., erythromycin, azithromycin): These bind to bacterial ribosomes and prevent protein synthesis.\\n3. **Fluoroquinolone antibiotics** (e.g., ciprofloxacin, levofloxacin): These inhibit DNA replication in bacteria.\\n4. **Tetracycline antibiotics** (e.g., doxycycline, minocycline): These bind to bacterial ribosomes and prevent protein synthesis.\\n\\nCommon Uses of Antibiotics:\\n\\n1. **Treating bacterial infections**: Such as pneumonia, urinary tract infections, skin infections, and respiratory tract infections.\\n2. **Preventing infections**: In people with weakened immune systems, such as those with HIV/AIDS or undergoing chemotherapy.\\n3. **Reducing the risk of complications**: From bacterial infections in certain medical procedures, such as surgery.\\n\\nImportant Notes:\\n\\n1. **Antibiotics are not effective against viral infections**, such as the common cold or flu.\\n2. **Overuse and misuse can lead to antibiotic resistance**, making antibiotics less effective over time.\\n3. **Always follow a doctor's instructions** when taking antibiotics, and complete the full course of treatment even if symptoms improve before finishing.\\n\\nI hope this explanation helps you understand antibiotics better!\""
      ]
     },
     "execution_count": 16,
     "metadata": {},
     "output_type": "execute_result"
    }
   ],
   "source": [
    "\n",
    "\n",
    "sys_msg = \"\"\"\n",
    "You are a helpful assistant\n",
    "\"\"\"\n",
    "# Leading A:\n",
    "\n",
    "request = \"\"\"\n",
    "Explain antibiotics\n",
    "\"\"\"\n",
    "\n",
    "\n",
    "\n",
    "\n",
    "prompts = [\n",
    "  SystemMessage(sys_msg),\n",
    "  HumanMessage(request)\n",
    "]\n",
    "\n",
    "atibiotics_response = llm.invoke(prompts)\n",
    "atibiotics_response.content\n"
   ]
  },
  {
   "cell_type": "code",
   "execution_count": 17,
   "metadata": {},
   "outputs": [
    {
     "data": {
      "text/plain": [
       "'The risks of antibiotics mentioned in the text are:\\n\\n1. Overuse and misuse can lead to antibiotic resistance.\\n2. Antibiotics are not effective against viral infections, such as the common cold or flu.\\n\\nAdditionally, there is a note that if symptoms improve before finishing the full course of treatment, it may indicate incomplete treatment, but this is not explicitly listed as a risk.'"
      ]
     },
     "execution_count": 17,
     "metadata": {},
     "output_type": "execute_result"
    }
   ],
   "source": [
    "request = f\"\"\"\n",
    "{atibiotics_response.content}\n",
    "\n",
    "Extract the risks of antibiotics from the above information\n",
    "\"\"\"\n",
    "\n",
    "summary = llm.invoke(request)\n",
    "summary.content"
   ]
  },
  {
   "cell_type": "code",
   "execution_count": 18,
   "metadata": {},
   "outputs": [
    {
     "data": {
      "text/plain": [
       "'Mice.'"
      ]
     },
     "execution_count": 18,
     "metadata": {},
     "output_type": "execute_result"
    }
   ],
   "source": [
    "\n",
    "\n",
    "sys_msg = \"\"\"\n",
    "Answer the question based on the context below. Keep the answer short and concise. Respond \"Unsure about answer\" if not sure about the answer.\n",
    "\n",
    "Context: Teplizumab traces its roots to a New Jersey drug company called Ortho Pharmaceutical. \n",
    "There, scientists generated an early version of the antibody, dubbed OKT3. Originally sourced from mice, the molecule was able to bind to the surface of T cells and limit their cell-killing potential. \n",
    "In 1986, it was approved to help prevent organ rejection after kidney transplants, making it the first therapeutic antibody allowed for human use.\n",
    "\n",
    "\"\"\"\n",
    "\n",
    "request = \"\"\"\n",
    "What was OKT3 originally sourced from?\n",
    "\"\"\"\n",
    "\n",
    "\n",
    "\n",
    "\n",
    "prompts = [\n",
    "  SystemMessage(sys_msg),\n",
    "  HumanMessage(request)\n",
    "]\n",
    "\n",
    "response = llm.invoke(prompts)\n",
    "response.content\n"
   ]
  },
  {
   "cell_type": "code",
   "execution_count": 31,
   "metadata": {},
   "outputs": [
    {
     "data": {
      "text/plain": [
       "'Sentiment: neutral'"
      ]
     },
     "execution_count": 31,
     "metadata": {},
     "output_type": "execute_result"
    }
   ],
   "source": [
    "\n",
    "# Using system message for instruction is always more accurate and consistent\n",
    "sys_msg = \"\"\"\n",
    "Classify the text into nutral, negative or positive. \n",
    "\n",
    "Text: I think the vacation is okay.\n",
    "Sentiment: nutral \n",
    "Text: I this he was not bad.\n",
    "Sentiment: nutral\n",
    "Text: I hate you \n",
    "Sentiment: negative\n",
    "\"\"\"\n",
    "\n",
    "request = \"\"\"\n",
    "Text: hmm sure\n",
    "Sentiment:\n",
    "\"\"\"\n",
    "\n",
    "\n",
    "\n",
    "\n",
    "prompts = [\n",
    "  SystemMessage(sys_msg),\n",
    "  HumanMessage(request)\n",
    "]\n",
    "\n",
    "response = llm.invoke(prompts)\n",
    "response.content\n"
   ]
  },
  {
   "cell_type": "code",
   "execution_count": 34,
   "metadata": {},
   "outputs": [
    {
     "data": {
      "text/plain": [
       "\"Black holes are really cool and mysterious objects in space.\\n\\nA long time ago, scientists thought that stars were like big balls of fire that burned out after a while. But then they discovered something amazing! When a star dies, it can sometimes collapse under its own gravity, which is like a strong pull that pulls everything towards it.\\n\\nIf the star is massive enough, its gravity becomes so strong that not even light can escape once it gets too close to the star. This creates a kind of vacuum in space where nothing can enter or leave. That's what we call a black hole!\\n\\nImagine you're playing with a super-strong magnet, and you put it near some paper clips. The magnet will pull the paper clips towards it, right? Well, a black hole is like an incredibly strong magnet that pulls everything towards it, including stars, planets, and even spaceships.\\n\\nBut don't worry, black holes are really far away from us, so we're safe! They're actually really interesting to learn about, and scientists are still trying to figure out lots of things about them.\""
      ]
     },
     "execution_count": 34,
     "metadata": {},
     "output_type": "execute_result"
    }
   ],
   "source": [
    "\n",
    "# Role prompting\n",
    "sys_msg = \"\"\"\n",
    "The following is a conversation with an AI research assistant. The assistant answers should be easy to understand even by primary school students.\"\"\"\n",
    "\n",
    "request = \"\"\"\n",
    "Human: Hello, who are you?\n",
    "AI: Greeting! I am an AI research assistant. How can I help you today?\n",
    "Human: Can you tell me about the creation of black holes?\n",
    "AI: \n",
    "\"\"\"\n",
    "\n",
    "\n",
    "\n",
    "\n",
    "prompts = [\n",
    "  SystemMessage(sys_msg),\n",
    "  HumanMessage(request)\n",
    "]\n",
    "\n",
    "response = llm.invoke(prompts)\n",
    "response.content\n"
   ]
  },
  {
   "cell_type": "code",
   "execution_count": 35,
   "metadata": {},
   "outputs": [
    {
     "data": {
      "text/plain": [
       "'Black holes are really cool and mysterious objects in space.\\n\\nA long time ago, when a huge star died, it collapsed under its own gravity. This made a huge amount of matter get squished into an incredibly small point called a singularity. The gravity was so strong that nothing, not even light, could escape once it got too close to the singularity.\\n\\nImagine you have a super-powerful vacuum cleaner that sucks up everything around it, including air and toys. That\\'s kind of like what happens with black holes!\\n\\nThe word \"black hole\" was actually first used by a scientist named John Wheeler in 1964. He wanted to describe this strange phenomenon in space.\\n\\nBut don\\'t worry, black holes are really far away from us, so we\\'re safe! They\\'re also really interesting to learn about and study because they can teach us more about the universe and how it works.\\n\\nWould you like to know more about black holes?'"
      ]
     },
     "execution_count": 35,
     "metadata": {},
     "output_type": "execute_result"
    }
   ],
   "source": [
    "\n",
    "# Role prompting\n",
    "sys_msg = \"\"\"\n",
    "The following is a conversation with an AI research assistant. The assistant answers should be easy to understand even by primary school students.\"\"\"\n",
    "\n",
    "prompts = [\n",
    "  SystemMessage(sys_msg),\n",
    "  HumanMessage(content=\"Hello, who are you?\"),\n",
    "  AIMessage(content=\"Greeting! I am an AI research assistant. How can I help you today?\"),\n",
    "  HumanMessage(content=\"Can you tell me about the creation of blackholes?\")\n",
    "]\n",
    "\n",
    "response = llm.invoke(prompts)\n",
    "response.content\n"
   ]
  }
 ],
 "metadata": {
  "kernelspec": {
   "display_name": "langgraph-course",
   "language": "python",
   "name": "python3"
  },
  "language_info": {
   "codemirror_mode": {
    "name": "ipython",
    "version": 3
   },
   "file_extension": ".py",
   "mimetype": "text/x-python",
   "name": "python",
   "nbconvert_exporter": "python",
   "pygments_lexer": "ipython3",
   "version": "3.11.10"
  }
 },
 "nbformat": 4,
 "nbformat_minor": 2
}
