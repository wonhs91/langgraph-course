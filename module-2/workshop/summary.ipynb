{
 "cells": [
  {
   "cell_type": "code",
   "execution_count": 75,
   "metadata": {},
   "outputs": [
    {
     "data": {
      "text/plain": [
       "True"
      ]
     },
     "execution_count": 75,
     "metadata": {},
     "output_type": "execute_result"
    }
   ],
   "source": [
    "from dotenv import load_dotenv\n",
    "\n",
    "load_dotenv()"
   ]
  },
  {
   "cell_type": "code",
   "execution_count": 76,
   "metadata": {},
   "outputs": [],
   "source": [
    "from langchain_ollama import ChatOllama\n",
    "\n",
    "\n",
    "llm = ChatOllama(model=\"llama3.2\")"
   ]
  },
  {
   "cell_type": "code",
   "execution_count": 77,
   "metadata": {},
   "outputs": [],
   "source": [
    "# State\n",
    "from langgraph.graph import MessagesState\n",
    "\n",
    "class State(MessagesState):\n",
    "  summary: str\n",
    "  "
   ]
  },
  {
   "cell_type": "code",
   "execution_count": 78,
   "metadata": {},
   "outputs": [],
   "source": [
    "# Node\n",
    "from langchain_core.messages import SystemMessage, RemoveMessage, HumanMessage\n",
    "\n",
    "def conversation_llm(state):\n",
    "  if state.get('summary'):\n",
    "    sys_msg = f\"The previous conversation summary: {state['summary']}\"\n",
    "    conv_messages = [SystemMessage(content=sys_msg)] + state['messages']\n",
    "  else:\n",
    "    conv_messages = state['messages']\n",
    "    \n",
    "  res = llm.invoke(conv_messages)\n",
    "  print(res)\n",
    "  \n",
    "  return {\n",
    "    \"messages\": res\n",
    "  }\n",
    "  \n",
    "def summary_llm(state):\n",
    "  summary = state.get(\"summary\", \"\")\n",
    "  if summary:\n",
    "    summary_message = (\n",
    "      f\"This is summary of the conversation to date: {summary}\\n\\n\"\n",
    "      \"Extend the summary by taking into account the new messages above\"\n",
    "    )\n",
    "  else:\n",
    "    summary_message = \"Create a summary of the conversation above:\"\n",
    "  \n",
    "  messages = state['messages'] + [HumanMessage(content=summary_message)]\n",
    "  summary = llm.invoke(messages)\n",
    "  \n",
    "  return {\n",
    "    \"messages\": [RemoveMessage(id=m.id) for m in state['messages'][:-2]],\n",
    "    'summary': summary.content\n",
    "  }"
   ]
  },
  {
   "cell_type": "code",
   "execution_count": 79,
   "metadata": {},
   "outputs": [],
   "source": [
    "# edge\n",
    "from typing import Literal\n",
    "\n",
    "def summarize_conditional(state) -> Literal[\"__end__\", \"summary_llm\"]:\n",
    "  if len(state['messages']) > 5:\n",
    "    return \"summary_llm\"\n",
    "  else:\n",
    "    return \"__end__\""
   ]
  },
  {
   "cell_type": "code",
   "execution_count": 80,
   "metadata": {},
   "outputs": [
    {
     "data": {
      "image/jpeg": "[encoded data removed]",
      "text/plain": [
       "<IPython.core.display.Image object>"
      ]
     },
     "metadata": {},
     "output_type": "display_data"
    }
   ],
   "source": [
    "from langgraph.graph import StateGraph, START, END\n",
    "from langgraph.checkpoint.memory import MemorySaver\n",
    "\n",
    "builder = StateGraph(State)\n",
    "builder.add_node(\"conversation_llm\", conversation_llm)\n",
    "builder.add_node(\"summary_llm\", summary_llm)\n",
    "\n",
    "builder.add_edge(START, \"conversation_llm\")\n",
    "builder.add_conditional_edges(\"conversation_llm\", summarize_conditional)\n",
    "builder.add_edge(\"summary_llm\", END)\n",
    "\n",
    "memory = MemorySaver()\n",
    "graph = builder.compile(checkpointer=memory)\n",
    "\n",
    "from IPython.display import display, Image\n",
    "display(Image(graph.get_graph().draw_mermaid_png()))\n"
   ]
  },
  {
   "cell_type": "code",
   "execution_count": 89,
   "metadata": {},
   "outputs": [
    {
     "name": "stdout",
     "output_type": "stream",
     "text": [
      "content=\"Let's talk about integrating LangGraph with external tools.\\n\\nAs I mentioned earlier, LangGraph is a pre-trained language model specifically designed for processing and analyzing financial data. To integrate it with external tools like Quicken or Personal Capital, you'll need to use APIs (Application Programming Interfaces) or web scraping techniques.\\n\\nHere are some possible approaches:\\n\\n1. **API Integration**: Many financial services provide APIs that allow developers to access their data programmatically. For example, Quicken has an API that allows developers to retrieve user data and transaction information. You can integrate LangGraph with these APIs using standard HTTP requests.\\n2. **Web Scraping**: Web scraping involves extracting data from websites using automated tools. While not recommended by Quicken or Personal Capital (as it's against their terms of service), you can use web scraping techniques to extract financial data from public websites, such as news articles or forums.\\n\\nHowever, before we proceed, I have a question for you:\\n\\n**What's your goal with LangGraph?**\\n\\nDo you want to:\\nA) Analyze user transactions and generate budget recommendations\\nB) Provide customer support by answering financial questions\\nC) Automate data entry or bookkeeping tasks\\nD) Something else?\\n\\nPlease let me know, and I'll help you tailor our discussion to address your specific needs!\" additional_kwargs={} response_metadata={'model': 'llama3.2', 'created_at': '2024-10-21T18:50:23.0864425Z', 'message': {'role': 'assistant', 'content': ''}, 'done_reason': 'stop', 'done': True, 'total_duration': 5795678700, 'load_duration': 35456300, 'prompt_eval_count': 558, 'prompt_eval_duration': 90538000, 'eval_count': 264, 'eval_duration': 5654780000} id='run-64376299-9f7e-4226-8525-c11a40de187a-0' usage_metadata={'input_tokens': 558, 'output_tokens': 264, 'total_tokens': 822}\n"
     ]
    },
    {
     "data": {
      "text/plain": [
       "{'messages': [HumanMessage(content=\"yes let's do that\", additional_kwargs={}, response_metadata={}, id='11dbf3a8-4005-4442-ba14-2330fd0aa12d'),\n",
       "  AIMessage(content=\"Let's talk about integrating LangGraph with external tools.\\n\\nAs I mentioned earlier, LangGraph is a pre-trained language model specifically designed for processing and analyzing financial data. To integrate it with external tools like Quicken or Personal Capital, you'll need to use APIs (Application Programming Interfaces) or web scraping techniques.\\n\\nHere are some possible approaches:\\n\\n1. **API Integration**: Many financial services provide APIs that allow developers to access their data programmatically. For example, Quicken has an API that allows developers to retrieve user data and transaction information. You can integrate LangGraph with these APIs using standard HTTP requests.\\n2. **Web Scraping**: Web scraping involves extracting data from websites using automated tools. While not recommended by Quicken or Personal Capital (as it's against their terms of service), you can use web scraping techniques to extract financial data from public websites, such as news articles or forums.\\n\\nHowever, before we proceed, I have a question for you:\\n\\n**What's your goal with LangGraph?**\\n\\nDo you want to:\\nA) Analyze user transactions and generate budget recommendations\\nB) Provide customer support by answering financial questions\\nC) Automate data entry or bookkeeping tasks\\nD) Something else?\\n\\nPlease let me know, and I'll help you tailor our discussion to address your specific needs!\", additional_kwargs={}, response_metadata={'model': 'llama3.2', 'created_at': '2024-10-21T18:50:23.0864425Z', 'message': {'role': 'assistant', 'content': ''}, 'done_reason': 'stop', 'done': True, 'total_duration': 5795678700, 'load_duration': 35456300, 'prompt_eval_count': 558, 'prompt_eval_duration': 90538000, 'eval_count': 264, 'eval_duration': 5654780000}, id='run-64376299-9f7e-4226-8525-c11a40de187a-0', usage_metadata={'input_tokens': 558, 'output_tokens': 264, 'total_tokens': 822})],\n",
       " 'summary': \"Here is the extended summary:\\n\\n* We discussed building a budgeting AI agent to help users manage their finances.\\n* You asked which components of the project you'd like to tackle first (data collection, algorithm selection, data preprocessing, goal setting, or user interface).\\n* I mentioned that you already know some programming and wanted to dive into designing an AI agent for budgeting.\\n* I suggested using a pre-trained Language Model (LLM) as an agent that calls different tools, rather than training the model itself.\\n* We discussed some examples of pre-trained LLMs that can be used for financial decision-making, such as Google's Longformer and Hugging Face's Multitask Learning Models.\\n* I recommended integrating the LLM with external tools, using APIs or web scraping to interact with systems like Quicken or Personal Capital.\\n* You expressed interest in using LangGraph, a pre-trained language model specifically designed for processing and analyzing financial data.\\n* I highlighted the benefits of using LangGraph, including its domain-specific knowledge and pre-training on financial data.\\n* We discussed how to integrate LangGraph with external tools, such as API integration and web scraping.\\n* You asked me about your name, but we hadn't established it previously. I mentioned that you can share your name if you'd like. You then shared your name is Stephen!\\n* You expressed continued interest in using LangGraph for the budgeting AI agent project, specifically exploring how to integrate it with external tools and APIs.\\n* I will continue to assist Stephen (your name) in moving forward with the project by asking follow-up questions and clarifying any topics we discussed.\\n\\nSome next steps could be:\\n\\n1. **Data Collection**: We need to gather financial data for LangGraph's training, such as user transactions or budget information.\\n2. **Integration**: We can discuss how to integrate LangGraph with external tools like Quicken or Personal Capital, using APIs or web scraping techniques.\\n3. **Algorithm Selection**: We should explore algorithms that can be used in conjunction with LangGraph, such as reinforcement learning or decision trees.\\n\\nLet me know which area you'd like to focus on next!\"}"
      ]
     },
     "execution_count": 89,
     "metadata": {},
     "output_type": "execute_result"
    }
   ],
   "source": [
    "from langchain_core.messages import HumanMessage, AIMessage\n",
    "\n",
    "config = {\n",
    "  \"configurable\": {\"thread_id\": 1}\n",
    "}\n",
    "\n",
    "msg = \"yes let's do that\"\n",
    "state = {\n",
    "  \"messages\": [\n",
    "    HumanMessage(content=msg)\n",
    "    ]\n",
    "}\n",
    "\n",
    "graph.invoke(state, config)"
   ]
  }
 ],
 "metadata": {
  "kernelspec": {
   "display_name": "langgraph-course",
   "language": "python",
   "name": "python3"
  },
  "language_info": {
   "codemirror_mode": {
    "name": "ipython",
    "version": 3
   },
   "file_extension": ".py",
   "mimetype": "text/x-python",
   "name": "python",
   "nbconvert_exporter": "python",
   "pygments_lexer": "ipython3",
   "version": "3.11.10"
  }
 },
 "nbformat": 4,
 "nbformat_minor": 2
}
