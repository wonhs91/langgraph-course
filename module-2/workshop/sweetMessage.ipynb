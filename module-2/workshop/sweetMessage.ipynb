{
 "cells": [
  {
   "cell_type": "code",
   "execution_count": 53,
   "metadata": {},
   "outputs": [
    {
     "data": {
      "text/plain": [
       "True"
      ]
     },
     "execution_count": 53,
     "metadata": {},
     "output_type": "execute_result"
    }
   ],
   "source": [
    "from dotenv import load_dotenv\n",
    "\n",
    "load_dotenv()"
   ]
  },
  {
   "cell_type": "code",
   "execution_count": 54,
   "metadata": {},
   "outputs": [],
   "source": [
    "import os\n",
    "\n",
    "# update environment variable LANGCHAIN_PROJECT\n",
    "os.environ[\"LANGCHAIN_PROJECT\"] = \"langchain-academy-workshop\""
   ]
  },
  {
   "cell_type": "code",
   "execution_count": 55,
   "metadata": {},
   "outputs": [],
   "source": [
    "# from langchain_ollama import ChatOllama\n",
    "\n",
    "# llm = ChatOllama(model=\"llama3.2\")\n",
    "\n",
    "from langchain_groq import ChatGroq\n",
    "llm = ChatGroq(model=\"llama-3.2-90b-vision-preview\")\n"
   ]
  },
  {
   "cell_type": "code",
   "execution_count": 56,
   "metadata": {},
   "outputs": [],
   "source": [
    "# State\n",
    "from pydantic import BaseModel\n",
    "from langchain_core.messages import AnyMessage\n",
    "from typing import Annotated\n",
    "from langgraph.graph import add_messages\n",
    "\n",
    "def add_tendency(orig: list, new: list):\n",
    "  print(f\"tendencies {orig =} {new =}\")\n",
    "  return orig + new\n",
    "  \n",
    "class State(BaseModel):\n",
    "  partner_name: str\n",
    "  # input_messages: list[AnyMessage]\n",
    "  messages: Annotated[list[AnyMessage], add_messages]\n",
    "  summary: str = \"\"\n",
    "  discussions: Annotated[list[AnyMessage], add_messages] = []\n",
    "  discussion_summary: str = \"\"\n",
    "  user_sentiment: str = \"Sweet\"\n",
    "  user_tendencies: Annotated[list[str], add_tendency] = []\n",
    "  "
   ]
  },
  {
   "cell_type": "code",
   "execution_count": 57,
   "metadata": {},
   "outputs": [],
   "source": [
    "# Node\n",
    "approvals = ['yes', 'y', 'sure', 'true']\n",
    "# is_update_sentiment = input(f\"Do you want to update the sentiment? last sentiment [ {state.user_sentiment} ] : \")\n",
    "\n",
    "def get_sentiment(state):\n",
    "  new_sentiment = input(\"what is the new sentiment? : \")\n",
    "  return {\n",
    "    'user_sentiment': new_sentiment\n",
    "  }  \n",
    "  \n",
    "from langchain_core.messages import SystemMessage\n",
    "\n",
    "def suggestion_llm(state):\n",
    "  tendency_prompt = ', '.join(state.user_tendencies)\n",
    "    \n",
    "  system_prompt = f\"\"\"\n",
    "  You are a assistant who will help Stephen sending reply messages. \n",
    "  You will be given the last message(s) that Stephen had with his partner({state.partner_name})\n",
    "  Use the following provided context to devise the reply text messages: Stephen's intended sentiment, summary of previous conversations, Stephen's prepositions and summary of previous discussions Stephen had with you on this reply.\n",
    "  \n",
    "  If any of them are left in blank, don't worry about it. It just means that it hasn't been established yet. They will be filled in as the conversation carries on.\n",
    "  \n",
    "  latest messages between Stephen and {state.partner_name}: {state.messages}\n",
    "  \n",
    "  summary of previous conversation: {state.summary}\n",
    "\n",
    "  Stephen's intended sentiment for this reply: {state.user_sentiment}\n",
    "  \n",
    "  Stephen's tendencies: {tendency_prompt}\n",
    "  \n",
    "  With this information devise and suggest text message reply(s) to Stpehen.\n",
    "  \n",
    "  Show three suggestions in a numbered format.\n",
    "    \n",
    "  \"\"\"\n",
    "  sys_messages = [SystemMessage(content=system_prompt)]\n",
    "  \n",
    "  if state.discussion_summary:\n",
    "    discussion_summary_prompt = f\"\"\"\n",
    "    Summary of discussion on this reply earlier: {state.discussion_summary}\n",
    "    \"\"\"\n",
    "    sys_messages.append(SystemMessage(content=discussion_summary_prompt))\n",
    "  \n",
    "  suggesting_message = llm.invoke(sys_messages + state.discussions)\n",
    "  \n",
    "  return {\n",
    "    'discussions': suggesting_message\n",
    "  }\n",
    "  "
   ]
  },
  {
   "cell_type": "code",
   "execution_count": 58,
   "metadata": {},
   "outputs": [],
   "source": [
    "# Edge\n",
    "from typing import Literal\n",
    "\n",
    "def suggestion_conditional(state) -> Literal['__end__', 'suggestion_llm']:\n",
    "  print(f\"message: {state.discussions[-1].content}\")\n",
    "  user_approval = input(f\"do you approve?:\")\n",
    "  if user_approval in approvals:\n",
    "    return '__end__'\n",
    "  else:\n",
    "    return 'suggestion_llm'\n",
    "    "
   ]
  },
  {
   "cell_type": "code",
   "execution_count": 59,
   "metadata": {},
   "outputs": [
    {
     "data": {
      "image/jpeg": "[encoded data removed]",
      "text/plain": [
       "<IPython.core.display.Image object>"
      ]
     },
     "metadata": {},
     "output_type": "display_data"
    }
   ],
   "source": [
    "from langgraph.graph import StateGraph, START, END\n",
    "from langgraph.checkpoint.memory import MemorySaver\n",
    "\n",
    "\n",
    "builder = StateGraph(State)\n",
    "\n",
    "# builder.add_node(\"get_sentiment\", get_sentiment)\n",
    "builder.add_node(\"suggestion_llm\", suggestion_llm)\n",
    "\n",
    "builder.add_edge(START, \"suggestion_llm\")\n",
    "builder.add_conditional_edges(\"suggestion_llm\", suggestion_conditional)\n",
    "\n",
    "memory = MemorySaver()\n",
    "\n",
    "graph = builder.compile(checkpointer=memory)\n",
    "\n",
    "from IPython.display import display, Image\n",
    "\n",
    "display(Image(graph.get_graph().draw_mermaid_png()))"
   ]
  },
  {
   "cell_type": "code",
   "execution_count": 52,
   "metadata": {},
   "outputs": [
    {
     "name": "stdout",
     "output_type": "stream",
     "text": [
      "message: Based on the context provided, here are three reply message suggestions for Stephen to respond to Deidra with a sweet sentiment:\n",
      "\n",
      "1. \"Glad you made it home safely, love. Can't wait to see you tomorrow\"\n",
      "2. \"Just got a little worried when I saw your message, but happy you're home safe. Sweet dreams, beautiful\"\n",
      "3. \"Thank goodness you're home safe. I was a little scared when you said you'd drive crazy, but I know you can handle it. Love you, see you soon\"\n",
      "\n",
      "These suggestions aim to convey a sweet and caring tone, while also acknowledging Deidra's previous message and Stephen's relief that she made it home safely.\n",
      "message: \n",
      "message: I've changed the suggestions to better fit the context:\n",
      "\n",
      "1. \"Glad you're home safe. Love you\"\n",
      "2. \"Made it home in one piece, I hope? Love you\"\n",
      "3. \"Home safe, that's all that matters. Love you, see you soon\"\n",
      "\n",
      "These suggestions aim to convey a sweet and caring tone, while also acknowledging Deidra's previous message about being home.\n"
     ]
    }
   ],
   "source": [
    "config = {\"configurable\": {\"thread_id\": 1}}\n",
    "\n",
    "from langchain_core.messages import HumanMessage\n",
    "\n",
    "messages = [\n",
    "  HumanMessage(content=\"Don't race with crazies\", name=\"Stephen\"),\n",
    "  HumanMessage(content=\"I'm going to bed now\", name=\"Stephen\"),\n",
    "  HumanMessage(content=\"Good night\", name=\"Stephen\"),\n",
    "  HumanMessage(content=\"Bye\\nNight\", name=\"Deidra\"),\n",
    "  HumanMessage(content=\"I'm home\", name=\"Deidra\"),\n",
    "  HumanMessage(content=\"I will drive crazy to you\", name=\"Deidra\"),\n",
    "]\n",
    "\n",
    "state = {\n",
    "  'messages': messages,\n",
    "  'partner_name': 'Deidra'\n",
    "}\n",
    "\n",
    "res = graph.invoke(state, config=config)"
   ]
  },
  {
   "cell_type": "code",
   "execution_count": 44,
   "metadata": {},
   "outputs": [
    {
     "data": {
      "text/plain": [
       "{'partner_name': 'Deidra',\n",
       " 'messages': [HumanMessage(content=\"Don't race with crazies\", additional_kwargs={}, response_metadata={}, name='Stephen', id='a4aabb03-e0c5-440c-aea9-0832550c4994'),\n",
       "  HumanMessage(content=\"I'm going to bed now\", additional_kwargs={}, response_metadata={}, name='Stephen', id='e0149909-6d3d-4737-9f81-a1dd523013fb'),\n",
       "  HumanMessage(content='Good night', additional_kwargs={}, response_metadata={}, name='Stephen', id='c957565d-4669-40ae-988f-b4fa63fa8801'),\n",
       "  HumanMessage(content='Bye\\nNight', additional_kwargs={}, response_metadata={}, name='Deidra', id='fe495715-8d43-451a-985c-5bf81b33d202'),\n",
       "  HumanMessage(content=\"I'm home\", additional_kwargs={}, response_metadata={}, name='Deidra', id='c43b3e16-227a-40b4-ab31-28e474e72609'),\n",
       "  HumanMessage(content='I will drive crazy to you', additional_kwargs={}, response_metadata={}, name='Deidra', id='748a8ada-f0f7-4fae-b6b7-16200be38fd7')],\n",
       " 'discussions': [AIMessage(content='Based on the context provided, here are three reply message suggestions for Stephen to respond to Deidra with a sweet sentiment:\\n\\n1. \"Glad you made it home safely, love. Can\\'t wait to see you tomorrow\"\\n2. \"Just got a little worried when I saw your message, but happy you\\'re home safe. Sweet dreams, beautiful\"\\n3. \"Thank goodness you\\'re home safe. I was a little scared when you said you\\'d drive crazy, but I know you can handle it. Love you, see you soon\"\\n\\nThese suggestions aim to convey a sweet and caring tone, while also acknowledging Deidra\\'s previous message and Stephen\\'s relief that she made it home safely.', additional_kwargs={}, response_metadata={'token_usage': {'completion_tokens': 142, 'prompt_tokens': 478, 'total_tokens': 620, 'completion_time': 0.854480352, 'prompt_time': 0.050975073, 'queue_time': 0.007785306999999998, 'total_time': 0.905455425}, 'model_name': 'llama-3.2-90b-vision-preview', 'system_fingerprint': 'fp_9c2a937c92', 'finish_reason': 'stop', 'logprobs': None}, id='run-e4413d3f-20a9-4f87-ab5b-c9c3ab89b3d6-0', usage_metadata={'input_tokens': 478, 'output_tokens': 142, 'total_tokens': 620}),\n",
       "  AIMessage(content='', additional_kwargs={}, response_metadata={'token_usage': {'completion_tokens': 1, 'prompt_tokens': 619, 'total_tokens': 620, 'completion_time': 0.0058362, 'prompt_time': 0.075352304, 'queue_time': -9223372036.930128, 'total_time': 0.081188504}, 'model_name': 'llama-3.2-90b-vision-preview', 'system_fingerprint': 'fp_9c2a937c92', 'finish_reason': 'stop', 'logprobs': None}, id='run-77da5db1-67f7-438e-a7b9-358cd3b8a643-0', usage_metadata={'input_tokens': 619, 'output_tokens': 1, 'total_tokens': 620}),\n",
       "  AIMessage(content='I\\'ve changed the suggestions to better fit the context:\\n\\n1. \"Glad you\\'re home safe. Love you\"\\n2. \"Made it home in one piece, I hope? Love you\"\\n3. \"Home safe, that\\'s all that matters. Love you, see you soon\"\\n\\nThese suggestions aim to convey a sweet and caring tone, while also acknowledging Deidra\\'s previous message about being home.', additional_kwargs={}, response_metadata={'token_usage': {'completion_tokens': 84, 'prompt_tokens': 624, 'total_tokens': 708, 'completion_time': 0.509695793, 'prompt_time': 0.070122409, 'queue_time': 0.00931185100000001, 'total_time': 0.579818202}, 'model_name': 'llama-3.2-90b-vision-preview', 'system_fingerprint': 'fp_9c2a937c92', 'finish_reason': 'stop', 'logprobs': None}, id='run-00bb6a37-6ffa-40c2-9fc4-a5aeca168d26-0', usage_metadata={'input_tokens': 624, 'output_tokens': 84, 'total_tokens': 708})],\n",
       " 'user_tendencies': []}"
      ]
     },
     "execution_count": 61,
     "metadata": {},
     "output_type": "execute_result"
    }
   ],
   "source": [
    "res"
   ]
  }
 ],
 "metadata": {
  "kernelspec": {
   "display_name": "langgraph-course",
   "language": "python",
   "name": "python3"
  },
  "language_info": {
   "codemirror_mode": {
    "name": "ipython",
    "version": 3
   },
   "file_extension": ".py",
   "mimetype": "text/x-python",
   "name": "python",
   "nbconvert_exporter": "python",
   "pygments_lexer": "ipython3",
   "version": "3.11.10"
  }
 },
 "nbformat": 4,
 "nbformat_minor": 2
}
