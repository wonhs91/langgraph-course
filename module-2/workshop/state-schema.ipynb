{
 "cells": [
  {
   "cell_type": "code",
   "execution_count": 42,
   "metadata": {},
   "outputs": [],
   "source": [
    "# State\n",
    "\n",
    "from pydantic import BaseModel, field_validator\n",
    "from typing import Annotated, Literal, Tuple, Optional\n",
    "from langchain_core.messages import AnyMessage\n",
    "from langgraph.graph import add_messages\n",
    "\n",
    "def increment_num_track(orig, new):\n",
    "  if orig == None:\n",
    "    print(\"num_track was None???\")\n",
    "    return 1\n",
    "  return orig + 1\n",
    "\n",
    "class CustomState(BaseModel):\n",
    "  messages: Annotated[list[AnyMessage], add_messages] = None\n",
    "  num_track: Annotated[int, increment_num_track] = 1\n",
    "  mood: Literal[\"happy\", \"sad\"] = None\n",
    "  odd_num: int = None # test without optional and with optional\n",
    "  curr_val: int = None\n",
    "  \n",
    "  @field_validator(\"odd_num\")\n",
    "  @classmethod\n",
    "  def odd_num_validator(cls, value):\n",
    "    if value % 2 == 0:\n",
    "      raise ValueError(\"The number provided is EVEN motha fucka!\")\n",
    "    return value \n",
    "  \n",
    "  "
   ]
  }
 ],
 "metadata": {
  "kernelspec": {
   "display_name": "langgraph-course",
   "language": "python",
   "name": "python3"
  },
  "language_info": {
   "codemirror_mode": {
    "name": "ipython",
    "version": 3
   },
   "file_extension": ".py",
   "mimetype": "text/x-python",
   "name": "python",
   "nbconvert_exporter": "python",
   "pygments_lexer": "ipython3",
   "version": "3.11.10"
  }
 },
 "nbformat": 4,
 "nbformat_minor": 2
}
