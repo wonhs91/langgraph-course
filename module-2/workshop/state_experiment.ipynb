{
 "cells": [
  {
   "cell_type": "code",
   "execution_count": 183,
   "metadata": {},
   "outputs": [],
   "source": [
    "from langchain_ollama import ChatOllama\n",
    "\n",
    "llm = ChatOllama(model=\"llama3.1\")\n",
    "\n",
    "# wiki llm\n",
    "\n",
    "from langchain_community.utilities import WikipediaAPIWrapper\n",
    "from langchain_community.tools import WikipediaQueryRun\n",
    "\n",
    "wiki_tool = WikipediaQueryRun(api_wrapper=WikipediaAPIWrapper())\n",
    "\n",
    "tools = [wiki_tool]\n",
    "\n",
    "llm_with_wiki = llm.bind_tools(tools)"
   ]
  },
  {
   "cell_type": "code",
   "execution_count": 184,
   "metadata": {},
   "outputs": [],
   "source": [
    "\n",
    "# State\n",
    "from pydantic import BaseModel\n",
    "from typing import Annotated, Optional\n",
    "from typing_extensions import TypedDict\n",
    "from operator import add\n",
    "from langgraph.graph import add_messages, MessagesState\n",
    "from langchain_core.messages import AnyMessage\n",
    "\n",
    "# Only gets called when the property is updated\n",
    "def increment_step(orig, new):\n",
    "  \n",
    "  print(f\"{orig=}{new=}\")\n",
    "  if orig == None:\n",
    "    return 1\n",
    "  return orig + 1\n",
    "  \n",
    "class InputState(BaseModel):\n",
    "  question: str\n",
    "  \n",
    "class OutputState(BaseModel):\n",
    "  answer: str\n",
    "\n",
    "class OverallState(BaseModel):\n",
    "  messages: Annotated[list[AnyMessage], add_messages] = []\n",
    "  question: str\n",
    "  answer: str = None\n",
    "  notes: Annotated[list[str], add] = None\n",
    "  search_docs: Annotated[list[str], add] = None\n",
    "  step_num: Annotated[int, increment_step] = 0\n",
    "  \n",
    "  "
   ]
  },
  {
   "cell_type": "code",
   "execution_count": 185,
   "metadata": {},
   "outputs": [],
   "source": [
    "# Node\n",
    "from langchain_core.messages import HumanMessage\n",
    "\n",
    "def input_node(state: InputState):\n",
    "  return {\n",
    "    'messages': [HumanMessage(content=state.question)]\n",
    "  }\n",
    "\n",
    "def wiki_calling_llm(state):\n",
    "  return {\n",
    "    'messages': [llm_with_wiki.invoke(state.messages)]\n",
    "  }\n",
    "\n",
    "def search_doc_saving_node(state):\n",
    "  wiki_result = state.messages[-1].content\n",
    "  return {\n",
    "    'search_docs': [wiki_result],\n",
    "    'step_num': 20\n",
    "  }\n",
    "  \n",
    "def output_node(state: OverallState) -> OutputState:\n",
    "  answer = state.messages[-1].content\n",
    "  return {\n",
    "    'answer': answer\n",
    "  }\n",
    "  \n",
    "\n",
    "from typing import Literal\n",
    "\n",
    "# edge Not in use\n",
    "def wiki_result_condition(state) -> Literal['tools', 'output_node']:\n",
    "    if isinstance(state, list):\n",
    "        ai_message = state[-1]\n",
    "    elif isinstance(state, dict) and (messages := state.get(\"messages\", [])):\n",
    "        ai_message = messages[-1]\n",
    "    elif messages := getattr(state, \"messages\", []):\n",
    "        ai_message = messages[-1]\n",
    "    else:\n",
    "        raise ValueError(f\"No messages found in input state to tool_edge: {state}\")\n",
    "    if hasattr(ai_message, \"tool_calls\") and len(ai_message.tool_calls) > 0:\n",
    "        return \"tools\"\n",
    "    return \"output_node\"\n"
   ]
  },
  {
   "cell_type": "code",
   "execution_count": 186,
   "metadata": {},
   "outputs": [
    {
     "data": {
      "image/jpeg": "[encoded data removed]",
      "text/plain": [
       "<IPython.core.display.Image object>"
      ]
     },
     "metadata": {},
     "output_type": "display_data"
    }
   ],
   "source": [
    "from langgraph.graph import StateGraph, START, END\n",
    "from langgraph.prebuilt import ToolNode, tools_condition\n",
    "\n",
    "builder = StateGraph(OverallState, input=InputState, output=OutputState)\n",
    "\n",
    "builder.add_node('input_node', input_node)\n",
    "builder.add_node('wiki_llm', wiki_calling_llm)\n",
    "builder.add_node('search_result', search_doc_saving_node)\n",
    "builder.add_node('output_node', output_node)\n",
    "builder.add_node('tools', ToolNode(tools))\n",
    "\n",
    "builder.add_edge(START, 'input_node')\n",
    "builder.add_edge(\"input_node\", \"wiki_llm\")\n",
    "builder.add_conditional_edges('wiki_llm', wiki_result_condition)\n",
    "builder.add_edge('tools', 'search_result')\n",
    "builder.add_edge('search_result', 'wiki_llm')\n",
    "builder.add_edge('output_node', END)\n",
    "\n",
    "graph = builder.compile()\n",
    "\n",
    "\n",
    "from IPython.display import display, Image\n",
    "\n",
    "display(Image(graph.get_graph().draw_mermaid_png()))\n"
   ]
  },
  {
   "cell_type": "code",
   "execution_count": 187,
   "metadata": {},
   "outputs": [
    {
     "name": "stdout",
     "output_type": "stream",
     "text": [
      "orig=0new=20\n"
     ]
    }
   ],
   "source": [
    "state = {\n",
    "  'question': \"Who is Stephen?\"\n",
    "}\n",
    "\n",
    "res = graph.invoke(state)"
   ]
  },
  {
   "cell_type": "code",
   "execution_count": 188,
   "metadata": {},
   "outputs": [],
   "source": [
    "res"
   ]
  }
 ],
 "metadata": {
  "kernelspec": {
   "display_name": "langgraph-course",
   "language": "python",
   "name": "python3"
  },
  "language_info": {
   "codemirror_mode": {
    "name": "ipython",
    "version": 3
   },
   "file_extension": ".py",
   "mimetype": "text/x-python",
   "name": "python",
   "nbconvert_exporter": "python",
   "pygments_lexer": "ipython3",
   "version": "3.11.10"
  }
 },
 "nbformat": 4,
 "nbformat_minor": 2
}
