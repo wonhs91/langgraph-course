{
 "cells": [
  {
   "cell_type": "code",
   "execution_count": 7,
   "metadata": {},
   "outputs": [],
   "source": [
    "from langchain_ollama import ChatOllama\n",
    "\n",
    "llm = ChatOllama(model=\"llama3.2\")"
   ]
  },
  {
   "cell_type": "code",
   "execution_count": 8,
   "metadata": {},
   "outputs": [],
   "source": [
    "from langchain_core.messages import SystemMessage, HumanMessage\n",
    "\n",
    "prompt = \"\"\"You are a funny poet, who will create a poem based on the given topic and last user message\n",
    "\n",
    "topic: Cooking\n",
    "\n",
    "\"\"\"\n",
    "\n",
    "res = llm.invoke([SystemMessage(content=prompt), HumanMessage(content=\"I like cooking competition shows\")])"
   ]
  },
  {
   "cell_type": "code",
   "execution_count": 9,
   "metadata": {},
   "outputs": [
    {
     "data": {
      "text/plain": [
       "AIMessage(content='The sizzle of the stage, the heat\\'s ablaze,\\nAs chefs converge to show off their culinary ways.\\nA pinch of flair, a dash of skill,\\nThey\\'ll chop, they\\'ll dice, and make your taste buds thrill.\\n\\nWith sauces simmers, aromas rise high,\\nJudges deliberate, as contestants wonder why\\nTheir dish didn\\'t quite make the cut,\\nBut still, we watch, with fork in gut.\\n\\nFrom \"Top Chef\" to \"MasterChef\" fame,\\nThese cooking shows ignite a culinary flame.\\nWe see it all - the triumphs and the falls,\\nAs chefs weave tales of flavors that enthrall.\\n\\nSo here\\'s to Gordon, Padma, and more,\\nThe judges\\' critiques we eagerly explore.\\nFor in this world of heat and artistry too,\\nCooking competition shows bring us joy anew!', additional_kwargs={}, response_metadata={'model': 'llama3.2', 'created_at': '2024-10-21T19:07:43.6441497Z', 'message': {'role': 'assistant', 'content': ''}, 'done_reason': 'stop', 'done': True, 'total_duration': 5696620800, 'load_duration': 2458201300, 'prompt_eval_count': 55, 'prompt_eval_duration': 81751000, 'eval_count': 172, 'eval_duration': 3153968000}, id='run-0dfd03f7-5ac3-4c20-a3c6-852e376589d8-0', usage_metadata={'input_tokens': 55, 'output_tokens': 172, 'total_tokens': 227})"
      ]
     },
     "execution_count": 9,
     "metadata": {},
     "output_type": "execute_result"
    }
   ],
   "source": [
    "res"
   ]
  },
  {
   "cell_type": "code",
   "execution_count": 10,
   "metadata": {},
   "outputs": [],
   "source": [
    "# from langchain_core.prompts import ChatPromptTemplate\n",
    "\n",
    "# promptTemplate = ChatPromptTemplate([\n",
    "#   (\"system\", \"you are a helpful assistant\"),\n",
    "#   (\"ai\", \"What is your name?\"),\n",
    "#   (\"human\", \"my name is Stephen\")\n",
    "# ])\n",
    "\n",
    "# prompt = promptTemplate.invoke({})\n",
    "\n",
    "# response = llm.invoke(prompt)\n",
    "\n"
   ]
  },
  {
   "cell_type": "code",
   "execution_count": 3,
   "metadata": {},
   "outputs": [],
   "source": [
    "# State\n",
    "\n",
    "from typing_extensions import TypedDict\n",
    "from typing import Annotated\n",
    "from operator import add\n",
    "\n",
    "def increment_step(orig, new):\n",
    "  if orig == None:\n",
    "    return 1\n",
    "  return orig + 1\n",
    "\n",
    "class CustomState(TypedDict):\n",
    "  foo: Annotated[str, add]\n",
    "  num_step: Annotated[int, increment_step]"
   ]
  },
  {
   "cell_type": "code",
   "execution_count": 4,
   "metadata": {},
   "outputs": [],
   "source": [
    "# Node\n",
    "\n",
    "\n",
    "def node_1(state):\n",
    "  return {\n",
    "    'foo': \"hi my name is\"\n",
    "  }\n",
    "  \n",
    "def node_2(state):\n",
    "  return {\n",
    "    'foo': \" Stephen...\"\n",
    "  }"
   ]
  },
  {
   "cell_type": "code",
   "execution_count": 5,
   "metadata": {},
   "outputs": [
    {
     "data": {
      "image/jpeg": "[encoded data removed]",
      "text/plain": [
       "<IPython.core.display.Image object>"
      ]
     },
     "metadata": {},
     "output_type": "display_data"
    }
   ],
   "source": [
    "# graph\n",
    "from langgraph.graph import StateGraph, START, END\n",
    "\n",
    "\n",
    "builder = StateGraph(CustomState)\n",
    "\n",
    "builder.add_node('node1', node_1)\n",
    "builder.add_node('node2', node_2)\n",
    "\n",
    "builder.add_edge(START, 'node1')\n",
    "builder.add_edge('node1', 'node2')\n",
    "builder.add_edge('node2', END)\n",
    "\n",
    "\n",
    "graph = builder.compile()\n",
    "\n",
    "from IPython.display import display, Image\n",
    "\n",
    "display(Image(graph.get_graph().draw_mermaid_png()))"
   ]
  },
  {
   "cell_type": "code",
   "execution_count": 6,
   "metadata": {},
   "outputs": [
    {
     "data": {
      "text/plain": [
       "{'foo': 'HI! hi my name is Stephen...', 'num_step': 0}"
      ]
     },
     "execution_count": 6,
     "metadata": {},
     "output_type": "execute_result"
    }
   ],
   "source": [
    "graph.invoke({'foo': \"HI! \"})"
   ]
  }
 ],
 "metadata": {
  "kernelspec": {
   "display_name": "langgraph-course",
   "language": "python",
   "name": "python3"
  },
  "language_info": {
   "codemirror_mode": {
    "name": "ipython",
    "version": 3
   },
   "file_extension": ".py",
   "mimetype": "text/x-python",
   "name": "python",
   "nbconvert_exporter": "python",
   "pygments_lexer": "ipython3",
   "version": "3.11.10"
  }
 },
 "nbformat": 4,
 "nbformat_minor": 2
}
