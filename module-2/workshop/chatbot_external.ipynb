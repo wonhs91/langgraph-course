{
 "cells": [
  {
   "cell_type": "code",
   "execution_count": 1,
   "metadata": {},
   "outputs": [
    {
     "data": {
      "text/plain": [
       "True"
      ]
     },
     "execution_count": 1,
     "metadata": {},
     "output_type": "execute_result"
    }
   ],
   "source": [
    "from dotenv import load_dotenv\n",
    "load_dotenv()"
   ]
  },
  {
   "cell_type": "code",
   "execution_count": 2,
   "metadata": {},
   "outputs": [],
   "source": [
    "from langchain_ollama import ChatOllama\n",
    "llm = ChatOllama(model=\"llama3.2\")\n"
   ]
  },
  {
   "cell_type": "code",
   "execution_count": 3,
   "metadata": {},
   "outputs": [],
   "source": [
    "# State\n",
    "from langgraph.graph import MessagesState\n",
    "\n",
    "class State(MessagesState):\n",
    "  summary: str\n",
    "  "
   ]
  },
  {
   "cell_type": "code",
   "execution_count": 4,
   "metadata": {},
   "outputs": [],
   "source": [
    "# Node\n",
    "from langchain_core.messages import SystemMessage, RemoveMessage, HumanMessage\n",
    "\n",
    "def conv_node(state):\n",
    "  # if summary exists: add summary in the beginning as a sys message\n",
    "  if state.get('summary'):\n",
    "    messages = [SystemMessage(content=f\"Summary of conversation earlier: {state['summary']}\")] + state['messages']\n",
    "    \n",
    "  else:\n",
    "    messages = state['messages']\n",
    "    \n",
    "  return {\n",
    "    'messages': llm.invoke(messages)\n",
    "  }\n",
    "  \n",
    "def summary_node(state):\n",
    "  # Assume the length is already over 5\n",
    "  # delete messages only leave the last two\n",
    "  delete_messages = [RemoveMessage(id=m.id) for m in state['messages'][:-2]]\n",
    "  # summarize all the messages\n",
    "  \n",
    "  if state.get('summary'):\n",
    "    summary_request = f\"\"\"\n",
    "    This is the summary of the previous conversation: {state['summary']}\n",
    "    \\n\\n\n",
    "    Extend the summary with the summary of above conversations\n",
    "    \"\"\"\n",
    "  else:\n",
    "    summary_request = \"\"\"\n",
    "    Create a summary of the above conversations\n",
    "    \"\"\"\n",
    "    \n",
    "  summary = llm.invoke(state['messages'] + [HumanMessage(content=summary_request)])\n",
    "  return {\n",
    "    'summary': summary,\n",
    "    'messages': delete_messages\n",
    "  }\n",
    "  \n",
    "\n",
    "# edges\n",
    "def summary_condition(state):\n",
    "  if len(state['messages']) > 5:\n",
    "    return 'summary_node'\n",
    "  else:\n",
    "    return '__end__'\n",
    "    \n",
    "    "
   ]
  },
  {
   "cell_type": "code",
   "execution_count": 5,
   "metadata": {},
   "outputs": [],
   "source": [
    "from langgraph.graph import StateGraph, START, END\n",
    "import sqlite3\n",
    "from langgraph.checkpoint.sqlite import SqliteSaver\n",
    "\n",
    "builder = StateGraph(State)\n",
    "builder.add_node(conv_node)\n",
    "builder.add_node(summary_node)\n",
    "\n",
    "builder.add_edge(START, 'conv_node')\n",
    "builder.add_conditional_edges('conv_node', summary_condition)\n",
    "builder.add_edge('summary_node', END)\n",
    "\n",
    "db_path = \"state_db/workshop.db\"\n",
    "conn = sqlite3.connect(db_path, check_same_thread=False)\n",
    "memory = SqliteSaver(conn)\n",
    "graph = builder.compile(checkpointer=memory)"
   ]
  },
  {
   "cell_type": "code",
   "execution_count": 14,
   "metadata": {},
   "outputs": [
    {
     "data": {
      "text/plain": [
       "{'messages': [HumanMessage(content='how to I view the data from the db table again?', additional_kwargs={}, response_metadata={}, id='a005d165-a48a-42ba-bdb1-37807eb061df'),\n",
       "  AIMessage(content='To view the data from a specific table in an SQLite database using Python sqlite3, you can execute a `SELECT` statement on that table.\\n\\nHere are some examples:\\n\\n**Method 1: Viewing all rows**\\n\\n```python\\nimport sqlite3\\n\\n# Connect to the database\\nconn = sqlite3.connect(\\'your_database.db\\')\\ncursor = conn.cursor()\\n\\n# Execute a SELECT statement to view all rows from a specific table\\ntable_name = \\'your_table_name\\'\\ncursor.execute(f\"SELECT * FROM {table_name}\")\\n\\n# Fetch all rows from the query result (returns the row data)\\nrows_list = cursor.fetchall()\\nfor row in rows_list:\\n    print(row)\\n\\n# Close the connection\\nconn.close()\\n```\\n\\n**Method 2: Viewing specific columns**\\n\\n```python\\nimport sqlite3\\n\\n# Connect to the database\\nconn = sqlite3.connect(\\'your_database.db\\')\\ncursor = conn.cursor()\\n\\n# Execute a SELECT statement with specific column names to view rows from a specific table\\ntable_name = \\'your_table_name\\'\\ncolumns = [\\'column1\\', \\'column2\\']  # Replace with your desired columns\\ncursor.execute(f\"SELECT {\\', \\'.join(columns)} FROM {table_name}\")\\n\\n# Fetch all rows from the query result (returns the row data)\\nrows_list = cursor.fetchall()\\nfor row in rows_list:\\n    print(row)\\n\\n# Close the connection\\nconn.close()\\n```\\n\\n**Method 3: Viewing limited number of rows**\\n\\n```python\\nimport sqlite3\\n\\n# Connect to the database\\nconn = sqlite3.connect(\\'your_database.db\\')\\ncursor = conn.cursor()\\n\\n# Execute a SELECT statement with LIMIT to view limited number of rows from a specific table\\ntable_name = \\'your_table_name\\'\\nlimit = 5  # Replace with your desired limit\\ncursor.execute(f\"SELECT * FROM {table_name} LIMIT {limit}\")\\n\\n# Fetch all rows from the query result (returns the row data)\\nrows_list = cursor.fetchall()\\nfor row in rows_list:\\n    print(row)\\n\\n# Close the connection\\nconn.close()\\n```\\n\\n**Method 4: Using `dict_factory=True` to fetch row as dictionary**\\n\\n```python\\nimport sqlite3\\n\\n# Connect to the database\\nconn = sqlite3.connect(\\'your_database.db\\')\\ncursor = conn.cursor()\\n\\n# Execute a SELECT statement to view all rows from a specific table using dict_factory=True\\ntable_name = \\'your_table_name\\'\\ncursor.execute(f\"SELECT * FROM {table_name}\", dict_factory=True)\\n\\n# Fetch all rows from the query result (returns the row data as dictionary)\\nrows_dict_list = cursor.fetchall()\\nfor row in rows_dict_list:\\n    print(row)\\n\\n# Close the connection\\nconn.close()\\n```\\n\\nChoose the method that best fits your needs, and don\\'t hesitate to ask if you have any further questions or need help with your specific use case.', additional_kwargs={}, response_metadata={'model': 'llama3.2', 'created_at': '2024-10-21T20:42:33.3312056Z', 'message': {'role': 'assistant', 'content': ''}, 'done_reason': 'stop', 'done': True, 'total_duration': 14658953400, 'load_duration': 28472300, 'prompt_eval_count': 1550, 'prompt_eval_duration': 120759000, 'eval_count': 573, 'eval_duration': 14493110000}, id='run-bb660a9d-8178-4177-8590-b2624cc1d1e1-0', usage_metadata={'input_tokens': 1550, 'output_tokens': 573, 'total_tokens': 2123})],\n",
       " 'summary': AIMessage(content='Here is the extended summary:\\n\\ncontent=\\'Here is the extended summary:\\\\n\\\\ncontent=\"Here\\\\\\'s a summary of our conversation:\\\\\\\\n\\\\\\\\n* You asked for help printing data from a database.\\\\\\\\n* I provided examples using SQLAlchemy (an ORM library) and Python sqlite3 directly, depending on your programming language and database structure.\\\\\\\\n* You mentioned you\\\\\\'re using Python sqlite3 specifically.\\\\\\\\n* We had a brief chat about getting started with Python and SQLite.\\\\\\\\n\\\\\\\\nTo view the data stored in an SQLite database, we discussed three methods:\\\\\\\\n\\\\\\\\n1. Using `cursor.execute()` and iterating over rows to fetch all rows from a query result.\\\\\\\\n2. Using `dict_factory=True` with `fetchall()` to fetch all rows from a query result as dictionaries.\\\\\\\\n3. Using `executescript()` for more complex queries.\\\\\\\\n\\\\\\\\nTo view the table in an SQLite database, we discussed three methods:\\\\\\\\n\\\\\\\\n1. Executing a `PRAGMA table_info()` command using `cursor.execute()` and `fetchone()` to fetch column names.\\\\\\\\n2. Using `dict_factory=True` with `fetchone()` to fetch column names as dictionaries.\\\\\\\\n3. Executing a multi-line `PRAGMA table_info()` command using `executescript()` for more complex queries.\\\\\\\\n\\\\\\\\nI hope this helps! Let me know if there\\\\\\'s anything else I can help you with!\" additional_kwargs={} response_metadata={\\\\\\'model\\\\\\': \\\\\\'llama3.2\\\\\\', \\\\\\'created_at\\\\\\': \\\\\\'2024-10-21T20:34:49.2561389Z\\\\\\', \\\\\\'message\\\\\\': {\\\\\\'role\\\\\\': \\\\\\'assistant\\\\\\', \\\\\\'content\\\\\\': \\\\\\'\\\\\\'}, \\\\\\'done_reason\\\\\\': \\\\\\'stop\\\\\\', \\\\\\'done\\\\\\': True, \\\\\\'total_duration\\\\\\': 1899244400, \\\\\\'load_duration\\\\\\': 23588400, \\\\\\'prompt_eval_count\\\\\\': 733, \\\\\\'prompt_eval_duration\\\\\\': 61168000, \\\\\\'eval_count\\\\\\': 85, \\\\\\'eval_duration\\\\\\': 1805276000} id=\\\\\\'run-c1425b65-4d9c-4236-a929-d80815faf745-0\\\\\\' usage_metadata={\\\\\\'input_tokens\\\\\\': 733, \\\\\\'output_tokens\\\\\\': 85, \\\\\\'total_tokens\\\\\\': 818}\\' additional_kwargs={} response_metadata={\\'model\\': \\'llama3.2\\', \\'created_at\\': \\'2024-10-21T20:36:16.0486884Z\\', \\'message\\': {\\'role\\': \\'assistant\\', \\'content\\': \\'\\'}, \\'done_reason\\': \\'stop\\', \\'done\\': True, \\'total_duration\\': 12513740200, \\'load_duration\\': 22841100, \\'prompt_eval_count\\': 1343, \\'prompt_eval_duration\\': 1376645000, \\'eval_count\\': 442, \\'eval_duration\\': 11098980000} id=\\'run-8bfa4d45-2b1a-431d-883c-b87937c4d663-0\\' usage_metadata={\\'input_tokens\\': 1343, \\'output_tokens\\': 442, \\'total_tokens\\': 1785}\\\\n\\\\nTo view the data stored in an SQLite database, we discussed three methods:\\\\\\\\n\\\\\\\\n1. Using `cursor.execute()` and iterating over rows to fetch all rows from a query result.\\\\\\\\n2. Using `dict_factory=True` with `fetchall()` to fetch all rows from a query result as dictionaries.\\\\\\\\n3. Using `executescript()` for more complex queries.\\\\\\\\n\\\\nTo view the table in an SQLite database, we discussed three methods:\\\\\\\\n\\\\\\\\n1. Executing a `PRAGMA table_info()` command using `cursor.execute()` and `fetchone()` to fetch column names.\\\\\\\\n2. Using `dict_factory=True` with `fetchone()` to fetch column names as dictionaries.\\\\\\\\n3. Executing a multi-line `PRAGMA table_info()` command using `executescript()` for more complex queries.\\\\\\\\n\\\\nWe also discussed how to use these methods in Python sqlite3 and provided examples to demonstrate each method.\\\\\\\\n\\\\nI hope this helps! Let me know if there\\\\\\'s anything else I can help you with!\" additional_kwargs={} response_metadata={\\'model\\': \\'llama3.2\\', \\'created_at\\': \\'2024-10-21T20:38:04.1234567Z\\', \\'message\\': {\\'role\\': \\'assistant\\', \\'content\\': \\'\\'}, \\'done_reason\\': \\'stop\\', \\'done\\': True, \\'total_duration\\': 19131214200, \\'load_duration\\': 24212100, \\'prompt_eval_count\\': 1353, \\'prompt_eval_duration\\': 1407645000, \\'eval_count\\': 443, \\'eval_duration\\': 11197280000} id=\\'run-8bfa4d45-2b1a-431d-883c-b87937c4d663-1\\' usage_metadata={\\'input_tokens\\': 1353, \\'output_tokens\\': 443, \\'total_tokens\\': 1796}', additional_kwargs={}, response_metadata={'model': 'llama3.2', 'created_at': '2024-10-21T20:43:02.9859581Z', 'message': {'role': 'assistant', 'content': ''}, 'done_reason': 'stop', 'done': True, 'total_duration': 29641979600, 'load_duration': 25292900, 'prompt_eval_count': 1683, 'prompt_eval_duration': 1757050000, 'eval_count': 1066, 'eval_duration': 27840978000}, id='run-e0bee34f-1399-4e3b-801d-689f4ccd1a07-0', usage_metadata={'input_tokens': 1683, 'output_tokens': 1066, 'total_tokens': 2749})}"
      ]
     },
     "execution_count": 14,
     "metadata": {},
     "output_type": "execute_result"
    }
   ],
   "source": [
    "config = {\"configurable\": {\"thread_id\": 1}}\n",
    "\n",
    "msg = \"how to I view the data from the db table again?\"\n",
    "\n",
    "state = {\n",
    "  \"messages\": [HumanMessage(content=msg)]\n",
    "}\n",
    "\n",
    "graph.invoke(state, config)"
   ]
  },
  {
   "cell_type": "code",
   "execution_count": 13,
   "metadata": {},
   "outputs": [
    {
     "name": "stdout",
     "output_type": "stream",
     "text": [
      "[('checkpoints',), ('writes',)]\n"
     ]
    }
   ],
   "source": [
    "cursor = conn.cursor()\n",
    "cursor.execute(\"SELECT name FROM sqlite_master WHERE type='table'\")\n",
    "\n",
    "table_names_list = cursor.fetchall()\n",
    "\n",
    "print(table_names_list)\n",
    "\n",
    "cursor.execute(\"\")"
   ]
  },
  {
   "cell_type": "code",
   "execution_count": 25,
   "metadata": {},
   "outputs": [
    {
     "name": "stdout",
     "output_type": "stream",
     "text": [
      "('1', '', '1ef8febd-fd41-6f54-8001-5b1e99b2eede', '1ef8febd-9f05-6669-8000-aa2726a29a59', 'msgpack', b'\\x87\\xa1v\\x01\\xa2ts\\xd9 2024-10-21T20:34:30.708206+00:00\\xa2id\\xd9$1ef8febd-fd41-6f54-8001-5b1e99b2eede\\xaechannel_values\\x82\\xa8messages\\x92\\xc7\\xd8\\x05\\x94\\xbdlangchain_core.messages.human\\xacHumanMessage\\x87\\xa7content\\xd9$how do I print the data from the db?\\xb1additional_kwargs\\x80\\xb1response_metadata\\x80\\xa4type\\xa5human\\xa4name\\xc0\\xa2id\\xd9$ff264f70-bd2e-4307-a7e1-52ae7c501044\\xa7example\\xc2\\xb3model_validate_json\\xc8\\n\\x9b\\x05\\x94\\xbalangchain_core.messages.ai\\xa9AIMessage\\x8a\\xa7content\\xda\\x08\\x9fTo print data from a database, you\\'ll need to use an ORM (Object-Relational Mapping) tool or a direct query method depending on your programming language and the structure of your database. Here\\'s a general example using Python with SQLAlchemy (a popular ORM library):\\n\\n### Installing SQLAlchemy\\n\\nFirst, install SQLAlchemy if you haven\\'t already:\\n\\n```bash\\npip install sqlalchemy\\n```\\n\\n### Example Code\\n\\nHere is an example that shows how to create a connection to a SQLite database and print the data from a table named `users`.\\n\\n```python\\nfrom sqlalchemy import create_engine, Column, Integer, String\\nfrom sqlalchemy.ext.declarative import declarative_base\\nfrom sqlalchemy.orm import sessionmaker\\n\\n# Create a basic Engine class which will be used to connect to the database.\\nengine = create_engine(\\'sqlite:///example.db\\')\\n\\n# Create all tables in the engine. This is equivalent to \"Create Table\" in SQL.\\nBase = declarative_base()\\n\\nclass User(Base):\\n    __tablename__ = \\'users\\'\\n\\n    id = Column(Integer, primary_key=True)\\n    name = Column(String)\\n    age = Column(Integer)\\n\\n# Create all tables in the engine. This is equivalent to \"Create Table\" in SQL.\\nBase.metadata.create_all(engine)\\n\\n# Create a configured \"Session\" class\\nSession = sessionmaker(bind=engine)\\n\\n# Create a new session\\nsession = Session()\\n\\n# Query the database for users and print the results\\nusers = session.query(User).all()\\nfor user in users:\\n    print(f\\'ID: {user.id}, Name: {user.name}, Age: {user.age}\\')\\n```\\n\\n### Alternative Using Direct SQL\\n\\nAlternatively, if you\\'re using an older version of Python or prefer not to use ORM libraries, you can create a connection directly to the database and execute your query:\\n\\n```python\\nimport sqlite3\\n\\n# Create a connection to the database\\nconn = sqlite3.connect(\\'example.db\\')\\n\\n# Create a cursor object\\ncur = conn.cursor()\\n\\n# SQL query string\\nquery = \"\"\"\\n    SELECT id, name, age \\n    FROM users;\\n\"\"\"\\n\\n# Execute the SQL query and fetch all results\\ncur.execute(query)\\nresults = cur.fetchall()\\n\\nfor row in results:\\n    print(f\\'ID: {row[0]}, Name: {row[1]}, Age: {row[2]}\\')\\n\\n# Close the cursor and connection\\ncur.close()\\nconn.close()\\n```\\n\\nChoose the method that best fits your project\\'s requirements.\\xb1additional_kwargs\\x80\\xb1response_metadata\\x8b\\xa5model\\xa8llama3.2\\xaacreated_at\\xbb2024-10-21T20:34:30.698165Z\\xa7message\\x82\\xa4role\\xa9assistant\\xa7content\\xa0\\xabdone_reason\\xa4stop\\xa4done\\xc3\\xaetotal_duration\\xcf\\x00\\x00\\x00\\x02L+Q\\x08\\xadload_duration\\xce\\x01K\\x13x\\xb1prompt_eval_count#\\xb4prompt_eval_duration\\xce\\x04\\x8a\\xe7 \\xaaeval_count\\xcd\\x01\\xf1\\xadeval_duration\\xcf\\x00\\x00\\x00\\x02FBE\\xf8\\xa4type\\xa2ai\\xa4name\\xc0\\xa2id\\xd9*run-5b3b0742-ffe0-4908-9607-c25aba99efff-0\\xa7example\\xc2\\xaatool_calls\\x90\\xb2invalid_tool_calls\\x90\\xaeusage_metadata\\x83\\xacinput_tokens#\\xadoutput_tokens\\xcd\\x01\\xf1\\xactotal_tokens\\xcd\\x02\\x14\\xb3model_validate_json\\xa9conv_node\\xa9conv_node\\xb0channel_versions\\x84\\xa9__start__\\xd9400000000000000000000000000000002.0.49099402583564444\\xa8messages\\xd9400000000000000000000000000000003.0.09305757165427464\\xafstart:conv_node\\xd9200000000000000000000000000000003.0.987233654955017\\xa9conv_node\\xd9300000000000000000000000000000003.0.7812827265659209\\xadversions_seen\\x83\\xa9__input__\\x80\\xa9__start__\\x81\\xa9__start__\\xd9300000000000000000000000000000001.0.7554697426204262\\xa9conv_node\\x81\\xafstart:conv_node\\xd9300000000000000000000000000000002.0.2794637848719703\\xadpending_sends\\x90', b'{\"source\": \"loop\", \"writes\": {\"conv_node\": {\"messages\": {\"lc\": 1, \"type\": \"constructor\", \"id\": [\"langchain\", \"schema\", \"messages\", \"AIMessage\"], \"kwargs\": {\"content\": \"To print data from a database, you\\'ll need to use an ORM (Object-Relational Mapping) tool or a direct query method depending on your programming language and the structure of your database. Here\\'s a general example using Python with SQLAlchemy (a popular ORM library):\\\\n\\\\n### Installing SQLAlchemy\\\\n\\\\nFirst, install SQLAlchemy if you haven\\'t already:\\\\n\\\\n```bash\\\\npip install sqlalchemy\\\\n```\\\\n\\\\n### Example Code\\\\n\\\\nHere is an example that shows how to create a connection to a SQLite database and print the data from a table named `users`.\\\\n\\\\n```python\\\\nfrom sqlalchemy import create_engine, Column, Integer, String\\\\nfrom sqlalchemy.ext.declarative import declarative_base\\\\nfrom sqlalchemy.orm import sessionmaker\\\\n\\\\n# Create a basic Engine class which will be used to connect to the database.\\\\nengine = create_engine(\\'sqlite:///example.db\\')\\\\n\\\\n# Create all tables in the engine. This is equivalent to \\\\\"Create Table\\\\\" in SQL.\\\\nBase = declarative_base()\\\\n\\\\nclass User(Base):\\\\n    __tablename__ = \\'users\\'\\\\n\\\\n    id = Column(Integer, primary_key=True)\\\\n    name = Column(String)\\\\n    age = Column(Integer)\\\\n\\\\n# Create all tables in the engine. This is equivalent to \\\\\"Create Table\\\\\" in SQL.\\\\nBase.metadata.create_all(engine)\\\\n\\\\n# Create a configured \\\\\"Session\\\\\" class\\\\nSession = sessionmaker(bind=engine)\\\\n\\\\n# Create a new session\\\\nsession = Session()\\\\n\\\\n# Query the database for users and print the results\\\\nusers = session.query(User).all()\\\\nfor user in users:\\\\n    print(f\\'ID: {user.id}, Name: {user.name}, Age: {user.age}\\')\\\\n```\\\\n\\\\n### Alternative Using Direct SQL\\\\n\\\\nAlternatively, if you\\'re using an older version of Python or prefer not to use ORM libraries, you can create a connection directly to the database and execute your query:\\\\n\\\\n```python\\\\nimport sqlite3\\\\n\\\\n# Create a connection to the database\\\\nconn = sqlite3.connect(\\'example.db\\')\\\\n\\\\n# Create a cursor object\\\\ncur = conn.cursor()\\\\n\\\\n# SQL query string\\\\nquery = \\\\\"\\\\\"\\\\\"\\\\n    SELECT id, name, age \\\\n    FROM users;\\\\n\\\\\"\\\\\"\\\\\"\\\\n\\\\n# Execute the SQL query and fetch all results\\\\ncur.execute(query)\\\\nresults = cur.fetchall()\\\\n\\\\nfor row in results:\\\\n    print(f\\'ID: {row[0]}, Name: {row[1]}, Age: {row[2]}\\')\\\\n\\\\n# Close the cursor and connection\\\\ncur.close()\\\\nconn.close()\\\\n```\\\\n\\\\nChoose the method that best fits your project\\'s requirements.\", \"response_metadata\": {\"model\": \"llama3.2\", \"created_at\": \"2024-10-21T20:34:30.698165Z\", \"message\": {\"role\": \"assistant\", \"content\": \"\"}, \"done_reason\": \"stop\", \"done\": true, \"total_duration\": 9867841800, \"load_duration\": 21697400, \"prompt_eval_count\": 35, \"prompt_eval_duration\": 76212000, \"eval_count\": 497, \"eval_duration\": 9768683000}, \"type\": \"ai\", \"id\": \"run-5b3b0742-ffe0-4908-9607-c25aba99efff-0\", \"usage_metadata\": {\"input_tokens\": 35, \"output_tokens\": 497, \"total_tokens\": 532}, \"tool_calls\": [], \"invalid_tool_calls\": []}}}}, \"step\": 1, \"parents\": {}}')\n"
     ]
    }
   ],
   "source": [
    "cursor.execute(\"SELECT * FROM checkpoints\")\n",
    "\n",
    "rows_list = cursor.fetchall()\n",
    "print(rows_list[2])"
   ]
  }
 ],
 "metadata": {
  "kernelspec": {
   "display_name": "langgraph-course",
   "language": "python",
   "name": "python3"
  },
  "language_info": {
   "codemirror_mode": {
    "name": "ipython",
    "version": 3
   },
   "file_extension": ".py",
   "mimetype": "text/x-python",
   "name": "python",
   "nbconvert_exporter": "python",
   "pygments_lexer": "ipython3",
   "version": "3.11.10"
  }
 },
 "nbformat": 4,
 "nbformat_minor": 2
}
